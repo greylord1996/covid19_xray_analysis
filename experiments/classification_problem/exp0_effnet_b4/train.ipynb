{
 "cells": [
  {
   "cell_type": "markdown",
   "id": "0039a1f2",
   "metadata": {},
   "source": [
    "DEFINE \"PATH_TO_IMAGES\" on your local machine"
   ]
  },
  {
   "cell_type": "code",
   "execution_count": 1,
   "id": "0d455176",
   "metadata": {},
   "outputs": [],
   "source": [
    "import sys\n",
    "import os\n",
    "\n",
    "import pandas as pd\n",
    "\n",
    "import torch\n",
    "import torch.optim as optim\n",
    "import torch.nn as nn\n",
    "from torch.optim.lr_scheduler import ReduceLROnPlateau\n",
    "\n",
    "import pprint\n",
    "\n",
    "from warnings import filterwarnings\n",
    "filterwarnings(\"ignore\")\n",
    "\n",
    "sys.path.append(os.path.join(str(os.path.abspath('')), \"..\", \"..\", \"..\", \"..\", \"..\"))\n",
    "\n",
    "from src.classification.resNet_model import CovidResNetModel\n",
    "from src.classification.efficientNet_model import CovidEffnetModel\n",
    "from src.classification.generalized_clf import CovidGeneralModel\n",
    "from src.classification.train_one_epoch import train_one_epoch\n",
    "from src.classification.validate_func import valid_func\n",
    "from src.classification.classification_transforms import get_transform\n",
    "from src.classification.get_data_loaders import prepare_train_valid_dataloader"
   ]
  },
  {
   "cell_type": "code",
   "execution_count": 2,
   "id": "f70eedc9",
   "metadata": {},
   "outputs": [],
   "source": [
    "class CFG:\n",
    "    debug = False # change this to run on full data\n",
    "    \n",
    "    image_size = 512\n",
    "    target_columns = [\n",
    "        'Negative for Pneumonia',\n",
    "        'Typical Appearance',\n",
    "        'Indeterminate Appearance',\n",
    "        'Atypical Appearance'\n",
    "    ]\n",
    "    folds = [0, 1, 2, 3, 4]\n",
    "    \n",
    "    kernel_type = 'tf_efficientnet_b4_ns'\n",
    "    train_batch_size = 16\n",
    "    valid_batch_size = 24\n",
    "    \n",
    "    init_lr = 1e-3\n",
    "    weight_decay=0\n",
    "    \n",
    "    n_epochs = 20\n",
    "    num_workers = 4\n",
    "\n",
    "    use_amp=False\n",
    "    early_stop = 5\n",
    "\n",
    "    data_dir = PATH_TO_IMAGES # !!! DEFINE \"PATH_TO_IMAGES\" on your local machine\n",
    "    model_dir = f'weights/'\n",
    "    seed=42\n",
    "    "
   ]
  },
  {
   "cell_type": "code",
   "execution_count": 3,
   "id": "9644c549",
   "metadata": {},
   "outputs": [],
   "source": [
    "! mkdir $CFG.model_dir"
   ]
  },
  {
   "cell_type": "code",
   "execution_count": 4,
   "id": "155de77b",
   "metadata": {},
   "outputs": [],
   "source": [
    "df_train = pd.read_csv('../cross_validation_scheme/crossval_info/original_data/multi_label_problem.csv')\n",
    "df_train['image_name'] = df_train['image_id'].apply(lambda x: x.replace('_image', '.png'))\n",
    "df_train['file_path'] = df_train.image_name.apply(lambda x: os.path.join(CFG.data_dir, f'{x}'))\n",
    "if CFG.debug:\n",
    "    df_train = df_train.sample(frac=0.1)"
   ]
  },
  {
   "cell_type": "code",
   "execution_count": 5,
   "id": "c7a2b14a",
   "metadata": {},
   "outputs": [],
   "source": [
    "train_transform = get_transform(img_size=CFG.image_size, transform_type='try_new_strong')\n",
    "valid_transform = get_transform(img_size=CFG.image_size, transform_type='val')\n",
    "\n",
    "criterion = nn.BCEWithLogitsLoss()\n",
    "device = torch.device('cuda' if torch.cuda.is_available() else 'cpu')"
   ]
  },
  {
   "cell_type": "code",
   "execution_count": 6,
   "id": "46b4d0c1",
   "metadata": {},
   "outputs": [
    {
     "name": "stderr",
     "output_type": "stream",
     "text": [
      "\r",
      "  0%|          | 0/317 [00:00<?, ?it/s]"
     ]
    },
    {
     "name": "stdout",
     "output_type": "stream",
     "text": [
      "-----------------------------------------------------------------------------------------------------\n",
      "                                        FOLD:  0\n",
      "-----------------------------------------------------------------------------------------------------\n"
     ]
    },
    {
     "name": "stderr",
     "output_type": "stream",
     "text": [
      "loss: 0.47713, smth: 0.42403: 100%|██████████| 317/317 [01:52<00:00,  2.83it/s]\n",
      "loss: 0.42737, smth: 0.40772: 100%|██████████| 53/53 [00:07<00:00,  6.71it/s]\n"
     ]
    },
    {
     "name": "stdout",
     "output_type": "stream",
     "text": [
      "{'average_precision_train': 0.25716924236243693,\n",
      " 'average_precision_valid': 0.30586909179275185,\n",
      " 'epoch': 0,\n",
      " 'fold': 0,\n",
      " 'loss_train': 0.4590297140157561,\n",
      " 'loss_valid': 0.404657281794638,\n",
      " 'roc_auc_train': 0.6542507489913345,\n",
      " 'roc_auc_valid': 0.7424658334550189}\n",
      "roc_auc_max (0.000000 --> 0.742466). Saving model ...\n",
      "ap_max (0.000000 --> 0.305869). Saving model ...\n"
     ]
    },
    {
     "name": "stderr",
     "output_type": "stream",
     "text": [
      "loss: 0.33801, smth: 0.42622: 100%|██████████| 317/317 [01:52<00:00,  2.82it/s]\n",
      "loss: 0.52954, smth: 0.42291: 100%|██████████| 53/53 [00:07<00:00,  7.06it/s]\n",
      "  0%|          | 0/317 [00:00<?, ?it/s]"
     ]
    },
    {
     "name": "stdout",
     "output_type": "stream",
     "text": [
      "{'average_precision_train': 0.2884162630746102,\n",
      " 'average_precision_valid': 0.3021813875804059,\n",
      " 'epoch': 1,\n",
      " 'fold': 0,\n",
      " 'loss_train': 0.42126076097368065,\n",
      " 'loss_valid': 0.41821966868526533,\n",
      " 'roc_auc_train': 0.7057872217552077,\n",
      " 'roc_auc_valid': 0.7270303366696923}\n"
     ]
    },
    {
     "name": "stderr",
     "output_type": "stream",
     "text": [
      "loss: 0.42116, smth: 0.39945: 100%|██████████| 317/317 [01:52<00:00,  2.82it/s]\n",
      "loss: 0.52126, smth: 0.39855: 100%|██████████| 53/53 [00:07<00:00,  7.15it/s]\n"
     ]
    },
    {
     "name": "stdout",
     "output_type": "stream",
     "text": [
      "{'average_precision_train': 0.30119356139103143,\n",
      " 'average_precision_valid': 0.32550007690329535,\n",
      " 'epoch': 2,\n",
      " 'fold': 0,\n",
      " 'loss_train': 0.40943266554773794,\n",
      " 'loss_valid': 0.3941060141572412,\n",
      " 'roc_auc_train': 0.7192553865658983,\n",
      " 'roc_auc_valid': 0.7600272483677541}\n",
      "roc_auc_max (0.742466 --> 0.760027). Saving model ...\n"
     ]
    },
    {
     "name": "stderr",
     "output_type": "stream",
     "text": [
      "\r",
      "  0%|          | 0/317 [00:00<?, ?it/s]"
     ]
    },
    {
     "name": "stdout",
     "output_type": "stream",
     "text": [
      "ap_max (0.305869 --> 0.325500). Saving model ...\n"
     ]
    },
    {
     "name": "stderr",
     "output_type": "stream",
     "text": [
      "loss: 0.41515, smth: 0.38568: 100%|██████████| 317/317 [01:54<00:00,  2.78it/s]\n",
      "loss: 0.47178, smth: 0.39274: 100%|██████████| 53/53 [00:07<00:00,  7.12it/s]\n",
      "  0%|          | 0/317 [00:00<?, ?it/s]"
     ]
    },
    {
     "name": "stdout",
     "output_type": "stream",
     "text": [
      "{'average_precision_train': 0.30455878343731535,\n",
      " 'average_precision_valid': 0.31786273657037417,\n",
      " 'epoch': 3,\n",
      " 'fold': 0,\n",
      " 'loss_train': 0.40661810117565117,\n",
      " 'loss_valid': 0.39056638529840504,\n",
      " 'roc_auc_train': 0.7355058857032183,\n",
      " 'roc_auc_valid': 0.7566798684938298}\n"
     ]
    },
    {
     "name": "stderr",
     "output_type": "stream",
     "text": [
      "loss: 0.36342, smth: 0.40163: 100%|██████████| 317/317 [01:54<00:00,  2.78it/s]\n",
      "loss: 0.49010, smth: 0.47774: 100%|██████████| 53/53 [00:08<00:00,  6.34it/s]\n",
      "  0%|          | 0/317 [00:00<?, ?it/s]"
     ]
    },
    {
     "name": "stdout",
     "output_type": "stream",
     "text": [
      "{'average_precision_train': 0.3076566013887194,\n",
      " 'average_precision_valid': 0.31215957156255386,\n",
      " 'epoch': 4,\n",
      " 'fold': 0,\n",
      " 'loss_train': 0.4044463898669282,\n",
      " 'loss_valid': 0.47251962434570743,\n",
      " 'roc_auc_train': 0.7386146262292534,\n",
      " 'roc_auc_valid': 0.7309599327883581}\n"
     ]
    },
    {
     "name": "stderr",
     "output_type": "stream",
     "text": [
      "loss: 0.43336, smth: 0.40458: 100%|██████████| 317/317 [01:56<00:00,  2.73it/s]\n",
      "loss: 0.47222, smth: 0.39398: 100%|██████████| 53/53 [00:07<00:00,  7.10it/s]\n"
     ]
    },
    {
     "name": "stdout",
     "output_type": "stream",
     "text": [
      "Epoch     6: reducing learning rate of group 0 to 1.0000e-04.\n",
      "{'average_precision_train': 0.310474132252365,\n",
      " 'average_precision_valid': 0.33344836461786764,\n",
      " 'epoch': 5,\n",
      " 'fold': 0,\n",
      " 'loss_train': 0.4037538168464173,\n",
      " 'loss_valid': 0.39533070629497746,\n",
      " 'roc_auc_train': 0.7446375780899791,\n",
      " 'roc_auc_valid': 0.7732220198161681}\n",
      "roc_auc_max (0.760027 --> 0.773222). Saving model ...\n",
      "ap_max (0.325500 --> 0.333448). Saving model ...\n"
     ]
    },
    {
     "name": "stderr",
     "output_type": "stream",
     "text": [
      "loss: 0.44957, smth: 0.37024: 100%|██████████| 317/317 [01:52<00:00,  2.82it/s]\n",
      "loss: 0.55037, smth: 0.38697: 100%|██████████| 53/53 [00:07<00:00,  7.07it/s]\n"
     ]
    },
    {
     "name": "stdout",
     "output_type": "stream",
     "text": [
      "{'average_precision_train': 0.336431244027805,\n",
      " 'average_precision_valid': 0.34003563144718135,\n",
      " 'epoch': 6,\n",
      " 'fold': 0,\n",
      " 'loss_train': 0.38167094469822543,\n",
      " 'loss_valid': 0.3801473947066181,\n",
      " 'roc_auc_train': 0.7742051681785818,\n",
      " 'roc_auc_valid': 0.7835496990820474}\n",
      "roc_auc_max (0.773222 --> 0.783550). Saving model ...\n"
     ]
    },
    {
     "name": "stderr",
     "output_type": "stream",
     "text": [
      "\r",
      "  0%|          | 0/317 [00:00<?, ?it/s]"
     ]
    },
    {
     "name": "stdout",
     "output_type": "stream",
     "text": [
      "ap_max (0.333448 --> 0.340036). Saving model ...\n"
     ]
    },
    {
     "name": "stderr",
     "output_type": "stream",
     "text": [
      "loss: 0.52343, smth: 0.38482: 100%|██████████| 317/317 [01:52<00:00,  2.83it/s]\n",
      "loss: 0.56440, smth: 0.38879: 100%|██████████| 53/53 [00:07<00:00,  7.11it/s]\n"
     ]
    },
    {
     "name": "stdout",
     "output_type": "stream",
     "text": [
      "{'average_precision_train': 0.34225772175521496,\n",
      " 'average_precision_valid': 0.34401785739458496,\n",
      " 'epoch': 7,\n",
      " 'fold': 0,\n",
      " 'loss_train': 0.3763946354013136,\n",
      " 'loss_valid': 0.3810420612681587,\n",
      " 'roc_auc_train': 0.7848280146229658,\n",
      " 'roc_auc_valid': 0.7871585870774573}\n",
      "roc_auc_max (0.783550 --> 0.787159). Saving model ...\n",
      "ap_max (0.340036 --> 0.344018). Saving model ...\n"
     ]
    },
    {
     "name": "stderr",
     "output_type": "stream",
     "text": [
      "loss: 0.36704, smth: 0.38147: 100%|██████████| 317/317 [01:53<00:00,  2.79it/s]\n",
      "loss: 0.55043, smth: 0.38330: 100%|██████████| 53/53 [00:07<00:00,  7.09it/s]\n"
     ]
    },
    {
     "name": "stdout",
     "output_type": "stream",
     "text": [
      "{'average_precision_train': 0.3457778602753678,\n",
      " 'average_precision_valid': 0.3509719038932066,\n",
      " 'epoch': 8,\n",
      " 'fold': 0,\n",
      " 'loss_train': 0.3748130087596761,\n",
      " 'loss_valid': 0.3745212644900916,\n",
      " 'roc_auc_train': 0.7895688494964049,\n",
      " 'roc_auc_valid': 0.7918913721022864}\n",
      "roc_auc_max (0.787159 --> 0.791891). Saving model ...\n"
     ]
    },
    {
     "name": "stderr",
     "output_type": "stream",
     "text": [
      "\r",
      "  0%|          | 0/317 [00:00<?, ?it/s]"
     ]
    },
    {
     "name": "stdout",
     "output_type": "stream",
     "text": [
      "ap_max (0.344018 --> 0.350972). Saving model ...\n"
     ]
    },
    {
     "name": "stderr",
     "output_type": "stream",
     "text": [
      "loss: 0.35328, smth: 0.36429: 100%|██████████| 317/317 [01:52<00:00,  2.82it/s]\n",
      "loss: 0.56339, smth: 0.38305: 100%|██████████| 53/53 [00:07<00:00,  7.36it/s]\n"
     ]
    },
    {
     "name": "stdout",
     "output_type": "stream",
     "text": [
      "{'average_precision_train': 0.35595945775939425,\n",
      " 'average_precision_valid': 0.351488481866707,\n",
      " 'epoch': 9,\n",
      " 'fold': 0,\n",
      " 'loss_train': 0.3689817398880558,\n",
      " 'loss_valid': 0.3774421690207607,\n",
      " 'roc_auc_train': 0.7965008605516428,\n",
      " 'roc_auc_valid': 0.7953844712858322}\n",
      "roc_auc_max (0.791891 --> 0.795384). Saving model ...\n",
      "ap_max (0.350972 --> 0.351488). Saving model ...\n"
     ]
    },
    {
     "name": "stderr",
     "output_type": "stream",
     "text": [
      "loss: 0.52283, smth: 0.36250: 100%|██████████| 317/317 [01:53<00:00,  2.79it/s]\n",
      "loss: 0.56400, smth: 0.38007: 100%|██████████| 53/53 [00:08<00:00,  6.43it/s]\n"
     ]
    },
    {
     "name": "stdout",
     "output_type": "stream",
     "text": [
      "{'average_precision_train': 0.35838431733253223,\n",
      " 'average_precision_valid': 0.3635932482703374,\n",
      " 'epoch': 10,\n",
      " 'fold': 0,\n",
      " 'loss_train': 0.36488436806465174,\n",
      " 'loss_valid': 0.36924768028394234,\n",
      " 'roc_auc_train': 0.8034908791267279,\n",
      " 'roc_auc_valid': 0.8022054212174499}\n",
      "roc_auc_max (0.795384 --> 0.802205). Saving model ...\n"
     ]
    },
    {
     "name": "stderr",
     "output_type": "stream",
     "text": [
      "\r",
      "  0%|          | 0/317 [00:00<?, ?it/s]"
     ]
    },
    {
     "name": "stdout",
     "output_type": "stream",
     "text": [
      "ap_max (0.351488 --> 0.363593). Saving model ...\n"
     ]
    },
    {
     "name": "stderr",
     "output_type": "stream",
     "text": [
      "loss: 0.41777, smth: 0.36255: 100%|██████████| 317/317 [02:04<00:00,  2.54it/s]\n",
      "loss: 0.59503, smth: 0.38418: 100%|██████████| 53/53 [00:08<00:00,  6.43it/s]\n"
     ]
    },
    {
     "name": "stdout",
     "output_type": "stream",
     "text": [
      "{'average_precision_train': 0.3609071636177619,\n",
      " 'average_precision_valid': 0.36372560545891486,\n",
      " 'epoch': 11,\n",
      " 'fold': 0,\n",
      " 'loss_train': 0.3613742070055158,\n",
      " 'loss_valid': 0.3750664991027904,\n",
      " 'roc_auc_train': 0.8103890627934022,\n",
      " 'roc_auc_valid': 0.8030355468909254}\n",
      "roc_auc_max (0.802205 --> 0.803036). Saving model ...\n",
      "ap_max (0.363593 --> 0.363726). Saving model ...\n"
     ]
    },
    {
     "name": "stderr",
     "output_type": "stream",
     "text": [
      "loss: 0.21716, smth: 0.33019: 100%|██████████| 317/317 [02:05<00:00,  2.52it/s]\n",
      "loss: 0.55023, smth: 0.38520: 100%|██████████| 53/53 [00:08<00:00,  6.40it/s]\n",
      "  0%|          | 0/317 [00:00<?, ?it/s]"
     ]
    },
    {
     "name": "stdout",
     "output_type": "stream",
     "text": [
      "Epoch    13: reducing learning rate of group 0 to 1.0000e-05.\n",
      "{'average_precision_train': 0.3737781643247528,\n",
      " 'average_precision_valid': 0.3640139228140318,\n",
      " 'epoch': 12,\n",
      " 'fold': 0,\n",
      " 'loss_train': 0.35841270063765795,\n",
      " 'loss_valid': 0.37587024187141993,\n",
      " 'roc_auc_train': 0.8121389337314577,\n",
      " 'roc_auc_valid': 0.8001680094003678}\n",
      "ap_max (0.363726 --> 0.364014). Saving model ...\n"
     ]
    },
    {
     "name": "stderr",
     "output_type": "stream",
     "text": [
      "loss: 0.25887, smth: 0.34602: 100%|██████████| 317/317 [01:52<00:00,  2.81it/s]\n",
      "loss: 0.55218, smth: 0.38112: 100%|██████████| 53/53 [00:07<00:00,  7.03it/s]\n",
      "  0%|          | 0/317 [00:00<?, ?it/s]"
     ]
    },
    {
     "name": "stdout",
     "output_type": "stream",
     "text": [
      "{'average_precision_train': 0.37631605956956804,\n",
      " 'average_precision_valid': 0.3649106167228604,\n",
      " 'epoch': 13,\n",
      " 'fold': 0,\n",
      " 'loss_train': 0.35661449713473814,\n",
      " 'loss_valid': 0.37178163005495973,\n",
      " 'roc_auc_train': 0.815586805740518,\n",
      " 'roc_auc_valid': 0.8016957729226435}\n",
      "ap_max (0.364014 --> 0.364911). Saving model ...\n"
     ]
    },
    {
     "name": "stderr",
     "output_type": "stream",
     "text": [
      "loss: 0.35907, smth: 0.34479: 100%|██████████| 317/317 [01:52<00:00,  2.82it/s]\n",
      "loss: 0.54367, smth: 0.37869: 100%|██████████| 53/53 [00:07<00:00,  7.06it/s]\n"
     ]
    },
    {
     "name": "stdout",
     "output_type": "stream",
     "text": [
      "Epoch    15: reducing learning rate of group 0 to 1.0000e-06.\n",
      "{'average_precision_train': 0.3855240740695085,\n",
      " 'average_precision_valid': 0.36643163321762545,\n",
      " 'epoch': 14,\n",
      " 'fold': 0,\n",
      " 'loss_train': 0.35219212957549173,\n",
      " 'loss_valid': 0.3701089539055554,\n",
      " 'roc_auc_train': 0.8238449946795093,\n",
      " 'roc_auc_valid': 0.8030437277540607}\n",
      "roc_auc_max (0.803036 --> 0.803044). Saving model ...\n",
      "ap_max (0.364911 --> 0.366432). Saving model ...\n"
     ]
    },
    {
     "name": "stderr",
     "output_type": "stream",
     "text": [
      "loss: 0.49374, smth: 0.36110: 100%|██████████| 317/317 [01:52<00:00,  2.81it/s]\n",
      "loss: 0.53399, smth: 0.37701: 100%|██████████| 53/53 [00:07<00:00,  7.05it/s]\n",
      "  0%|          | 0/317 [00:00<?, ?it/s]"
     ]
    },
    {
     "name": "stdout",
     "output_type": "stream",
     "text": [
      "{'average_precision_train': 0.38172045755474615,\n",
      " 'average_precision_valid': 0.3657780402168957,\n",
      " 'epoch': 15,\n",
      " 'fold': 0,\n",
      " 'loss_train': 0.3540316621775883,\n",
      " 'loss_valid': 0.36925619137736987,\n",
      " 'roc_auc_train': 0.8198421274170302,\n",
      " 'roc_auc_valid': 0.8029062158260354}\n"
     ]
    },
    {
     "name": "stderr",
     "output_type": "stream",
     "text": [
      "loss: 0.40631, smth: 0.34978: 100%|██████████| 317/317 [01:52<00:00,  2.82it/s]\n",
      "loss: 0.53317, smth: 0.38312: 100%|██████████| 53/53 [00:07<00:00,  7.11it/s]\n",
      "  0%|          | 0/317 [00:00<?, ?it/s]"
     ]
    },
    {
     "name": "stdout",
     "output_type": "stream",
     "text": [
      "{'average_precision_train': 0.38875753993476353,\n",
      " 'average_precision_valid': 0.36557814008260237,\n",
      " 'epoch': 16,\n",
      " 'fold': 0,\n",
      " 'loss_train': 0.34725996226730405,\n",
      " 'loss_valid': 0.3756740939504695,\n",
      " 'roc_auc_train': 0.8288127355203662,\n",
      " 'roc_auc_valid': 0.8008014102032197}\n"
     ]
    },
    {
     "name": "stderr",
     "output_type": "stream",
     "text": [
      "loss: 0.24118, smth: 0.33988: 100%|██████████| 317/317 [01:52<00:00,  2.81it/s]\n",
      "loss: 0.53884, smth: 0.37814: 100%|██████████| 53/53 [00:07<00:00,  7.11it/s]\n",
      "  0%|          | 0/317 [00:00<?, ?it/s]"
     ]
    },
    {
     "name": "stdout",
     "output_type": "stream",
     "text": [
      "{'average_precision_train': 0.3869570877128096,\n",
      " 'average_precision_valid': 0.3658680544093573,\n",
      " 'epoch': 17,\n",
      " 'fold': 0,\n",
      " 'loss_train': 0.35096116392206317,\n",
      " 'loss_valid': 0.3706844002008438,\n",
      " 'roc_auc_train': 0.8238442870499328,\n",
      " 'roc_auc_valid': 0.8028686780819989}\n"
     ]
    },
    {
     "name": "stderr",
     "output_type": "stream",
     "text": [
      "loss: 0.29990, smth: 0.32188: 100%|██████████| 317/317 [01:52<00:00,  2.81it/s]\n",
      "loss: 0.53473, smth: 0.38068: 100%|██████████| 53/53 [00:07<00:00,  6.94it/s]\n",
      "  0%|          | 0/317 [00:00<?, ?it/s]"
     ]
    },
    {
     "name": "stdout",
     "output_type": "stream",
     "text": [
      "{'average_precision_train': 0.3833424122539293,\n",
      " 'average_precision_valid': 0.3659031775644986,\n",
      " 'epoch': 18,\n",
      " 'fold': 0,\n",
      " 'loss_train': 0.3515543130105978,\n",
      " 'loss_valid': 0.3726469708501168,\n",
      " 'roc_auc_train': 0.8224636485385307,\n",
      " 'roc_auc_valid': 0.8014971089980121}\n"
     ]
    },
    {
     "name": "stderr",
     "output_type": "stream",
     "text": [
      "loss: 0.24463, smth: 0.36304: 100%|██████████| 317/317 [01:52<00:00,  2.82it/s]\n",
      "loss: 0.53773, smth: 0.38207: 100%|██████████| 53/53 [00:07<00:00,  7.14it/s]\n"
     ]
    },
    {
     "name": "stdout",
     "output_type": "stream",
     "text": [
      "{'average_precision_train': 0.38725084010228067,\n",
      " 'average_precision_valid': 0.36535521093706186,\n",
      " 'epoch': 19,\n",
      " 'fold': 0,\n",
      " 'loss_train': 0.35132483686746485,\n",
      " 'loss_valid': 0.3745838302486348,\n",
      " 'roc_auc_train': 0.8220011477032192,\n",
      " 'roc_auc_valid': 0.8011639470520924}\n",
      "Early Stopping...\n"
     ]
    },
    {
     "name": "stderr",
     "output_type": "stream",
     "text": [
      "\r",
      "  0%|          | 0/317 [00:00<?, ?it/s]"
     ]
    },
    {
     "name": "stdout",
     "output_type": "stream",
     "text": [
      "-----------------------------------------------------------------------------------------------------\n",
      "                                        FOLD:  1\n",
      "-----------------------------------------------------------------------------------------------------\n"
     ]
    },
    {
     "name": "stderr",
     "output_type": "stream",
     "text": [
      "loss: 0.29982, smth: 0.41347: 100%|██████████| 317/317 [01:52<00:00,  2.82it/s]\n",
      "loss: 0.39398, smth: 0.43196: 100%|██████████| 53/53 [00:07<00:00,  7.14it/s]\n"
     ]
    },
    {
     "name": "stdout",
     "output_type": "stream",
     "text": [
      "{'average_precision_train': 0.26183240234449984,\n",
      " 'average_precision_valid': 0.31352490211713807,\n",
      " 'epoch': 0,\n",
      " 'fold': 1,\n",
      " 'loss_train': 0.45674511475329893,\n",
      " 'loss_valid': 0.4259713961268371,\n",
      " 'roc_auc_train': 0.6586545164339176,\n",
      " 'roc_auc_valid': 0.7338925275866901}\n",
      "roc_auc_max (0.000000 --> 0.733893). Saving model ...\n",
      "ap_max (0.000000 --> 0.313525). Saving model ...\n"
     ]
    },
    {
     "name": "stderr",
     "output_type": "stream",
     "text": [
      "loss: 0.37423, smth: 0.41104: 100%|██████████| 317/317 [01:55<00:00,  2.74it/s]\n",
      "loss: 0.33109, smth: 0.41336: 100%|██████████| 53/53 [00:07<00:00,  7.12it/s]\n",
      "  0%|          | 0/317 [00:00<?, ?it/s]"
     ]
    },
    {
     "name": "stdout",
     "output_type": "stream",
     "text": [
      "{'average_precision_train': 0.283954373632905,\n",
      " 'average_precision_valid': 0.3124801100951465,\n",
      " 'epoch': 1,\n",
      " 'fold': 1,\n",
      " 'loss_train': 0.4255914358122492,\n",
      " 'loss_valid': 0.4091739457733226,\n",
      " 'roc_auc_train': 0.6947686589599802,\n",
      " 'roc_auc_valid': 0.724691689802155}\n"
     ]
    },
    {
     "name": "stderr",
     "output_type": "stream",
     "text": [
      "loss: 0.39261, smth: 0.41532: 100%|██████████| 317/317 [01:53<00:00,  2.78it/s]\n",
      "loss: 0.28825, smth: 0.39272: 100%|██████████| 53/53 [00:07<00:00,  6.79it/s]\n"
     ]
    },
    {
     "name": "stdout",
     "output_type": "stream",
     "text": [
      "{'average_precision_train': 0.29431187367713746,\n",
      " 'average_precision_valid': 0.3291125229131242,\n",
      " 'epoch': 2,\n",
      " 'fold': 1,\n",
      " 'loss_train': 0.415821375530977,\n",
      " 'loss_valid': 0.3892020836191357,\n",
      " 'roc_auc_train': 0.7145163660883327,\n",
      " 'roc_auc_valid': 0.7624448806325312}\n",
      "roc_auc_max (0.733893 --> 0.762445). Saving model ...\n"
     ]
    },
    {
     "name": "stderr",
     "output_type": "stream",
     "text": [
      "\r",
      "  0%|          | 0/317 [00:00<?, ?it/s]"
     ]
    },
    {
     "name": "stdout",
     "output_type": "stream",
     "text": [
      "ap_max (0.313525 --> 0.329113). Saving model ...\n"
     ]
    },
    {
     "name": "stderr",
     "output_type": "stream",
     "text": [
      "loss: 0.43306, smth: 0.40569: 100%|██████████| 317/317 [01:56<00:00,  2.72it/s]\n",
      "loss: 0.30437, smth: 0.39821: 100%|██████████| 53/53 [00:07<00:00,  7.04it/s]\n",
      "  0%|          | 0/317 [00:00<?, ?it/s]"
     ]
    },
    {
     "name": "stdout",
     "output_type": "stream",
     "text": [
      "{'average_precision_train': 0.3008245423602488,\n",
      " 'average_precision_valid': 0.33154048176509027,\n",
      " 'epoch': 3,\n",
      " 'fold': 1,\n",
      " 'loss_train': 0.4090611934191797,\n",
      " 'loss_valid': 0.39794902700298235,\n",
      " 'roc_auc_train': 0.7246876544795204,\n",
      " 'roc_auc_valid': 0.7501696270848717}\n",
      "ap_max (0.329113 --> 0.331540). Saving model ...\n"
     ]
    },
    {
     "name": "stderr",
     "output_type": "stream",
     "text": [
      "loss: 0.22388, smth: 0.40420: 100%|██████████| 317/317 [01:52<00:00,  2.82it/s]\n",
      "loss: 0.30961, smth: 0.38994: 100%|██████████| 53/53 [00:07<00:00,  7.12it/s]\n",
      "  0%|          | 0/317 [00:00<?, ?it/s]"
     ]
    },
    {
     "name": "stdout",
     "output_type": "stream",
     "text": [
      "Epoch     5: reducing learning rate of group 0 to 1.0000e-04.\n",
      "{'average_precision_train': 0.30712853640400467,\n",
      " 'average_precision_valid': 0.3242503751436786,\n",
      " 'epoch': 4,\n",
      " 'fold': 1,\n",
      " 'loss_train': 0.4051817234852337,\n",
      " 'loss_valid': 0.3930559608171571,\n",
      " 'roc_auc_train': 0.7374080078394936,\n",
      " 'roc_auc_valid': 0.7511493362125217}\n"
     ]
    },
    {
     "name": "stderr",
     "output_type": "stream",
     "text": [
      "loss: 0.38922, smth: 0.40732: 100%|██████████| 317/317 [01:52<00:00,  2.82it/s]\n",
      "loss: 0.25933, smth: 0.37186: 100%|██████████| 53/53 [00:07<00:00,  7.08it/s]\n"
     ]
    },
    {
     "name": "stdout",
     "output_type": "stream",
     "text": [
      "{'average_precision_train': 0.3264996693975964,\n",
      " 'average_precision_valid': 0.3541589370676152,\n",
      " 'epoch': 5,\n",
      " 'fold': 1,\n",
      " 'loss_train': 0.3877392763783127,\n",
      " 'loss_valid': 0.37475800429874995,\n",
      " 'roc_auc_train': 0.7644496781664702,\n",
      " 'roc_auc_valid': 0.7885935294604373}\n",
      "roc_auc_max (0.762445 --> 0.788594). Saving model ...\n"
     ]
    },
    {
     "name": "stderr",
     "output_type": "stream",
     "text": [
      "\r",
      "  0%|          | 0/317 [00:00<?, ?it/s]"
     ]
    },
    {
     "name": "stdout",
     "output_type": "stream",
     "text": [
      "ap_max (0.331540 --> 0.354159). Saving model ...\n"
     ]
    },
    {
     "name": "stderr",
     "output_type": "stream",
     "text": [
      "loss: 0.36038, smth: 0.38135: 100%|██████████| 317/317 [01:52<00:00,  2.81it/s]\n",
      "loss: 0.25012, smth: 0.36973: 100%|██████████| 53/53 [00:07<00:00,  7.10it/s]\n"
     ]
    },
    {
     "name": "stdout",
     "output_type": "stream",
     "text": [
      "{'average_precision_train': 0.33618688197660257,\n",
      " 'average_precision_valid': 0.358450788723427,\n",
      " 'epoch': 6,\n",
      " 'fold': 1,\n",
      " 'loss_train': 0.3802187826825241,\n",
      " 'loss_valid': 0.37259057220423,\n",
      " 'roc_auc_train': 0.779341478512418,\n",
      " 'roc_auc_valid': 0.7916150462478546}\n",
      "roc_auc_max (0.788594 --> 0.791615). Saving model ...\n"
     ]
    },
    {
     "name": "stderr",
     "output_type": "stream",
     "text": [
      "\r",
      "  0%|          | 0/317 [00:00<?, ?it/s]"
     ]
    },
    {
     "name": "stdout",
     "output_type": "stream",
     "text": [
      "ap_max (0.354159 --> 0.358451). Saving model ...\n"
     ]
    },
    {
     "name": "stderr",
     "output_type": "stream",
     "text": [
      "loss: 0.30056, smth: 0.34984: 100%|██████████| 317/317 [01:52<00:00,  2.82it/s]\n",
      "loss: 0.25364, smth: 0.36382: 100%|██████████| 53/53 [00:07<00:00,  7.10it/s]\n"
     ]
    },
    {
     "name": "stdout",
     "output_type": "stream",
     "text": [
      "{'average_precision_train': 0.34049731161659885,\n",
      " 'average_precision_valid': 0.36411938451860354,\n",
      " 'epoch': 7,\n",
      " 'fold': 1,\n",
      " 'loss_train': 0.37621333673361346,\n",
      " 'loss_valid': 0.36568902685957133,\n",
      " 'roc_auc_train': 0.7866796643576636,\n",
      " 'roc_auc_valid': 0.8020315200055201}\n",
      "roc_auc_max (0.791615 --> 0.802032). Saving model ...\n"
     ]
    },
    {
     "name": "stderr",
     "output_type": "stream",
     "text": [
      "\r",
      "  0%|          | 0/317 [00:00<?, ?it/s]"
     ]
    },
    {
     "name": "stdout",
     "output_type": "stream",
     "text": [
      "ap_max (0.358451 --> 0.364119). Saving model ...\n"
     ]
    },
    {
     "name": "stderr",
     "output_type": "stream",
     "text": [
      "loss: 0.35250, smth: 0.35880: 100%|██████████| 317/317 [01:52<00:00,  2.82it/s]\n",
      "loss: 0.23322, smth: 0.36425: 100%|██████████| 53/53 [00:07<00:00,  7.06it/s]\n"
     ]
    },
    {
     "name": "stdout",
     "output_type": "stream",
     "text": [
      "{'average_precision_train': 0.3421389794225374,\n",
      " 'average_precision_valid': 0.36517964478953374,\n",
      " 'epoch': 8,\n",
      " 'fold': 1,\n",
      " 'loss_train': 0.37564719748045744,\n",
      " 'loss_valid': 0.36679826058306786,\n",
      " 'roc_auc_train': 0.788462491736935,\n",
      " 'roc_auc_valid': 0.8034003613462434}\n",
      "roc_auc_max (0.802032 --> 0.803400). Saving model ...\n",
      "ap_max (0.364119 --> 0.365180). Saving model ...\n"
     ]
    },
    {
     "name": "stderr",
     "output_type": "stream",
     "text": [
      "loss: 0.44306, smth: 0.37933: 100%|██████████| 317/317 [01:51<00:00,  2.83it/s]\n",
      "loss: 0.21367, smth: 0.37023: 100%|██████████| 53/53 [00:07<00:00,  7.09it/s]\n",
      "  0%|          | 0/317 [00:00<?, ?it/s]"
     ]
    },
    {
     "name": "stdout",
     "output_type": "stream",
     "text": [
      "Epoch    10: reducing learning rate of group 0 to 1.0000e-05.\n",
      "{'average_precision_train': 0.35685173358268313,\n",
      " 'average_precision_valid': 0.36099465368854616,\n",
      " 'epoch': 9,\n",
      " 'fold': 1,\n",
      " 'loss_train': 0.3678166046973659,\n",
      " 'loss_valid': 0.37528475331810285,\n",
      " 'roc_auc_train': 0.797136918290294,\n",
      " 'roc_auc_valid': 0.8025789137991977}\n"
     ]
    },
    {
     "name": "stderr",
     "output_type": "stream",
     "text": [
      "loss: 0.38405, smth: 0.35667: 100%|██████████| 317/317 [01:52<00:00,  2.83it/s]\n",
      "loss: 0.21232, smth: 0.36571: 100%|██████████| 53/53 [00:07<00:00,  7.12it/s]\n",
      "  0%|          | 0/317 [00:00<?, ?it/s]"
     ]
    },
    {
     "name": "stdout",
     "output_type": "stream",
     "text": [
      "{'average_precision_train': 0.3613005466471295,\n",
      " 'average_precision_valid': 0.36289377859261,\n",
      " 'epoch': 10,\n",
      " 'fold': 1,\n",
      " 'loss_train': 0.36504558344556703,\n",
      " 'loss_valid': 0.36998866498470306,\n",
      " 'roc_auc_train': 0.8033956990805503,\n",
      " 'roc_auc_valid': 0.8030615339457217}\n"
     ]
    },
    {
     "name": "stderr",
     "output_type": "stream",
     "text": [
      "loss: 0.45626, smth: 0.36533: 100%|██████████| 317/317 [01:52<00:00,  2.81it/s]\n",
      "loss: 0.21259, smth: 0.36151: 100%|██████████| 53/53 [00:07<00:00,  7.08it/s]\n"
     ]
    },
    {
     "name": "stdout",
     "output_type": "stream",
     "text": [
      "Epoch    12: reducing learning rate of group 0 to 1.0000e-06.\n",
      "{'average_precision_train': 0.3596352067680955,\n",
      " 'average_precision_valid': 0.36600122822570763,\n",
      " 'epoch': 11,\n",
      " 'fold': 1,\n",
      " 'loss_train': 0.3639770325049993,\n",
      " 'loss_valid': 0.36624957255597385,\n",
      " 'roc_auc_train': 0.806596045779434,\n",
      " 'roc_auc_valid': 0.8042063576725635}\n",
      "roc_auc_max (0.803400 --> 0.804206). Saving model ...\n",
      "ap_max (0.365180 --> 0.366001). Saving model ...\n"
     ]
    },
    {
     "name": "stderr",
     "output_type": "stream",
     "text": [
      "loss: 0.44146, smth: 0.33624: 100%|██████████| 317/317 [01:52<00:00,  2.81it/s]\n",
      "loss: 0.21206, smth: 0.36050: 100%|██████████| 53/53 [00:07<00:00,  7.06it/s]\n"
     ]
    },
    {
     "name": "stdout",
     "output_type": "stream",
     "text": [
      "{'average_precision_train': 0.3635285859358606,\n",
      " 'average_precision_valid': 0.36503114531926384,\n",
      " 'epoch': 12,\n",
      " 'fold': 1,\n",
      " 'loss_train': 0.3620939841875895,\n",
      " 'loss_valid': 0.3651133933157291,\n",
      " 'roc_auc_train': 0.810179688514959,\n",
      " 'roc_auc_valid': 0.804993409240762}\n",
      "roc_auc_max (0.804206 --> 0.804993). Saving model ...\n"
     ]
    },
    {
     "name": "stderr",
     "output_type": "stream",
     "text": [
      "loss: 0.43992, smth: 0.35518: 100%|██████████| 317/317 [01:52<00:00,  2.81it/s]\n",
      "loss: 0.21062, smth: 0.36501: 100%|██████████| 53/53 [00:08<00:00,  6.45it/s]\n",
      "  0%|          | 0/317 [00:00<?, ?it/s]"
     ]
    },
    {
     "name": "stdout",
     "output_type": "stream",
     "text": [
      "{'average_precision_train': 0.36515449099210934,\n",
      " 'average_precision_valid': 0.36512446094972933,\n",
      " 'epoch': 13,\n",
      " 'fold': 1,\n",
      " 'loss_train': 0.3614895100285202,\n",
      " 'loss_valid': 0.3685425123516119,\n",
      " 'roc_auc_train': 0.8123894542746565,\n",
      " 'roc_auc_valid': 0.8021960738022738}\n"
     ]
    },
    {
     "name": "stderr",
     "output_type": "stream",
     "text": [
      "loss: 0.72935, smth: 0.39042: 100%|██████████| 317/317 [01:52<00:00,  2.83it/s]\n",
      "loss: 0.20565, smth: 0.36994: 100%|██████████| 53/53 [00:07<00:00,  7.10it/s]\n",
      "  0%|          | 0/317 [00:00<?, ?it/s]"
     ]
    },
    {
     "name": "stdout",
     "output_type": "stream",
     "text": [
      "{'average_precision_train': 0.364174157345323,\n",
      " 'average_precision_valid': 0.36513535043999495,\n",
      " 'epoch': 14,\n",
      " 'fold': 1,\n",
      " 'loss_train': 0.3618660640641342,\n",
      " 'loss_valid': 0.3726630688838239,\n",
      " 'roc_auc_train': 0.8080023938414544,\n",
      " 'roc_auc_valid': 0.8021519399594458}\n"
     ]
    },
    {
     "name": "stderr",
     "output_type": "stream",
     "text": [
      "loss: 0.30002, smth: 0.36258: 100%|██████████| 317/317 [01:52<00:00,  2.83it/s]\n",
      "loss: 0.20853, smth: 0.36275: 100%|██████████| 53/53 [00:07<00:00,  7.07it/s]\n",
      "  0%|          | 0/317 [00:00<?, ?it/s]"
     ]
    },
    {
     "name": "stdout",
     "output_type": "stream",
     "text": [
      "{'average_precision_train': 0.3673930047825788,\n",
      " 'average_precision_valid': 0.36707094490022746,\n",
      " 'epoch': 15,\n",
      " 'fold': 1,\n",
      " 'loss_train': 0.360824553372356,\n",
      " 'loss_valid': 0.36692400136083925,\n",
      " 'roc_auc_train': 0.8118624003103554,\n",
      " 'roc_auc_valid': 0.8044169819891402}\n",
      "ap_max (0.366001 --> 0.367071). Saving model ...\n"
     ]
    },
    {
     "name": "stderr",
     "output_type": "stream",
     "text": [
      "loss: 0.23841, smth: 0.35349: 100%|██████████| 317/317 [01:52<00:00,  2.83it/s]\n",
      "loss: 0.20983, smth: 0.36442: 100%|██████████| 53/53 [00:07<00:00,  7.04it/s]\n",
      "  0%|          | 0/317 [00:00<?, ?it/s]"
     ]
    },
    {
     "name": "stdout",
     "output_type": "stream",
     "text": [
      "{'average_precision_train': 0.36788802926802094,\n",
      " 'average_precision_valid': 0.3670688085644165,\n",
      " 'epoch': 16,\n",
      " 'fold': 1,\n",
      " 'loss_train': 0.35944135548188483,\n",
      " 'loss_valid': 0.3682547383150964,\n",
      " 'roc_auc_train': 0.8134690182351858,\n",
      " 'roc_auc_valid': 0.8037234780086325}\n"
     ]
    },
    {
     "name": "stderr",
     "output_type": "stream",
     "text": [
      "loss: 0.28024, smth: 0.33931: 100%|██████████| 317/317 [01:52<00:00,  2.83it/s]\n",
      "loss: 0.20876, smth: 0.36168: 100%|██████████| 53/53 [00:07<00:00,  7.06it/s]\n"
     ]
    },
    {
     "name": "stdout",
     "output_type": "stream",
     "text": [
      "{'average_precision_train': 0.3703253139471187,\n",
      " 'average_precision_valid': 0.36812111202888437,\n",
      " 'epoch': 17,\n",
      " 'fold': 1,\n",
      " 'loss_train': 0.3594732682223576,\n",
      " 'loss_valid': 0.3662215490948479,\n",
      " 'roc_auc_train': 0.8137068198688034,\n",
      " 'roc_auc_valid': 0.8053500652687212}\n",
      "roc_auc_max (0.804993 --> 0.805350). Saving model ...\n",
      "ap_max (0.367071 --> 0.368121). Saving model ...\n"
     ]
    },
    {
     "name": "stderr",
     "output_type": "stream",
     "text": [
      "loss: 0.34191, smth: 0.38066: 100%|██████████| 317/317 [01:52<00:00,  2.82it/s]\n",
      "loss: 0.21264, smth: 0.36240: 100%|██████████| 53/53 [00:07<00:00,  7.07it/s]\n",
      "  0%|          | 0/317 [00:00<?, ?it/s]"
     ]
    },
    {
     "name": "stdout",
     "output_type": "stream",
     "text": [
      "{'average_precision_train': 0.36698806313500265,\n",
      " 'average_precision_valid': 0.3653366831190941,\n",
      " 'epoch': 18,\n",
      " 'fold': 1,\n",
      " 'loss_train': 0.36031631410874027,\n",
      " 'loss_valid': 0.3671725389530074,\n",
      " 'roc_auc_train': 0.8116853366322443,\n",
      " 'roc_auc_valid': 0.8047234235786684}\n"
     ]
    },
    {
     "name": "stderr",
     "output_type": "stream",
     "text": [
      "loss: 0.30037, smth: 0.35981: 100%|██████████| 317/317 [01:52<00:00,  2.81it/s]\n",
      "loss: 0.21222, smth: 0.36406: 100%|██████████| 53/53 [00:07<00:00,  7.13it/s]\n"
     ]
    },
    {
     "name": "stdout",
     "output_type": "stream",
     "text": [
      "{'average_precision_train': 0.36658779783660606,\n",
      " 'average_precision_valid': 0.3661570752994429,\n",
      " 'epoch': 19,\n",
      " 'fold': 1,\n",
      " 'loss_train': 0.3608822737018393,\n",
      " 'loss_valid': 0.36786787464933574,\n",
      " 'roc_auc_train': 0.8104198531964647,\n",
      " 'roc_auc_valid': 0.8038598039118064}\n"
     ]
    },
    {
     "name": "stderr",
     "output_type": "stream",
     "text": [
      "\r",
      "  0%|          | 0/317 [00:00<?, ?it/s]"
     ]
    },
    {
     "name": "stdout",
     "output_type": "stream",
     "text": [
      "-----------------------------------------------------------------------------------------------------\n",
      "                                        FOLD:  2\n",
      "-----------------------------------------------------------------------------------------------------\n"
     ]
    },
    {
     "name": "stderr",
     "output_type": "stream",
     "text": [
      "loss: 0.33627, smth: 0.41896: 100%|██████████| 317/317 [01:52<00:00,  2.82it/s]\n",
      "loss: 0.44107, smth: 0.39424: 100%|██████████| 53/53 [00:07<00:00,  7.09it/s]\n"
     ]
    },
    {
     "name": "stdout",
     "output_type": "stream",
     "text": [
      "{'average_precision_train': 0.26761386469270293,\n",
      " 'average_precision_valid': 0.31419443488739573,\n",
      " 'epoch': 0,\n",
      " 'fold': 2,\n",
      " 'loss_train': 0.44841056954033365,\n",
      " 'loss_valid': 0.4097484923758597,\n",
      " 'roc_auc_train': 0.6703982120115042,\n",
      " 'roc_auc_valid': 0.7457288038259509}\n",
      "roc_auc_max (0.000000 --> 0.745729). Saving model ...\n",
      "ap_max (0.000000 --> 0.314194). Saving model ...\n"
     ]
    },
    {
     "name": "stderr",
     "output_type": "stream",
     "text": [
      "loss: 0.42782, smth: 0.39775: 100%|██████████| 317/317 [01:52<00:00,  2.82it/s]\n",
      "loss: 0.36248, smth: 0.39436: 100%|██████████| 53/53 [00:07<00:00,  7.10it/s]\n"
     ]
    },
    {
     "name": "stdout",
     "output_type": "stream",
     "text": [
      "{'average_precision_train': 0.2903515152404477,\n",
      " 'average_precision_valid': 0.32395652535978836,\n",
      " 'epoch': 1,\n",
      " 'fold': 2,\n",
      " 'loss_train': 0.42343913855424814,\n",
      " 'loss_valid': 0.41487249732017517,\n",
      " 'roc_auc_train': 0.7066317928248219,\n",
      " 'roc_auc_valid': 0.7540709729266518}\n",
      "roc_auc_max (0.745729 --> 0.754071). Saving model ...\n",
      "ap_max (0.314194 --> 0.323957). Saving model ...\n"
     ]
    },
    {
     "name": "stderr",
     "output_type": "stream",
     "text": [
      "loss: 0.44885, smth: 0.40366: 100%|██████████| 317/317 [01:51<00:00,  2.83it/s]\n",
      "loss: 0.34378, smth: 0.37487: 100%|██████████| 53/53 [00:07<00:00,  7.11it/s]\n"
     ]
    },
    {
     "name": "stdout",
     "output_type": "stream",
     "text": [
      "{'average_precision_train': 0.30187134076120015,\n",
      " 'average_precision_valid': 0.3308737287544706,\n",
      " 'epoch': 2,\n",
      " 'fold': 2,\n",
      " 'loss_train': 0.41032263721201323,\n",
      " 'loss_valid': 0.38786097123937785,\n",
      " 'roc_auc_train': 0.7270478777151075,\n",
      " 'roc_auc_valid': 0.7664512848009665}\n",
      "roc_auc_max (0.754071 --> 0.766451). Saving model ...\n"
     ]
    },
    {
     "name": "stderr",
     "output_type": "stream",
     "text": [
      "\r",
      "  0%|          | 0/317 [00:00<?, ?it/s]"
     ]
    },
    {
     "name": "stdout",
     "output_type": "stream",
     "text": [
      "ap_max (0.323957 --> 0.330874). Saving model ...\n"
     ]
    },
    {
     "name": "stderr",
     "output_type": "stream",
     "text": [
      "loss: 0.36191, smth: 0.40213: 100%|██████████| 317/317 [01:52<00:00,  2.82it/s]\n",
      "loss: 0.33426, smth: 0.37281: 100%|██████████| 53/53 [00:07<00:00,  7.10it/s]\n"
     ]
    },
    {
     "name": "stdout",
     "output_type": "stream",
     "text": [
      "{'average_precision_train': 0.304318889395883,\n",
      " 'average_precision_valid': 0.3513699981350964,\n",
      " 'epoch': 3,\n",
      " 'fold': 2,\n",
      " 'loss_train': 0.41029273890170387,\n",
      " 'loss_valid': 0.38919043372262196,\n",
      " 'roc_auc_train': 0.7273282073010177,\n",
      " 'roc_auc_valid': 0.783181024023654}\n",
      "roc_auc_max (0.766451 --> 0.783181). Saving model ...\n",
      "ap_max (0.330874 --> 0.351370). Saving model ...\n"
     ]
    },
    {
     "name": "stderr",
     "output_type": "stream",
     "text": [
      "loss: 0.24858, smth: 0.42869: 100%|██████████| 317/317 [01:52<00:00,  2.83it/s]\n",
      "loss: 0.38000, smth: 0.39508: 100%|██████████| 53/53 [00:07<00:00,  7.07it/s]\n",
      "  0%|          | 0/317 [00:00<?, ?it/s]"
     ]
    },
    {
     "name": "stdout",
     "output_type": "stream",
     "text": [
      "Epoch     5: reducing learning rate of group 0 to 1.0000e-04.\n",
      "{'average_precision_train': 0.30925529773981825,\n",
      " 'average_precision_valid': 0.32454650470745294,\n",
      " 'epoch': 4,\n",
      " 'fold': 2,\n",
      " 'loss_train': 0.4034689350365088,\n",
      " 'loss_valid': 0.4036395993997466,\n",
      " 'roc_auc_train': 0.7396361109457075,\n",
      " 'roc_auc_valid': 0.7646604859811587}\n"
     ]
    },
    {
     "name": "stderr",
     "output_type": "stream",
     "text": [
      "loss: 0.34998, smth: 0.34508: 100%|██████████| 317/317 [01:52<00:00,  2.82it/s]\n",
      "loss: 0.30177, smth: 0.36360: 100%|██████████| 53/53 [00:07<00:00,  7.07it/s]\n"
     ]
    },
    {
     "name": "stdout",
     "output_type": "stream",
     "text": [
      "{'average_precision_train': 0.3338493870685391,\n",
      " 'average_precision_valid': 0.34965097034840714,\n",
      " 'epoch': 5,\n",
      " 'fold': 2,\n",
      " 'loss_train': 0.38455232686424856,\n",
      " 'loss_valid': 0.3808054693464963,\n",
      " 'roc_auc_train': 0.7761487737214362,\n",
      " 'roc_auc_valid': 0.7890073605901033}\n",
      "roc_auc_max (0.783181 --> 0.789007). Saving model ...\n"
     ]
    },
    {
     "name": "stderr",
     "output_type": "stream",
     "text": [
      "loss: 0.36006, smth: 0.38678: 100%|██████████| 317/317 [01:53<00:00,  2.78it/s]\n",
      "loss: 0.31888, smth: 0.36335: 100%|██████████| 53/53 [00:07<00:00,  7.05it/s]\n"
     ]
    },
    {
     "name": "stdout",
     "output_type": "stream",
     "text": [
      "{'average_precision_train': 0.3441206904584215,\n",
      " 'average_precision_valid': 0.3474114646832971,\n",
      " 'epoch': 6,\n",
      " 'fold': 2,\n",
      " 'loss_train': 0.3772569622151107,\n",
      " 'loss_valid': 0.3763990565290991,\n",
      " 'roc_auc_train': 0.7846263810606331,\n",
      " 'roc_auc_valid': 0.7899364826557367}\n",
      "roc_auc_max (0.789007 --> 0.789936). Saving model ...\n"
     ]
    },
    {
     "name": "stderr",
     "output_type": "stream",
     "text": [
      "loss: 0.26125, smth: 0.36339: 100%|██████████| 317/317 [02:03<00:00,  2.57it/s]\n",
      "loss: 0.32932, smth: 0.36111: 100%|██████████| 53/53 [00:08<00:00,  6.36it/s]\n"
     ]
    },
    {
     "name": "stdout",
     "output_type": "stream",
     "text": [
      "{'average_precision_train': 0.3573367264587944,\n",
      " 'average_precision_valid': 0.35820143161762474,\n",
      " 'epoch': 7,\n",
      " 'fold': 2,\n",
      " 'loss_train': 0.36928461529667067,\n",
      " 'loss_valid': 0.3713067927450504,\n",
      " 'roc_auc_train': 0.7978800165220323,\n",
      " 'roc_auc_valid': 0.7958291403020257}\n",
      "roc_auc_max (0.789936 --> 0.795829). Saving model ...\n"
     ]
    },
    {
     "name": "stderr",
     "output_type": "stream",
     "text": [
      "\r",
      "  0%|          | 0/317 [00:00<?, ?it/s]"
     ]
    },
    {
     "name": "stdout",
     "output_type": "stream",
     "text": [
      "ap_max (0.351370 --> 0.358201). Saving model ...\n"
     ]
    },
    {
     "name": "stderr",
     "output_type": "stream",
     "text": [
      "loss: 0.33895, smth: 0.37442: 100%|██████████| 317/317 [02:06<00:00,  2.51it/s]\n",
      "loss: 0.33016, smth: 0.35786: 100%|██████████| 53/53 [00:08<00:00,  6.36it/s]\n"
     ]
    },
    {
     "name": "stdout",
     "output_type": "stream",
     "text": [
      "{'average_precision_train': 0.3576850187083021,\n",
      " 'average_precision_valid': 0.36183325690653173,\n",
      " 'epoch': 8,\n",
      " 'fold': 2,\n",
      " 'loss_train': 0.3719967425997701,\n",
      " 'loss_valid': 0.3701165048581249,\n",
      " 'roc_auc_train': 0.7966531854361322,\n",
      " 'roc_auc_valid': 0.7952938306528579}\n",
      "ap_max (0.358201 --> 0.361833). Saving model ...\n"
     ]
    },
    {
     "name": "stderr",
     "output_type": "stream",
     "text": [
      "loss: 0.37990, smth: 0.34775: 100%|██████████| 317/317 [01:56<00:00,  2.73it/s]\n",
      "loss: 0.30704, smth: 0.35424: 100%|██████████| 53/53 [00:07<00:00,  6.76it/s]\n"
     ]
    },
    {
     "name": "stdout",
     "output_type": "stream",
     "text": [
      "{'average_precision_train': 0.3663550681685966,\n",
      " 'average_precision_valid': 0.3732804173186088,\n",
      " 'epoch': 9,\n",
      " 'fold': 2,\n",
      " 'loss_train': 0.3666448046450359,\n",
      " 'loss_valid': 0.36770323481199874,\n",
      " 'roc_auc_train': 0.8002300956698558,\n",
      " 'roc_auc_valid': 0.803447354249822}\n",
      "roc_auc_max (0.795829 --> 0.803447). Saving model ...\n"
     ]
    },
    {
     "name": "stderr",
     "output_type": "stream",
     "text": [
      "\r",
      "  0%|          | 0/317 [00:00<?, ?it/s]"
     ]
    },
    {
     "name": "stdout",
     "output_type": "stream",
     "text": [
      "ap_max (0.361833 --> 0.373280). Saving model ...\n"
     ]
    },
    {
     "name": "stderr",
     "output_type": "stream",
     "text": [
      "loss: 0.36031, smth: 0.34780: 100%|██████████| 317/317 [01:52<00:00,  2.81it/s]\n",
      "loss: 0.33578, smth: 0.35465: 100%|██████████| 53/53 [00:07<00:00,  7.05it/s]\n",
      "  0%|          | 0/317 [00:00<?, ?it/s]"
     ]
    },
    {
     "name": "stdout",
     "output_type": "stream",
     "text": [
      "{'average_precision_train': 0.3666473412093769,\n",
      " 'average_precision_valid': 0.36769804689589014,\n",
      " 'epoch': 10,\n",
      " 'fold': 2,\n",
      " 'loss_train': 0.3636274717113573,\n",
      " 'loss_valid': 0.3677897225573378,\n",
      " 'roc_auc_train': 0.8063577174733936,\n",
      " 'roc_auc_valid': 0.8012612453654978}\n"
     ]
    },
    {
     "name": "stderr",
     "output_type": "stream",
     "text": [
      "loss: 0.37106, smth: 0.34397: 100%|██████████| 317/317 [01:52<00:00,  2.81it/s]\n",
      "loss: 0.30127, smth: 0.35480: 100%|██████████| 53/53 [00:07<00:00,  6.81it/s]\n"
     ]
    },
    {
     "name": "stdout",
     "output_type": "stream",
     "text": [
      "Epoch    12: reducing learning rate of group 0 to 1.0000e-05.\n",
      "{'average_precision_train': 0.37593522598446,\n",
      " 'average_precision_valid': 0.3761702423297988,\n",
      " 'epoch': 11,\n",
      " 'fold': 2,\n",
      " 'loss_train': 0.35970072880716353,\n",
      " 'loss_valid': 0.3690419112736324,\n",
      " 'roc_auc_train': 0.811500387586025,\n",
      " 'roc_auc_valid': 0.8084161674484349}\n",
      "roc_auc_max (0.803447 --> 0.808416). Saving model ...\n",
      "ap_max (0.373280 --> 0.376170). Saving model ...\n"
     ]
    },
    {
     "name": "stderr",
     "output_type": "stream",
     "text": [
      "loss: 0.33456, smth: 0.34297: 100%|██████████| 317/317 [01:52<00:00,  2.82it/s]\n",
      "loss: 0.31591, smth: 0.35596: 100%|██████████| 53/53 [00:07<00:00,  7.29it/s]\n"
     ]
    },
    {
     "name": "stdout",
     "output_type": "stream",
     "text": [
      "{'average_precision_train': 0.3826653071308061,\n",
      " 'average_precision_valid': 0.37631426959760067,\n",
      " 'epoch': 12,\n",
      " 'fold': 2,\n",
      " 'loss_train': 0.3555632388742188,\n",
      " 'loss_valid': 0.36673386844823946,\n",
      " 'roc_auc_train': 0.8163533377887326,\n",
      " 'roc_auc_valid': 0.8086478342958447}\n",
      "roc_auc_max (0.808416 --> 0.808648). Saving model ...\n"
     ]
    },
    {
     "name": "stderr",
     "output_type": "stream",
     "text": [
      "\r",
      "  0%|          | 0/317 [00:00<?, ?it/s]"
     ]
    },
    {
     "name": "stdout",
     "output_type": "stream",
     "text": [
      "ap_max (0.376170 --> 0.376314). Saving model ...\n"
     ]
    },
    {
     "name": "stderr",
     "output_type": "stream",
     "text": [
      "loss: 0.22562, smth: 0.37876: 100%|██████████| 317/317 [01:50<00:00,  2.86it/s]\n",
      "loss: 0.31447, smth: 0.35727: 100%|██████████| 53/53 [00:07<00:00,  7.29it/s]\n",
      "  0%|          | 0/317 [00:00<?, ?it/s]"
     ]
    },
    {
     "name": "stdout",
     "output_type": "stream",
     "text": [
      "{'average_precision_train': 0.38823631232317396,\n",
      " 'average_precision_valid': 0.3790965887649451,\n",
      " 'epoch': 13,\n",
      " 'fold': 2,\n",
      " 'loss_train': 0.35220181241584503,\n",
      " 'loss_valid': 0.36824143354622824,\n",
      " 'roc_auc_train': 0.8226671957672849,\n",
      " 'roc_auc_valid': 0.8059209621975186}\n",
      "ap_max (0.376314 --> 0.379097). Saving model ...\n"
     ]
    },
    {
     "name": "stderr",
     "output_type": "stream",
     "text": [
      "loss: 0.16045, smth: 0.33370: 100%|██████████| 317/317 [01:51<00:00,  2.84it/s]\n",
      "loss: 0.30942, smth: 0.35573: 100%|██████████| 53/53 [00:07<00:00,  7.19it/s]\n"
     ]
    },
    {
     "name": "stdout",
     "output_type": "stream",
     "text": [
      "{'average_precision_train': 0.38510173228218963,\n",
      " 'average_precision_valid': 0.3774670566585323,\n",
      " 'epoch': 14,\n",
      " 'fold': 2,\n",
      " 'loss_train': 0.3553838687082194,\n",
      " 'loss_valid': 0.3664362467122528,\n",
      " 'roc_auc_train': 0.8180983126758067,\n",
      " 'roc_auc_valid': 0.8099064455888435}\n",
      "roc_auc_max (0.808648 --> 0.809906). Saving model ...\n"
     ]
    },
    {
     "name": "stderr",
     "output_type": "stream",
     "text": [
      "loss: 0.21104, smth: 0.33023: 100%|██████████| 317/317 [01:53<00:00,  2.79it/s]\n",
      "loss: 0.31587, smth: 0.35862: 100%|██████████| 53/53 [00:07<00:00,  7.08it/s]\n",
      "  0%|          | 0/317 [00:00<?, ?it/s]"
     ]
    },
    {
     "name": "stdout",
     "output_type": "stream",
     "text": [
      "{'average_precision_train': 0.3878924463159115,\n",
      " 'average_precision_valid': 0.37555752767766276,\n",
      " 'epoch': 15,\n",
      " 'fold': 2,\n",
      " 'loss_train': 0.3518652112608076,\n",
      " 'loss_valid': 0.36838401319845665,\n",
      " 'roc_auc_train': 0.8233723168762432,\n",
      " 'roc_auc_valid': 0.8094288234585303}\n"
     ]
    },
    {
     "name": "stderr",
     "output_type": "stream",
     "text": [
      "loss: 0.20475, smth: 0.35843: 100%|██████████| 317/317 [01:52<00:00,  2.82it/s]\n",
      "loss: 0.31477, smth: 0.35672: 100%|██████████| 53/53 [00:07<00:00,  7.07it/s]\n",
      "  0%|          | 0/317 [00:00<?, ?it/s]"
     ]
    },
    {
     "name": "stdout",
     "output_type": "stream",
     "text": [
      "Epoch    17: reducing learning rate of group 0 to 1.0000e-06.\n",
      "{'average_precision_train': 0.39574108767855104,\n",
      " 'average_precision_valid': 0.37750807280165066,\n",
      " 'epoch': 16,\n",
      " 'fold': 2,\n",
      " 'loss_train': 0.3479066656591012,\n",
      " 'loss_valid': 0.36701455824780016,\n",
      " 'roc_auc_train': 0.8292651939331949,\n",
      " 'roc_auc_valid': 0.8086113200107732}\n"
     ]
    },
    {
     "name": "stderr",
     "output_type": "stream",
     "text": [
      "loss: 0.36652, smth: 0.37514: 100%|██████████| 317/317 [01:52<00:00,  2.81it/s]\n",
      "loss: 0.31128, smth: 0.35538: 100%|██████████| 53/53 [00:07<00:00,  7.10it/s]\n",
      "  0%|          | 0/317 [00:00<?, ?it/s]"
     ]
    },
    {
     "name": "stdout",
     "output_type": "stream",
     "text": [
      "{'average_precision_train': 0.39378214548431245,\n",
      " 'average_precision_valid': 0.37848800843630714,\n",
      " 'epoch': 17,\n",
      " 'fold': 2,\n",
      " 'loss_train': 0.3500714334027624,\n",
      " 'loss_valid': 0.3666203781118933,\n",
      " 'roc_auc_train': 0.8266969950528172,\n",
      " 'roc_auc_valid': 0.8101487825268436}\n",
      "roc_auc_max (0.809906 --> 0.810149). Saving model ...\n"
     ]
    },
    {
     "name": "stderr",
     "output_type": "stream",
     "text": [
      "loss: 0.22416, smth: 0.34695: 100%|██████████| 317/317 [01:53<00:00,  2.80it/s]\n",
      "loss: 0.31531, smth: 0.36223: 100%|██████████| 53/53 [00:07<00:00,  7.00it/s]\n",
      "  0%|          | 0/317 [00:00<?, ?it/s]"
     ]
    },
    {
     "name": "stdout",
     "output_type": "stream",
     "text": [
      "{'average_precision_train': 0.3905909994011581,\n",
      " 'average_precision_valid': 0.3745717070319527,\n",
      " 'epoch': 18,\n",
      " 'fold': 2,\n",
      " 'loss_train': 0.35067150974499317,\n",
      " 'loss_valid': 0.37154413028708044,\n",
      " 'roc_auc_train': 0.8237351037480831,\n",
      " 'roc_auc_valid': 0.8100651155762713}\n"
     ]
    },
    {
     "name": "stderr",
     "output_type": "stream",
     "text": [
      "loss: 0.19154, smth: 0.34040: 100%|██████████| 317/317 [01:53<00:00,  2.81it/s]\n",
      "loss: 0.30935, smth: 0.35824: 100%|██████████| 53/53 [00:07<00:00,  7.01it/s]\n"
     ]
    },
    {
     "name": "stdout",
     "output_type": "stream",
     "text": [
      "{'average_precision_train': 0.3893539740293937,\n",
      " 'average_precision_valid': 0.3767933852001539,\n",
      " 'epoch': 19,\n",
      " 'fold': 2,\n",
      " 'loss_train': 0.351931685434907,\n",
      " 'loss_valid': 0.36854424875862196,\n",
      " 'roc_auc_train': 0.8237112359353003,\n",
      " 'roc_auc_valid': 0.8092234380675056}\n"
     ]
    },
    {
     "name": "stderr",
     "output_type": "stream",
     "text": [
      "\r",
      "  0%|          | 0/317 [00:00<?, ?it/s]"
     ]
    },
    {
     "name": "stdout",
     "output_type": "stream",
     "text": [
      "-----------------------------------------------------------------------------------------------------\n",
      "                                        FOLD:  3\n",
      "-----------------------------------------------------------------------------------------------------\n"
     ]
    },
    {
     "name": "stderr",
     "output_type": "stream",
     "text": [
      "loss: 0.38195, smth: 0.44166: 100%|██████████| 317/317 [01:56<00:00,  2.72it/s]\n",
      "loss: 0.50919, smth: 0.39207: 100%|██████████| 53/53 [00:07<00:00,  7.34it/s]\n"
     ]
    },
    {
     "name": "stdout",
     "output_type": "stream",
     "text": [
      "{'average_precision_train': 0.25864319323883517,\n",
      " 'average_precision_valid': 0.31661073588249133,\n",
      " 'epoch': 0,\n",
      " 'fold': 3,\n",
      " 'loss_train': 0.4552688366419133,\n",
      " 'loss_valid': 0.3963498551890535,\n",
      " 'roc_auc_train': 0.6492971645642744,\n",
      " 'roc_auc_valid': 0.7396239135037007}\n",
      "roc_auc_max (0.000000 --> 0.739624). Saving model ...\n",
      "ap_max (0.000000 --> 0.316611). Saving model ...\n"
     ]
    },
    {
     "name": "stderr",
     "output_type": "stream",
     "text": [
      "loss: 0.59049, smth: 0.41221: 100%|██████████| 317/317 [01:51<00:00,  2.84it/s]\n",
      "loss: 0.46980, smth: 0.38595: 100%|██████████| 53/53 [00:07<00:00,  7.31it/s]\n"
     ]
    },
    {
     "name": "stdout",
     "output_type": "stream",
     "text": [
      "{'average_precision_train': 0.28667881885614194,\n",
      " 'average_precision_valid': 0.33637280600752445,\n",
      " 'epoch': 1,\n",
      " 'fold': 3,\n",
      " 'loss_train': 0.4230383079416744,\n",
      " 'loss_valid': 0.387009286093262,\n",
      " 'roc_auc_train': 0.7005993493014488,\n",
      " 'roc_auc_valid': 0.7625434070943092}\n",
      "roc_auc_max (0.739624 --> 0.762543). Saving model ...\n"
     ]
    },
    {
     "name": "stderr",
     "output_type": "stream",
     "text": [
      "\r",
      "  0%|          | 0/317 [00:00<?, ?it/s]"
     ]
    },
    {
     "name": "stdout",
     "output_type": "stream",
     "text": [
      "ap_max (0.316611 --> 0.336373). Saving model ...\n"
     ]
    },
    {
     "name": "stderr",
     "output_type": "stream",
     "text": [
      "loss: 0.36961, smth: 0.42889: 100%|██████████| 317/317 [01:55<00:00,  2.74it/s]\n",
      "loss: 0.44234, smth: 0.38089: 100%|██████████| 53/53 [00:07<00:00,  7.00it/s]\n"
     ]
    },
    {
     "name": "stdout",
     "output_type": "stream",
     "text": [
      "{'average_precision_train': 0.2968248331238493,\n",
      " 'average_precision_valid': 0.33229981305955975,\n",
      " 'epoch': 2,\n",
      " 'fold': 3,\n",
      " 'loss_train': 0.4153138754965755,\n",
      " 'loss_valid': 0.38416594154429884,\n",
      " 'roc_auc_train': 0.7150328376434736,\n",
      " 'roc_auc_valid': 0.7707202300497629}\n",
      "roc_auc_max (0.762543 --> 0.770720). Saving model ...\n"
     ]
    },
    {
     "name": "stderr",
     "output_type": "stream",
     "text": [
      "loss: 0.49368, smth: 0.42301: 100%|██████████| 317/317 [01:54<00:00,  2.76it/s]\n",
      "loss: 0.45374, smth: 0.38726: 100%|██████████| 53/53 [00:07<00:00,  6.89it/s]\n",
      "  0%|          | 0/317 [00:00<?, ?it/s]"
     ]
    },
    {
     "name": "stdout",
     "output_type": "stream",
     "text": [
      "{'average_precision_train': 0.296690718525745,\n",
      " 'average_precision_valid': 0.33550463655657176,\n",
      " 'epoch': 3,\n",
      " 'fold': 3,\n",
      " 'loss_train': 0.41313976383171624,\n",
      " 'loss_valid': 0.3869626482702651,\n",
      " 'roc_auc_train': 0.7179315543450934,\n",
      " 'roc_auc_valid': 0.7775251148255777}\n",
      "roc_auc_max (0.770720 --> 0.777525). Saving model ...\n"
     ]
    },
    {
     "name": "stderr",
     "output_type": "stream",
     "text": [
      "loss: 0.48425, smth: 0.39542: 100%|██████████| 317/317 [01:53<00:00,  2.79it/s]\n",
      "loss: 0.51452, smth: 0.41514: 100%|██████████| 53/53 [00:07<00:00,  7.06it/s]\n",
      "  0%|          | 0/317 [00:00<?, ?it/s]"
     ]
    },
    {
     "name": "stdout",
     "output_type": "stream",
     "text": [
      "Epoch     5: reducing learning rate of group 0 to 1.0000e-04.\n",
      "{'average_precision_train': 0.3050347629808876,\n",
      " 'average_precision_valid': 0.3225459472720833,\n",
      " 'epoch': 4,\n",
      " 'fold': 3,\n",
      " 'loss_train': 0.4058204304062606,\n",
      " 'loss_valid': 0.4158257763340788,\n",
      " 'roc_auc_train': 0.7338991390205087,\n",
      " 'roc_auc_valid': 0.7490010193315654}\n"
     ]
    },
    {
     "name": "stderr",
     "output_type": "stream",
     "text": [
      "loss: 0.36521, smth: 0.39986: 100%|██████████| 317/317 [01:52<00:00,  2.81it/s]\n",
      "loss: 0.42866, smth: 0.36149: 100%|██████████| 53/53 [00:07<00:00,  7.02it/s]\n"
     ]
    },
    {
     "name": "stdout",
     "output_type": "stream",
     "text": [
      "{'average_precision_train': 0.32871954266945175,\n",
      " 'average_precision_valid': 0.35295950778512325,\n",
      " 'epoch': 5,\n",
      " 'fold': 3,\n",
      " 'loss_train': 0.38992940782560537,\n",
      " 'loss_valid': 0.36630380209886804,\n",
      " 'roc_auc_train': 0.7673123642692006,\n",
      " 'roc_auc_valid': 0.801301750007808}\n",
      "roc_auc_max (0.777525 --> 0.801302). Saving model ...\n"
     ]
    },
    {
     "name": "stderr",
     "output_type": "stream",
     "text": [
      "\r",
      "  0%|          | 0/317 [00:00<?, ?it/s]"
     ]
    },
    {
     "name": "stdout",
     "output_type": "stream",
     "text": [
      "ap_max (0.336373 --> 0.352960). Saving model ...\n"
     ]
    },
    {
     "name": "stderr",
     "output_type": "stream",
     "text": [
      "loss: 0.45988, smth: 0.36465: 100%|██████████| 317/317 [01:53<00:00,  2.80it/s]\n",
      "loss: 0.44120, smth: 0.35994: 100%|██████████| 53/53 [00:07<00:00,  7.03it/s]\n"
     ]
    },
    {
     "name": "stdout",
     "output_type": "stream",
     "text": [
      "{'average_precision_train': 0.3417446790001888,\n",
      " 'average_precision_valid': 0.3633837515971707,\n",
      " 'epoch': 6,\n",
      " 'fold': 3,\n",
      " 'loss_train': 0.37947092757616135,\n",
      " 'loss_valid': 0.3635971166615216,\n",
      " 'roc_auc_train': 0.7822847132382056,\n",
      " 'roc_auc_valid': 0.8088113666923504}\n",
      "roc_auc_max (0.801302 --> 0.808811). Saving model ...\n"
     ]
    },
    {
     "name": "stderr",
     "output_type": "stream",
     "text": [
      "\r",
      "  0%|          | 0/317 [00:00<?, ?it/s]"
     ]
    },
    {
     "name": "stdout",
     "output_type": "stream",
     "text": [
      "ap_max (0.352960 --> 0.363384). Saving model ...\n"
     ]
    },
    {
     "name": "stderr",
     "output_type": "stream",
     "text": [
      "loss: 0.30336, smth: 0.37024: 100%|██████████| 317/317 [01:52<00:00,  2.82it/s]\n",
      "loss: 0.45143, smth: 0.35850: 100%|██████████| 53/53 [00:07<00:00,  7.07it/s]\n"
     ]
    },
    {
     "name": "stdout",
     "output_type": "stream",
     "text": [
      "{'average_precision_train': 0.3488326988481934,\n",
      " 'average_precision_valid': 0.36592676048481393,\n",
      " 'epoch': 7,\n",
      " 'fold': 3,\n",
      " 'loss_train': 0.37480967400201864,\n",
      " 'loss_valid': 0.3607921406345547,\n",
      " 'roc_auc_train': 0.787475963088771,\n",
      " 'roc_auc_valid': 0.8127405744280307}\n",
      "roc_auc_max (0.808811 --> 0.812741). Saving model ...\n"
     ]
    },
    {
     "name": "stderr",
     "output_type": "stream",
     "text": [
      "\r",
      "  0%|          | 0/317 [00:00<?, ?it/s]"
     ]
    },
    {
     "name": "stdout",
     "output_type": "stream",
     "text": [
      "ap_max (0.363384 --> 0.365927). Saving model ...\n"
     ]
    },
    {
     "name": "stderr",
     "output_type": "stream",
     "text": [
      "loss: 0.48845, smth: 0.38415: 100%|██████████| 317/317 [01:52<00:00,  2.83it/s]\n",
      "loss: 0.44319, smth: 0.35384: 100%|██████████| 53/53 [00:07<00:00,  7.06it/s]\n"
     ]
    },
    {
     "name": "stdout",
     "output_type": "stream",
     "text": [
      "{'average_precision_train': 0.35786640979506806,\n",
      " 'average_precision_valid': 0.3746661431414176,\n",
      " 'epoch': 8,\n",
      " 'fold': 3,\n",
      " 'loss_train': 0.37189545522352874,\n",
      " 'loss_valid': 0.3551831540634047,\n",
      " 'roc_auc_train': 0.7950837321613451,\n",
      " 'roc_auc_valid': 0.8189331916025806}\n",
      "roc_auc_max (0.812741 --> 0.818933). Saving model ...\n"
     ]
    },
    {
     "name": "stderr",
     "output_type": "stream",
     "text": [
      "\r",
      "  0%|          | 0/317 [00:00<?, ?it/s]"
     ]
    },
    {
     "name": "stdout",
     "output_type": "stream",
     "text": [
      "ap_max (0.365927 --> 0.374666). Saving model ...\n"
     ]
    },
    {
     "name": "stderr",
     "output_type": "stream",
     "text": [
      "loss: 0.52312, smth: 0.34365: 100%|██████████| 317/317 [01:52<00:00,  2.82it/s]\n",
      "loss: 0.48003, smth: 0.36217: 100%|██████████| 53/53 [00:07<00:00,  7.05it/s]\n",
      "  0%|          | 0/317 [00:00<?, ?it/s]"
     ]
    },
    {
     "name": "stdout",
     "output_type": "stream",
     "text": [
      "{'average_precision_train': 0.3637670662244888,\n",
      " 'average_precision_valid': 0.36854475261938197,\n",
      " 'epoch': 9,\n",
      " 'fold': 3,\n",
      " 'loss_train': 0.36659551024060893,\n",
      " 'loss_valid': 0.3612424531635248,\n",
      " 'roc_auc_train': 0.7999349757197971,\n",
      " 'roc_auc_valid': 0.8173790189186767}\n"
     ]
    },
    {
     "name": "stderr",
     "output_type": "stream",
     "text": [
      "loss: 0.36487, smth: 0.36099: 100%|██████████| 317/317 [01:52<00:00,  2.83it/s]\n",
      "loss: 0.47620, smth: 0.36979: 100%|██████████| 53/53 [00:07<00:00,  7.06it/s]\n",
      "  0%|          | 0/317 [00:00<?, ?it/s]"
     ]
    },
    {
     "name": "stdout",
     "output_type": "stream",
     "text": [
      "Epoch    11: reducing learning rate of group 0 to 1.0000e-05.\n",
      "{'average_precision_train': 0.36749004447935985,\n",
      " 'average_precision_valid': 0.36695206929684193,\n",
      " 'epoch': 10,\n",
      " 'fold': 3,\n",
      " 'loss_train': 0.3608935124208498,\n",
      " 'loss_valid': 0.36656505684807617,\n",
      " 'roc_auc_train': 0.8061351969893635,\n",
      " 'roc_auc_valid': 0.8112200561528459}\n"
     ]
    },
    {
     "name": "stderr",
     "output_type": "stream",
     "text": [
      "loss: 0.19664, smth: 0.38404: 100%|██████████| 317/317 [01:52<00:00,  2.82it/s]\n",
      "loss: 0.46298, smth: 0.36068: 100%|██████████| 53/53 [00:07<00:00,  7.06it/s]\n",
      "  0%|          | 0/317 [00:00<?, ?it/s]"
     ]
    },
    {
     "name": "stdout",
     "output_type": "stream",
     "text": [
      "{'average_precision_train': 0.37543405230831456,\n",
      " 'average_precision_valid': 0.37417874173949867,\n",
      " 'epoch': 11,\n",
      " 'fold': 3,\n",
      " 'loss_train': 0.3596625384942214,\n",
      " 'loss_valid': 0.3593299431058596,\n",
      " 'roc_auc_train': 0.810948185681803,\n",
      " 'roc_auc_valid': 0.8168517380337543}\n"
     ]
    },
    {
     "name": "stderr",
     "output_type": "stream",
     "text": [
      "loss: 0.44406, smth: 0.35417: 100%|██████████| 317/317 [01:52<00:00,  2.83it/s]\n",
      "loss: 0.47062, smth: 0.36273: 100%|██████████| 53/53 [00:07<00:00,  7.09it/s]\n",
      "  0%|          | 0/317 [00:00<?, ?it/s]"
     ]
    },
    {
     "name": "stdout",
     "output_type": "stream",
     "text": [
      "Epoch    13: reducing learning rate of group 0 to 1.0000e-06.\n",
      "{'average_precision_train': 0.37374926719025786,\n",
      " 'average_precision_valid': 0.3716319558490369,\n",
      " 'epoch': 12,\n",
      " 'fold': 3,\n",
      " 'loss_train': 0.36085962713328823,\n",
      " 'loss_valid': 0.36091128638330494,\n",
      " 'roc_auc_train': 0.8089305580845506,\n",
      " 'roc_auc_valid': 0.8139232813839514}\n"
     ]
    },
    {
     "name": "stderr",
     "output_type": "stream",
     "text": [
      "loss: 0.44740, smth: 0.37472: 100%|██████████| 317/317 [01:52<00:00,  2.83it/s]\n",
      "loss: 0.45454, smth: 0.35635: 100%|██████████| 53/53 [00:07<00:00,  7.04it/s]\n"
     ]
    },
    {
     "name": "stdout",
     "output_type": "stream",
     "text": [
      "{'average_precision_train': 0.3776703966828152,\n",
      " 'average_precision_valid': 0.37674574092734253,\n",
      " 'epoch': 13,\n",
      " 'fold': 3,\n",
      " 'loss_train': 0.35864688197521005,\n",
      " 'loss_valid': 0.35592893328306807,\n",
      " 'roc_auc_train': 0.8110132490189095,\n",
      " 'roc_auc_valid': 0.8194663353811766}\n",
      "roc_auc_max (0.818933 --> 0.819466). Saving model ...\n",
      "ap_max (0.374666 --> 0.376746). Saving model ...\n"
     ]
    },
    {
     "name": "stderr",
     "output_type": "stream",
     "text": [
      "loss: 0.37704, smth: 0.33599: 100%|██████████| 317/317 [01:52<00:00,  2.83it/s]\n",
      "loss: 0.45547, smth: 0.35787: 100%|██████████| 53/53 [00:07<00:00,  7.13it/s]\n",
      "  0%|          | 0/317 [00:00<?, ?it/s]"
     ]
    },
    {
     "name": "stdout",
     "output_type": "stream",
     "text": [
      "{'average_precision_train': 0.38092699680230496,\n",
      " 'average_precision_valid': 0.3737263381123765,\n",
      " 'epoch': 14,\n",
      " 'fold': 3,\n",
      " 'loss_train': 0.35510805183404626,\n",
      " 'loss_valid': 0.3569512597794803,\n",
      " 'roc_auc_train': 0.8179380268048665,\n",
      " 'roc_auc_valid': 0.8186028117243731}\n"
     ]
    },
    {
     "name": "stderr",
     "output_type": "stream",
     "text": [
      "loss: 0.42421, smth: 0.33392: 100%|██████████| 317/317 [01:52<00:00,  2.82it/s]\n",
      "loss: 0.44982, smth: 0.35928: 100%|██████████| 53/53 [00:07<00:00,  7.04it/s]\n",
      "  0%|          | 0/317 [00:00<?, ?it/s]"
     ]
    },
    {
     "name": "stdout",
     "output_type": "stream",
     "text": [
      "{'average_precision_train': 0.3783397353072157,\n",
      " 'average_precision_valid': 0.3744099365846778,\n",
      " 'epoch': 15,\n",
      " 'fold': 3,\n",
      " 'loss_train': 0.3563149001226064,\n",
      " 'loss_valid': 0.3584939966786583,\n",
      " 'roc_auc_train': 0.8167385477932263,\n",
      " 'roc_auc_valid': 0.8178976415113994}\n"
     ]
    },
    {
     "name": "stderr",
     "output_type": "stream",
     "text": [
      "loss: 0.39206, smth: 0.34736: 100%|██████████| 317/317 [01:52<00:00,  2.82it/s]\n",
      "loss: 0.45222, smth: 0.35555: 100%|██████████| 53/53 [00:07<00:00,  7.13it/s]\n",
      "  0%|          | 0/317 [00:00<?, ?it/s]"
     ]
    },
    {
     "name": "stdout",
     "output_type": "stream",
     "text": [
      "{'average_precision_train': 0.37841211545514314,\n",
      " 'average_precision_valid': 0.3759988326343146,\n",
      " 'epoch': 16,\n",
      " 'fold': 3,\n",
      " 'loss_train': 0.35819386951742865,\n",
      " 'loss_valid': 0.3558383879234206,\n",
      " 'roc_auc_train': 0.8108208868810262,\n",
      " 'roc_auc_valid': 0.8189108494349253}\n"
     ]
    },
    {
     "name": "stderr",
     "output_type": "stream",
     "text": [
      "loss: 0.44212, smth: 0.36308: 100%|██████████| 317/317 [01:51<00:00,  2.83it/s]\n",
      "loss: 0.45096, smth: 0.35705: 100%|██████████| 53/53 [00:07<00:00,  7.05it/s]\n"
     ]
    },
    {
     "name": "stdout",
     "output_type": "stream",
     "text": [
      "{'average_precision_train': 0.37720687625884836,\n",
      " 'average_precision_valid': 0.3769355278101767,\n",
      " 'epoch': 17,\n",
      " 'fold': 3,\n",
      " 'loss_train': 0.3584007546070622,\n",
      " 'loss_valid': 0.3565580206659605,\n",
      " 'roc_auc_train': 0.8114894805095481,\n",
      " 'roc_auc_valid': 0.8196659884386677}\n",
      "roc_auc_max (0.819466 --> 0.819666). Saving model ...\n",
      "ap_max (0.376746 --> 0.376936). Saving model ...\n"
     ]
    },
    {
     "name": "stderr",
     "output_type": "stream",
     "text": [
      "loss: 0.29244, smth: 0.34692: 100%|██████████| 317/317 [01:52<00:00,  2.82it/s]\n",
      "loss: 0.45091, smth: 0.35750: 100%|██████████| 53/53 [00:07<00:00,  7.13it/s]\n",
      "  0%|          | 0/317 [00:00<?, ?it/s]"
     ]
    },
    {
     "name": "stdout",
     "output_type": "stream",
     "text": [
      "{'average_precision_train': 0.37937666263555386,\n",
      " 'average_precision_valid': 0.37534123436926864,\n",
      " 'epoch': 18,\n",
      " 'fold': 3,\n",
      " 'loss_train': 0.3560410516589222,\n",
      " 'loss_valid': 0.35711362789262013,\n",
      " 'roc_auc_train': 0.8138597337164397,\n",
      " 'roc_auc_valid': 0.8184147870232696}\n"
     ]
    },
    {
     "name": "stderr",
     "output_type": "stream",
     "text": [
      "loss: 0.43868, smth: 0.36705: 100%|██████████| 317/317 [01:52<00:00,  2.83it/s]\n",
      "loss: 0.44577, smth: 0.35595: 100%|██████████| 53/53 [00:07<00:00,  7.07it/s]\n"
     ]
    },
    {
     "name": "stdout",
     "output_type": "stream",
     "text": [
      "{'average_precision_train': 0.375810982017969,\n",
      " 'average_precision_valid': 0.3763795197404632,\n",
      " 'epoch': 19,\n",
      " 'fold': 3,\n",
      " 'loss_train': 0.35592588692997534,\n",
      " 'loss_valid': 0.35655817726873,\n",
      " 'roc_auc_train': 0.8141002205666217,\n",
      " 'roc_auc_valid': 0.8200369995692424}\n",
      "roc_auc_max (0.819666 --> 0.820037). Saving model ...\n"
     ]
    },
    {
     "name": "stderr",
     "output_type": "stream",
     "text": [
      "\r",
      "  0%|          | 0/317 [00:00<?, ?it/s]"
     ]
    },
    {
     "name": "stdout",
     "output_type": "stream",
     "text": [
      "-----------------------------------------------------------------------------------------------------\n",
      "                                        FOLD:  4\n",
      "-----------------------------------------------------------------------------------------------------\n"
     ]
    },
    {
     "name": "stderr",
     "output_type": "stream",
     "text": [
      "loss: 0.35258, smth: 0.42439: 100%|██████████| 317/317 [01:52<00:00,  2.82it/s]\n",
      "loss: 0.56043, smth: 0.41543: 100%|██████████| 53/53 [00:07<00:00,  7.06it/s]\n"
     ]
    },
    {
     "name": "stdout",
     "output_type": "stream",
     "text": [
      "{'average_precision_train': 0.26572200848664057,\n",
      " 'average_precision_valid': 0.3113270855038603,\n",
      " 'epoch': 0,\n",
      " 'fold': 4,\n",
      " 'loss_train': 0.4522098740004591,\n",
      " 'loss_valid': 0.40891826490186295,\n",
      " 'roc_auc_train': 0.6617415041828908,\n",
      " 'roc_auc_valid': 0.7234496664187948}\n",
      "roc_auc_max (0.000000 --> 0.723450). Saving model ...\n",
      "ap_max (0.000000 --> 0.311327). Saving model ...\n"
     ]
    },
    {
     "name": "stderr",
     "output_type": "stream",
     "text": [
      "loss: 0.29180, smth: 0.42349: 100%|██████████| 317/317 [01:52<00:00,  2.82it/s]\n",
      "loss: 0.56323, smth: 0.40395: 100%|██████████| 53/53 [00:07<00:00,  7.08it/s]\n"
     ]
    },
    {
     "name": "stdout",
     "output_type": "stream",
     "text": [
      "{'average_precision_train': 0.28892662451322215,\n",
      " 'average_precision_valid': 0.3291404011657003,\n",
      " 'epoch': 1,\n",
      " 'fold': 4,\n",
      " 'loss_train': 0.41928162366997934,\n",
      " 'loss_valid': 0.39875585965390475,\n",
      " 'roc_auc_train': 0.7082709000101086,\n",
      " 'roc_auc_valid': 0.7586308832129856}\n",
      "roc_auc_max (0.723450 --> 0.758631). Saving model ...\n"
     ]
    },
    {
     "name": "stderr",
     "output_type": "stream",
     "text": [
      "\r",
      "  0%|          | 0/317 [00:00<?, ?it/s]"
     ]
    },
    {
     "name": "stdout",
     "output_type": "stream",
     "text": [
      "ap_max (0.311327 --> 0.329140). Saving model ...\n"
     ]
    },
    {
     "name": "stderr",
     "output_type": "stream",
     "text": [
      "loss: 0.55060, smth: 0.41684: 100%|██████████| 317/317 [01:52<00:00,  2.81it/s]\n",
      "loss: 0.53299, smth: 0.39681: 100%|██████████| 53/53 [00:07<00:00,  7.12it/s]\n"
     ]
    },
    {
     "name": "stdout",
     "output_type": "stream",
     "text": [
      "{'average_precision_train': 0.29608415828128737,\n",
      " 'average_precision_valid': 0.33343153037505774,\n",
      " 'epoch': 2,\n",
      " 'fold': 4,\n",
      " 'loss_train': 0.4144186785544507,\n",
      " 'loss_valid': 0.39056652812462933,\n",
      " 'roc_auc_train': 0.7223210348241575,\n",
      " 'roc_auc_valid': 0.7636596055946716}\n",
      "roc_auc_max (0.758631 --> 0.763660). Saving model ...\n"
     ]
    },
    {
     "name": "stderr",
     "output_type": "stream",
     "text": [
      "\r",
      "  0%|          | 0/317 [00:00<?, ?it/s]"
     ]
    },
    {
     "name": "stdout",
     "output_type": "stream",
     "text": [
      "ap_max (0.329140 --> 0.333432). Saving model ...\n"
     ]
    },
    {
     "name": "stderr",
     "output_type": "stream",
     "text": [
      "loss: 0.40129, smth: 0.38133: 100%|██████████| 317/317 [01:52<00:00,  2.83it/s]\n",
      "loss: 0.60771, smth: 0.42257: 100%|██████████| 53/53 [00:07<00:00,  7.11it/s]\n",
      "  0%|          | 0/317 [00:00<?, ?it/s]"
     ]
    },
    {
     "name": "stdout",
     "output_type": "stream",
     "text": [
      "{'average_precision_train': 0.3029232397086744,\n",
      " 'average_precision_valid': 0.32402908949825865,\n",
      " 'epoch': 3,\n",
      " 'fold': 4,\n",
      " 'loss_train': 0.4092534812466955,\n",
      " 'loss_valid': 0.4120157830557733,\n",
      " 'roc_auc_train': 0.7289174896550035,\n",
      " 'roc_auc_valid': 0.7536265351251092}\n"
     ]
    },
    {
     "name": "stderr",
     "output_type": "stream",
     "text": [
      "loss: 0.38048, smth: 0.39253: 100%|██████████| 317/317 [01:52<00:00,  2.83it/s]\n",
      "loss: 0.58499, smth: 0.39680: 100%|██████████| 53/53 [00:07<00:00,  7.04it/s]\n"
     ]
    },
    {
     "name": "stdout",
     "output_type": "stream",
     "text": [
      "{'average_precision_train': 0.3157352176177328,\n",
      " 'average_precision_valid': 0.33861590042674417,\n",
      " 'epoch': 4,\n",
      " 'fold': 4,\n",
      " 'loss_train': 0.4001725443906212,\n",
      " 'loss_valid': 0.3879502072649182,\n",
      " 'roc_auc_train': 0.7461793321399398,\n",
      " 'roc_auc_valid': 0.7685202713173246}\n",
      "roc_auc_max (0.763660 --> 0.768520). Saving model ...\n"
     ]
    },
    {
     "name": "stderr",
     "output_type": "stream",
     "text": [
      "\r",
      "  0%|          | 0/317 [00:00<?, ?it/s]"
     ]
    },
    {
     "name": "stdout",
     "output_type": "stream",
     "text": [
      "ap_max (0.333432 --> 0.338616). Saving model ...\n"
     ]
    },
    {
     "name": "stderr",
     "output_type": "stream",
     "text": [
      "loss: 0.31214, smth: 0.38046: 100%|██████████| 317/317 [01:53<00:00,  2.79it/s]\n",
      "loss: 0.54811, smth: 0.39770: 100%|██████████| 53/53 [00:07<00:00,  7.03it/s]\n"
     ]
    },
    {
     "name": "stdout",
     "output_type": "stream",
     "text": [
      "{'average_precision_train': 0.316315496151261,\n",
      " 'average_precision_valid': 0.34064537922740423,\n",
      " 'epoch': 5,\n",
      " 'fold': 4,\n",
      " 'loss_train': 0.39986438456958023,\n",
      " 'loss_valid': 0.3931668889972399,\n",
      " 'roc_auc_train': 0.7511733494189555,\n",
      " 'roc_auc_valid': 0.7809900590514565}\n",
      "roc_auc_max (0.768520 --> 0.780990). Saving model ...\n",
      "ap_max (0.338616 --> 0.340645). Saving model ...\n"
     ]
    },
    {
     "name": "stderr",
     "output_type": "stream",
     "text": [
      "loss: 0.32535, smth: 0.36044: 100%|██████████| 317/317 [01:52<00:00,  2.81it/s]\n",
      "loss: 0.57602, smth: 0.40395: 100%|██████████| 53/53 [00:07<00:00,  7.11it/s]\n",
      "  0%|          | 0/317 [00:00<?, ?it/s]"
     ]
    },
    {
     "name": "stdout",
     "output_type": "stream",
     "text": [
      "Epoch     7: reducing learning rate of group 0 to 1.0000e-04.\n",
      "{'average_precision_train': 0.3250797932938226,\n",
      " 'average_precision_valid': 0.33932895510325994,\n",
      " 'epoch': 6,\n",
      " 'fold': 4,\n",
      " 'loss_train': 0.39246853904017137,\n",
      " 'loss_valid': 0.390802800374211,\n",
      " 'roc_auc_train': 0.7612678609476273,\n",
      " 'roc_auc_valid': 0.7760114158708757}\n"
     ]
    },
    {
     "name": "stderr",
     "output_type": "stream",
     "text": [
      "loss: 0.54102, smth: 0.39262: 100%|██████████| 317/317 [01:52<00:00,  2.81it/s]\n",
      "loss: 0.58450, smth: 0.38755: 100%|██████████| 53/53 [00:07<00:00,  7.10it/s]\n"
     ]
    },
    {
     "name": "stdout",
     "output_type": "stream",
     "text": [
      "{'average_precision_train': 0.3511907215933165,\n",
      " 'average_precision_valid': 0.36003577477166054,\n",
      " 'epoch': 7,\n",
      " 'fold': 4,\n",
      " 'loss_train': 0.3765067581310633,\n",
      " 'loss_valid': 0.37398495989025765,\n",
      " 'roc_auc_train': 0.7869750466510584,\n",
      " 'roc_auc_valid': 0.8000011691427609}\n",
      "roc_auc_max (0.780990 --> 0.800001). Saving model ...\n"
     ]
    },
    {
     "name": "stderr",
     "output_type": "stream",
     "text": [
      "\r",
      "  0%|          | 0/317 [00:00<?, ?it/s]"
     ]
    },
    {
     "name": "stdout",
     "output_type": "stream",
     "text": [
      "ap_max (0.340645 --> 0.360036). Saving model ...\n"
     ]
    },
    {
     "name": "stderr",
     "output_type": "stream",
     "text": [
      "loss: 0.38221, smth: 0.38121: 100%|██████████| 317/317 [01:52<00:00,  2.83it/s]\n",
      "loss: 0.60072, smth: 0.38784: 100%|██████████| 53/53 [00:07<00:00,  7.08it/s]\n"
     ]
    },
    {
     "name": "stdout",
     "output_type": "stream",
     "text": [
      "{'average_precision_train': 0.3595543337545006,\n",
      " 'average_precision_valid': 0.3606649868689203,\n",
      " 'epoch': 8,\n",
      " 'fold': 4,\n",
      " 'loss_train': 0.3685761483779841,\n",
      " 'loss_valid': 0.3724375901357183,\n",
      " 'roc_auc_train': 0.798896982776891,\n",
      " 'roc_auc_valid': 0.8022526847966085}\n",
      "roc_auc_max (0.800001 --> 0.802253). Saving model ...\n"
     ]
    },
    {
     "name": "stderr",
     "output_type": "stream",
     "text": [
      "\r",
      "  0%|          | 0/317 [00:00<?, ?it/s]"
     ]
    },
    {
     "name": "stdout",
     "output_type": "stream",
     "text": [
      "ap_max (0.360036 --> 0.360665). Saving model ...\n"
     ]
    },
    {
     "name": "stderr",
     "output_type": "stream",
     "text": [
      "loss: 0.31726, smth: 0.34531: 100%|██████████| 317/317 [01:52<00:00,  2.83it/s]\n",
      "loss: 0.58842, smth: 0.38591: 100%|██████████| 53/53 [00:07<00:00,  7.11it/s]\n"
     ]
    },
    {
     "name": "stdout",
     "output_type": "stream",
     "text": [
      "{'average_precision_train': 0.36186551460803623,\n",
      " 'average_precision_valid': 0.3607482227999366,\n",
      " 'epoch': 9,\n",
      " 'fold': 4,\n",
      " 'loss_train': 0.36644546259840954,\n",
      " 'loss_valid': 0.372139518553356,\n",
      " 'roc_auc_train': 0.8012482589664176,\n",
      " 'roc_auc_valid': 0.805945876493181}\n",
      "roc_auc_max (0.802253 --> 0.805946). Saving model ...\n"
     ]
    },
    {
     "name": "stderr",
     "output_type": "stream",
     "text": [
      "\r",
      "  0%|          | 0/317 [00:00<?, ?it/s]"
     ]
    },
    {
     "name": "stdout",
     "output_type": "stream",
     "text": [
      "ap_max (0.360665 --> 0.360748). Saving model ...\n"
     ]
    },
    {
     "name": "stderr",
     "output_type": "stream",
     "text": [
      "loss: 0.36809, smth: 0.34194: 100%|██████████| 317/317 [01:54<00:00,  2.77it/s]\n",
      "loss: 0.59692, smth: 0.38412: 100%|██████████| 53/53 [00:07<00:00,  6.64it/s]\n"
     ]
    },
    {
     "name": "stdout",
     "output_type": "stream",
     "text": [
      "{'average_precision_train': 0.3608696272205723,\n",
      " 'average_precision_valid': 0.36942984713067445,\n",
      " 'epoch': 10,\n",
      " 'fold': 4,\n",
      " 'loss_train': 0.3652470105265969,\n",
      " 'loss_valid': 0.370018536470971,\n",
      " 'roc_auc_train': 0.803210943546787,\n",
      " 'roc_auc_valid': 0.8087309572090196}\n",
      "roc_auc_max (0.805946 --> 0.808731). Saving model ...\n"
     ]
    },
    {
     "name": "stderr",
     "output_type": "stream",
     "text": [
      "\r",
      "  0%|          | 0/317 [00:00<?, ?it/s]"
     ]
    },
    {
     "name": "stdout",
     "output_type": "stream",
     "text": [
      "ap_max (0.360748 --> 0.369430). Saving model ...\n"
     ]
    },
    {
     "name": "stderr",
     "output_type": "stream",
     "text": [
      "loss: 0.32947, smth: 0.36355: 100%|██████████| 317/317 [01:55<00:00,  2.75it/s]\n",
      "loss: 0.60012, smth: 0.39005: 100%|██████████| 53/53 [00:07<00:00,  7.08it/s]\n",
      "  0%|          | 0/317 [00:00<?, ?it/s]"
     ]
    },
    {
     "name": "stdout",
     "output_type": "stream",
     "text": [
      "{'average_precision_train': 0.3676394873246487,\n",
      " 'average_precision_valid': 0.3684935037731248,\n",
      " 'epoch': 11,\n",
      " 'fold': 4,\n",
      " 'loss_train': 0.36074947248497974,\n",
      " 'loss_valid': 0.3764108891757029,\n",
      " 'roc_auc_train': 0.8080003308682827,\n",
      " 'roc_auc_valid': 0.8050124527843439}\n"
     ]
    },
    {
     "name": "stderr",
     "output_type": "stream",
     "text": [
      "loss: 0.36405, smth: 0.36810: 100%|██████████| 317/317 [01:52<00:00,  2.82it/s]\n",
      "loss: 0.56556, smth: 0.38868: 100%|██████████| 53/53 [00:07<00:00,  7.08it/s]\n",
      "  0%|          | 0/317 [00:00<?, ?it/s]"
     ]
    },
    {
     "name": "stdout",
     "output_type": "stream",
     "text": [
      "Epoch    13: reducing learning rate of group 0 to 1.0000e-05.\n",
      "{'average_precision_train': 0.3756112726549283,\n",
      " 'average_precision_valid': 0.3664378278483184,\n",
      " 'epoch': 12,\n",
      " 'fold': 4,\n",
      " 'loss_train': 0.3571649363928413,\n",
      " 'loss_valid': 0.37531391742094505,\n",
      " 'roc_auc_train': 0.815776669066403,\n",
      " 'roc_auc_valid': 0.8054173160228231}\n"
     ]
    },
    {
     "name": "stderr",
     "output_type": "stream",
     "text": [
      "loss: 0.37384, smth: 0.35784: 100%|██████████| 317/317 [01:52<00:00,  2.83it/s]\n",
      "loss: 0.56672, smth: 0.38827: 100%|██████████| 53/53 [00:07<00:00,  7.06it/s]\n",
      "  0%|          | 0/317 [00:00<?, ?it/s]"
     ]
    },
    {
     "name": "stdout",
     "output_type": "stream",
     "text": [
      "{'average_precision_train': 0.3826769418809473,\n",
      " 'average_precision_valid': 0.36752433163528325,\n",
      " 'epoch': 13,\n",
      " 'fold': 4,\n",
      " 'loss_train': 0.35158048908605183,\n",
      " 'loss_valid': 0.3745445600658093,\n",
      " 'roc_auc_train': 0.8242396756678594,\n",
      " 'roc_auc_valid': 0.8067322799649788}\n"
     ]
    },
    {
     "name": "stderr",
     "output_type": "stream",
     "text": [
      "loss: 0.57915, smth: 0.37584: 100%|██████████| 317/317 [01:52<00:00,  2.82it/s]\n",
      "loss: 0.56775, smth: 0.38644: 100%|██████████| 53/53 [00:07<00:00,  7.07it/s]\n",
      "  0%|          | 0/317 [00:00<?, ?it/s]"
     ]
    },
    {
     "name": "stdout",
     "output_type": "stream",
     "text": [
      "Epoch    15: reducing learning rate of group 0 to 1.0000e-06.\n",
      "{'average_precision_train': 0.3807739515983335,\n",
      " 'average_precision_valid': 0.3682032912673956,\n",
      " 'epoch': 14,\n",
      " 'fold': 4,\n",
      " 'loss_train': 0.3525073706915702,\n",
      " 'loss_valid': 0.3728827862244732,\n",
      " 'roc_auc_train': 0.8193998456545268,\n",
      " 'roc_auc_valid': 0.8080411439762625}\n"
     ]
    },
    {
     "name": "stderr",
     "output_type": "stream",
     "text": [
      "loss: 0.38001, smth: 0.36166: 100%|██████████| 317/317 [01:52<00:00,  2.83it/s]\n",
      "loss: 0.57435, smth: 0.38729: 100%|██████████| 53/53 [00:07<00:00,  7.08it/s]\n"
     ]
    },
    {
     "name": "stdout",
     "output_type": "stream",
     "text": [
      "{'average_precision_train': 0.38591187395746274,\n",
      " 'average_precision_valid': 0.36838568710163727,\n",
      " 'epoch': 15,\n",
      " 'fold': 4,\n",
      " 'loss_train': 0.3503647302791523,\n",
      " 'loss_valid': 0.3736475374338762,\n",
      " 'roc_auc_train': 0.8238557865560044,\n",
      " 'roc_auc_valid': 0.8069385339305489}\n",
      "Early Stopping...\n"
     ]
    }
   ],
   "source": [
    "for fold in CFG.folds:\n",
    "    train_loader, valid_loader = prepare_train_valid_dataloader(\n",
    "        df=df_train, fold=fold, target_cols=CFG.target_columns,\n",
    "        train_transform=train_transform, valid_transform=valid_transform,\n",
    "        train_batch_size=CFG.train_batch_size, valid_batch_size=CFG.valid_batch_size,\n",
    "        num_workers=CFG.num_workers\n",
    "    )\n",
    "    \n",
    "    model = CovidEffnetModel(model_name=CFG.kernel_type, pretrained=True).to(device)\n",
    "#     model = CovidGeneralModel(model_name=CFG.kernel_type, pretrained=True).to(device)\n",
    "    optimizer = optim.Adam(model.parameters(), lr=CFG.init_lr, weight_decay=CFG.weight_decay)\n",
    "    scheduler = ReduceLROnPlateau(\n",
    "        optimizer, mode='min', patience=1, min_lr=1e-6, factor=0.1, verbose=True, eps=1e-8\n",
    "    )\n",
    "\n",
    "    num_epochs = CFG.n_epochs\n",
    "\n",
    "    print(\"-----------------------------------------------------------------------------------------------------\")\n",
    "    print(\"                                        FOLD: \", fold)\n",
    "    print(\"-----------------------------------------------------------------------------------------------------\")\n",
    "    \n",
    "    roc_auc_max = 0.0\n",
    "    loss_min = 99999\n",
    "    ap_max = 0.0\n",
    "    not_improving = 0\n",
    "    metrics_list = list()\n",
    "    \n",
    "    for epoch in range(num_epochs):\n",
    "        \n",
    "        loss_train, roc_auc_train, average_precision_train = train_one_epoch(\n",
    "            model, device, criterion, optimizer, train_loader, CFG.use_amp, CFG.target_columns)\n",
    "        \n",
    "        loss_valid, roc_auc_valid, average_precision_valid = valid_func(\n",
    "            model, device, criterion, valid_loader, CFG.target_columns)\n",
    "        \n",
    "        scheduler.step(loss_valid)\n",
    "        \n",
    "        metrics_dictionary = {}\n",
    "        metrics_dictionary['epoch'] = epoch\n",
    "        metrics_dictionary['loss_train'] = loss_train\n",
    "        metrics_dictionary['loss_valid'] = loss_valid\n",
    "        metrics_dictionary['roc_auc_train'] = roc_auc_train\n",
    "        metrics_dictionary['roc_auc_valid'] = roc_auc_valid\n",
    "        metrics_dictionary['average_precision_train'] = average_precision_train\n",
    "        metrics_dictionary['average_precision_valid'] = average_precision_valid\n",
    "        metrics_dictionary['fold'] = fold\n",
    "        pprint.pprint(metrics_dictionary)\n",
    "        metrics_list.append(metrics_dictionary)\n",
    "        \n",
    "        not_improving += 1\n",
    "        if roc_auc_valid > roc_auc_max:\n",
    "            print(f'roc_auc_max ({roc_auc_max:.6f} --> {roc_auc_valid:.6f}). Saving model ...')\n",
    "            torch.save(model.state_dict(), f'{CFG.model_dir}{CFG.kernel_type}_fold{fold}_best_AUC.pth')\n",
    "            roc_auc_max = roc_auc_valid\n",
    "            not_improving = 0\n",
    "\n",
    "        if loss_valid < loss_min:\n",
    "            loss_min = loss_valid\n",
    "            torch.save(model.state_dict(), f'{CFG.model_dir}{CFG.kernel_type}_fold{fold}_best_loss.pth')\n",
    "\n",
    "        if average_precision_valid > ap_max:\n",
    "            print(f'ap_max ({ap_max:.6f} --> {average_precision_valid:.6f}). Saving model ...')\n",
    "            torch.save(model.state_dict(), f'{CFG.model_dir}{CFG.kernel_type}_fold{fold}_best_AP.pth')\n",
    "            ap_max = average_precision_valid\n",
    "#             not_improving = 0\n",
    "            \n",
    "        if not_improving == CFG.early_stop:\n",
    "            print('Early Stopping...')\n",
    "            break\n",
    "\n",
    "    \n",
    "    metrics = pd.DataFrame(metrics_list)\n",
    "    metrics.to_csv(f'{CFG.model_dir}{CFG.kernel_type}_fold{fold}_final.csv', index=False)\n",
    "    torch.save(model.state_dict(), f'{CFG.model_dir}{CFG.kernel_type}_fold{fold}_final.pth')\n"
   ]
  },
  {
   "cell_type": "code",
   "execution_count": null,
   "id": "df902211",
   "metadata": {},
   "outputs": [],
   "source": []
  },
  {
   "cell_type": "code",
   "execution_count": null,
   "id": "82ad2cfc",
   "metadata": {},
   "outputs": [],
   "source": []
  }
 ],
 "metadata": {
  "kernelspec": {
   "display_name": "covid_env",
   "language": "python",
   "name": "covid_env"
  },
  "language_info": {
   "codemirror_mode": {
    "name": "ipython",
    "version": 3
   },
   "file_extension": ".py",
   "mimetype": "text/x-python",
   "name": "python",
   "nbconvert_exporter": "python",
   "pygments_lexer": "ipython3",
   "version": "3.8.8"
  }
 },
 "nbformat": 4,
 "nbformat_minor": 5
}
