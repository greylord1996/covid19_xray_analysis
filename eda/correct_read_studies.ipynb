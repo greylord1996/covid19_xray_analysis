{
 "cells": [
  {
   "cell_type": "code",
   "execution_count": 1,
   "id": "2d98f4d4",
   "metadata": {},
   "outputs": [],
   "source": [
    "import pandas as pd\n",
    "import numpy as np\n",
    "import os\n",
    "\n",
    "from PIL import Image\n",
    "from tqdm.auto import tqdm"
   ]
  },
  {
   "cell_type": "code",
   "execution_count": 2,
   "id": "79944d97",
   "metadata": {},
   "outputs": [
    {
     "data": {
      "application/vnd.jupyter.widget-view+json": {
       "model_id": "de18ec2ba6b04801bf26b27fd69d9b81",
       "version_major": 2,
       "version_minor": 0
      },
      "text/plain": [
       "0it [00:00, ?it/s]"
      ]
     },
     "metadata": {},
     "output_type": "display_data"
    },
    {
     "name": "stdout",
     "output_type": "stream",
     "text": [
      "6334\n"
     ]
    }
   ],
   "source": [
    "dicoms = []\n",
    "image_study_dict = dict()\n",
    "for dirname, _, filenames in tqdm(os.walk('../../../hdd/storage/siim_covid_detection/kaggle_input/train/')):\n",
    "    for file in filenames:\n",
    "        dicoms.append(file)\n",
    "        study = dirname.split('/')[-2] + '_study'\n",
    "        a = file + '_image'\n",
    "        a = a.replace('.dcm', '')\n",
    "        image_study_dict[a] = study\n",
    "#         image_study_list.append(a.replace('.dcm', ''))\n",
    "#         im.save(os.path.join(save_dir, study))\n",
    "print(len(dicoms))"
   ]
  },
  {
   "cell_type": "code",
   "execution_count": 3,
   "id": "a6a9867b",
   "metadata": {},
   "outputs": [
    {
     "data": {
      "text/html": [
       "<div>\n",
       "<style scoped>\n",
       "    .dataframe tbody tr th:only-of-type {\n",
       "        vertical-align: middle;\n",
       "    }\n",
       "\n",
       "    .dataframe tbody tr th {\n",
       "        vertical-align: top;\n",
       "    }\n",
       "\n",
       "    .dataframe thead th {\n",
       "        text-align: right;\n",
       "    }\n",
       "</style>\n",
       "<table border=\"1\" class=\"dataframe\">\n",
       "  <thead>\n",
       "    <tr style=\"text-align: right;\">\n",
       "      <th></th>\n",
       "      <th>image_id</th>\n",
       "      <th>study_id</th>\n",
       "    </tr>\n",
       "  </thead>\n",
       "  <tbody>\n",
       "    <tr>\n",
       "      <th>0</th>\n",
       "      <td>b1bed038a501_image</td>\n",
       "      <td>6ebfc762aa01_study</td>\n",
       "    </tr>\n",
       "    <tr>\n",
       "      <th>1</th>\n",
       "      <td>23a5144c8749_image</td>\n",
       "      <td>a282ce9c0b8b_study</td>\n",
       "    </tr>\n",
       "    <tr>\n",
       "      <th>2</th>\n",
       "      <td>3a3d1ed85206_image</td>\n",
       "      <td>aab84245d034_study</td>\n",
       "    </tr>\n",
       "    <tr>\n",
       "      <th>3</th>\n",
       "      <td>8d8edfaaf473_image</td>\n",
       "      <td>bf912917376f_study</td>\n",
       "    </tr>\n",
       "    <tr>\n",
       "      <th>4</th>\n",
       "      <td>13edd4bdbbe4_image</td>\n",
       "      <td>7703e1787577_study</td>\n",
       "    </tr>\n",
       "    <tr>\n",
       "      <th>...</th>\n",
       "      <td>...</td>\n",
       "      <td>...</td>\n",
       "    </tr>\n",
       "    <tr>\n",
       "      <th>6329</th>\n",
       "      <td>9a162b548ee4_image</td>\n",
       "      <td>362a970635e4_study</td>\n",
       "    </tr>\n",
       "    <tr>\n",
       "      <th>6330</th>\n",
       "      <td>04aac8fba348_image</td>\n",
       "      <td>9cdeca924178_study</td>\n",
       "    </tr>\n",
       "    <tr>\n",
       "      <th>6331</th>\n",
       "      <td>8e843bfe6705_image</td>\n",
       "      <td>7f0a5ea1b11b_study</td>\n",
       "    </tr>\n",
       "    <tr>\n",
       "      <th>6332</th>\n",
       "      <td>86a2f241cf70_image</td>\n",
       "      <td>16954003ded9_study</td>\n",
       "    </tr>\n",
       "    <tr>\n",
       "      <th>6333</th>\n",
       "      <td>d479e8a775d6_image</td>\n",
       "      <td>0adaae6adf1b_study</td>\n",
       "    </tr>\n",
       "  </tbody>\n",
       "</table>\n",
       "<p>6334 rows × 2 columns</p>\n",
       "</div>"
      ],
      "text/plain": [
       "                image_id            study_id\n",
       "0     b1bed038a501_image  6ebfc762aa01_study\n",
       "1     23a5144c8749_image  a282ce9c0b8b_study\n",
       "2     3a3d1ed85206_image  aab84245d034_study\n",
       "3     8d8edfaaf473_image  bf912917376f_study\n",
       "4     13edd4bdbbe4_image  7703e1787577_study\n",
       "...                  ...                 ...\n",
       "6329  9a162b548ee4_image  362a970635e4_study\n",
       "6330  04aac8fba348_image  9cdeca924178_study\n",
       "6331  8e843bfe6705_image  7f0a5ea1b11b_study\n",
       "6332  86a2f241cf70_image  16954003ded9_study\n",
       "6333  d479e8a775d6_image  0adaae6adf1b_study\n",
       "\n",
       "[6334 rows x 2 columns]"
      ]
     },
     "execution_count": 3,
     "metadata": {},
     "output_type": "execute_result"
    }
   ],
   "source": [
    "pd.DataFrame(image_study_dict.items(), columns=['image_id', 'study_id'])"
   ]
  },
  {
   "cell_type": "code",
   "execution_count": null,
   "id": "bdfe57d0",
   "metadata": {},
   "outputs": [],
   "source": []
  }
 ],
 "metadata": {
  "kernelspec": {
   "display_name": "covid_env",
   "language": "python",
   "name": "covid_env"
  },
  "language_info": {
   "codemirror_mode": {
    "name": "ipython",
    "version": 3
   },
   "file_extension": ".py",
   "mimetype": "text/x-python",
   "name": "python",
   "nbconvert_exporter": "python",
   "pygments_lexer": "ipython3",
   "version": "3.8.8"
  }
 },
 "nbformat": 4,
 "nbformat_minor": 5
}
