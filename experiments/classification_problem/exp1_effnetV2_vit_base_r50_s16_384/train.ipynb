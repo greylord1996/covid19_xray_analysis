{
 "cells": [
  {
   "cell_type": "markdown",
   "id": "f8a1cfb1",
   "metadata": {},
   "source": [
    "DEFINE \"PATH_TO_IMAGES\" on your local machine"
   ]
  },
  {
   "cell_type": "code",
   "execution_count": 1,
   "id": "0d455176",
   "metadata": {},
   "outputs": [],
   "source": [
    "import sys\n",
    "import os\n",
    "\n",
    "import pandas as pd\n",
    "\n",
    "import torch\n",
    "import torch.optim as optim\n",
    "import torch.nn as nn\n",
    "from torch.optim.lr_scheduler import ReduceLROnPlateau\n",
    "\n",
    "import pprint\n",
    "\n",
    "from warnings import filterwarnings\n",
    "filterwarnings(\"ignore\")\n",
    "\n",
    "sys.path.append(os.path.join(str(os.path.abspath('')), \"..\", \"..\", \"..\", \"..\", \"..\"))\n",
    "\n",
    "from src.classification.resNet_model import CovidResNetModel\n",
    "from src.classification.efficientNet_model import CovidEffnetModel\n",
    "from src.classification.generalized_clf import CovidGeneralModel\n",
    "from src.classification.train_one_epoch import train_one_epoch\n",
    "from src.classification.validate_func import valid_func\n",
    "from src.classification.classification_transforms import get_transform\n",
    "from src.classification.get_data_loaders import prepare_train_valid_dataloader"
   ]
  },
  {
   "cell_type": "code",
   "execution_count": 2,
   "id": "f70eedc9",
   "metadata": {},
   "outputs": [],
   "source": [
    "class CFG:\n",
    "    debug = False # change this to run on full data\n",
    "    \n",
    "    image_size = 384\n",
    "    target_columns = [\n",
    "        'Negative for Pneumonia',\n",
    "        'Typical Appearance',\n",
    "        'Indeterminate Appearance',\n",
    "        'Atypical Appearance'\n",
    "    ]\n",
    "    folds = [0, 1, 2, 3, 4]\n",
    "    \n",
    "    kernel_type = 'vit_base_r50_s16_384'\n",
    "    train_batch_size = 10\n",
    "    valid_batch_size = 24\n",
    "    \n",
    "    init_lr = 1e-4\n",
    "    weight_decay=1e-5\n",
    "    \n",
    "    n_epochs = 20\n",
    "    num_workers = 4\n",
    "\n",
    "    use_amp=False\n",
    "    early_stop = 5\n",
    "\n",
    "    data_dir = PATH_TO_IMAGES # !!! DEFINE \"PATH_TO_IMAGES\" on your local machine\n",
    "    model_dir = f'weights/'\n",
    "    seed=42\n",
    "    "
   ]
  },
  {
   "cell_type": "code",
   "execution_count": 3,
   "id": "9644c549",
   "metadata": {},
   "outputs": [
    {
     "name": "stdout",
     "output_type": "stream",
     "text": [
      "mkdir: cannot create directory ‘weights/’: File exists\r\n"
     ]
    }
   ],
   "source": [
    "! mkdir $CFG.model_dir"
   ]
  },
  {
   "cell_type": "code",
   "execution_count": 4,
   "id": "155de77b",
   "metadata": {},
   "outputs": [],
   "source": [
    "df_train = pd.read_csv('../cross_validation_scheme/crossval_info/original_data/multi_label_problem.csv')\n",
    "df_train['image_name'] = df_train['image_id'].apply(lambda x: x.replace('_image', '.png'))\n",
    "df_train['file_path'] = df_train.image_name.apply(lambda x: os.path.join(CFG.data_dir, f'{x}'))\n",
    "if CFG.debug:\n",
    "    df_train = df_train.sample(frac=0.1)"
   ]
  },
  {
   "cell_type": "code",
   "execution_count": 5,
   "id": "c7a2b14a",
   "metadata": {},
   "outputs": [],
   "source": [
    "train_transform = get_transform(img_size=CFG.image_size, transform_type='try_new_strong')\n",
    "valid_transform = get_transform(img_size=CFG.image_size, transform_type='val')\n",
    "\n",
    "criterion = nn.BCEWithLogitsLoss()\n",
    "device = torch.device('cuda' if torch.cuda.is_available() else 'cpu')"
   ]
  },
  {
   "cell_type": "code",
   "execution_count": 6,
   "id": "46b4d0c1",
   "metadata": {},
   "outputs": [
    {
     "name": "stderr",
     "output_type": "stream",
     "text": [
      "\r",
      "  0%|          | 0/507 [00:00<?, ?it/s]"
     ]
    },
    {
     "name": "stdout",
     "output_type": "stream",
     "text": [
      "-----------------------------------------------------------------------------------------------------\n",
      "                                        FOLD:  0\n",
      "-----------------------------------------------------------------------------------------------------\n"
     ]
    },
    {
     "name": "stderr",
     "output_type": "stream",
     "text": [
      "loss: 0.25369, smth: 0.40384: 100%|██████████| 507/507 [02:45<00:00,  3.07it/s]\n",
      "loss: 0.48044, smth: 0.47661: 100%|██████████| 53/53 [00:11<00:00,  4.45it/s]\n"
     ]
    },
    {
     "name": "stdout",
     "output_type": "stream",
     "text": [
      "{'average_precision_train': 0.2662572567833547,\n",
      " 'average_precision_valid': 0.3167014881759896,\n",
      " 'epoch': 0,\n",
      " 'fold': 0,\n",
      " 'loss_train': 0.44913920842449107,\n",
      " 'loss_valid': 0.47281023297669755,\n",
      " 'roc_auc_train': 0.6646755515949697,\n",
      " 'roc_auc_valid': 0.7449565409694058}\n",
      "roc_auc_max (0.000000 --> 0.744957). Saving model ...\n",
      "ap_max (0.000000 --> 0.316701). Saving model ...\n"
     ]
    },
    {
     "name": "stderr",
     "output_type": "stream",
     "text": [
      "loss: 0.59104, smth: 0.40741: 100%|██████████| 507/507 [02:42<00:00,  3.12it/s]\n",
      "loss: 0.45673, smth: 0.40397: 100%|██████████| 53/53 [00:11<00:00,  4.49it/s]\n"
     ]
    },
    {
     "name": "stdout",
     "output_type": "stream",
     "text": [
      "{'average_precision_train': 0.28850566126189586,\n",
      " 'average_precision_valid': 0.33318070907827274,\n",
      " 'epoch': 1,\n",
      " 'fold': 0,\n",
      " 'loss_train': 0.4240548640665923,\n",
      " 'loss_valid': 0.39740052481867233,\n",
      " 'roc_auc_train': 0.7024407046682402,\n",
      " 'roc_auc_valid': 0.7669249805182213}\n",
      "roc_auc_max (0.744957 --> 0.766925). Saving model ...\n",
      "ap_max (0.316701 --> 0.333181). Saving model ...\n"
     ]
    },
    {
     "name": "stderr",
     "output_type": "stream",
     "text": [
      "loss: 0.44765, smth: 0.43975: 100%|██████████| 507/507 [02:39<00:00,  3.18it/s]\n",
      "loss: 0.50501, smth: 0.45943: 100%|██████████| 53/53 [00:11<00:00,  4.42it/s]\n",
      "  0%|          | 0/507 [00:00<?, ?it/s]"
     ]
    },
    {
     "name": "stdout",
     "output_type": "stream",
     "text": [
      "{'average_precision_train': 0.30085421146036095,\n",
      " 'average_precision_valid': 0.31691188405021525,\n",
      " 'epoch': 2,\n",
      " 'fold': 0,\n",
      " 'loss_train': 0.412880790921358,\n",
      " 'loss_valid': 0.4558326624474435,\n",
      " 'roc_auc_train': 0.727499558050971,\n",
      " 'roc_auc_valid': 0.7361291745292019}\n"
     ]
    },
    {
     "name": "stderr",
     "output_type": "stream",
     "text": [
      "loss: 0.50161, smth: 0.37869: 100%|██████████| 507/507 [02:39<00:00,  3.18it/s]\n",
      "loss: 0.46525, smth: 0.40901: 100%|██████████| 53/53 [00:11<00:00,  4.42it/s]\n"
     ]
    },
    {
     "name": "stdout",
     "output_type": "stream",
     "text": [
      "Epoch     4: reducing learning rate of group 0 to 1.0000e-05.\n",
      "{'average_precision_train': 0.3086557715454528,\n",
      " 'average_precision_valid': 0.3365450501919293,\n",
      " 'epoch': 3,\n",
      " 'fold': 0,\n",
      " 'loss_train': 0.40680854204726175,\n",
      " 'loss_valid': 0.40685795388131774,\n",
      " 'roc_auc_train': 0.7408645578511631,\n",
      " 'roc_auc_valid': 0.7736104453692602}\n",
      "roc_auc_max (0.766925 --> 0.773610). Saving model ...\n",
      "ap_max (0.333181 --> 0.336545). Saving model ...\n"
     ]
    },
    {
     "name": "stderr",
     "output_type": "stream",
     "text": [
      "loss: 0.29634, smth: 0.35332: 100%|██████████| 507/507 [02:39<00:00,  3.18it/s]\n",
      "loss: 0.49262, smth: 0.38242: 100%|██████████| 53/53 [00:11<00:00,  4.43it/s]\n"
     ]
    },
    {
     "name": "stdout",
     "output_type": "stream",
     "text": [
      "{'average_precision_train': 0.34977032223684246,\n",
      " 'average_precision_valid': 0.3477363954878598,\n",
      " 'epoch': 4,\n",
      " 'fold': 0,\n",
      " 'loss_train': 0.37607715929871244,\n",
      " 'loss_valid': 0.3789684623479843,\n",
      " 'roc_auc_train': 0.7878185063939481,\n",
      " 'roc_auc_valid': 0.791440486692784}\n",
      "roc_auc_max (0.773610 --> 0.791440). Saving model ...\n",
      "ap_max (0.336545 --> 0.347736). Saving model ...\n"
     ]
    },
    {
     "name": "stderr",
     "output_type": "stream",
     "text": [
      "loss: 0.25312, smth: 0.34821: 100%|██████████| 507/507 [02:38<00:00,  3.19it/s]\n",
      "loss: 0.48549, smth: 0.37925: 100%|██████████| 53/53 [00:11<00:00,  4.43it/s]\n"
     ]
    },
    {
     "name": "stdout",
     "output_type": "stream",
     "text": [
      "{'average_precision_train': 0.35832584940712237,\n",
      " 'average_precision_valid': 0.35185254679003214,\n",
      " 'epoch': 5,\n",
      " 'fold': 0,\n",
      " 'loss_train': 0.37104897109949614,\n",
      " 'loss_valid': 0.37633258357362925,\n",
      " 'roc_auc_train': 0.7970515426292388,\n",
      " 'roc_auc_valid': 0.796073506498371}\n",
      "roc_auc_max (0.791440 --> 0.796074). Saving model ...\n",
      "ap_max (0.347736 --> 0.351853). Saving model ...\n"
     ]
    },
    {
     "name": "stderr",
     "output_type": "stream",
     "text": [
      "loss: 0.20935, smth: 0.38280: 100%|██████████| 507/507 [02:39<00:00,  3.18it/s]\n",
      "loss: 0.45386, smth: 0.37537: 100%|██████████| 53/53 [00:11<00:00,  4.51it/s]\n"
     ]
    },
    {
     "name": "stdout",
     "output_type": "stream",
     "text": [
      "{'average_precision_train': 0.3616295001324628,\n",
      " 'average_precision_valid': 0.35565420674863396,\n",
      " 'epoch': 6,\n",
      " 'fold': 0,\n",
      " 'loss_train': 0.36854484587672665,\n",
      " 'loss_valid': 0.3723610583341347,\n",
      " 'roc_auc_train': 0.7982633847260261,\n",
      " 'roc_auc_valid': 0.7981445140941603}\n",
      "roc_auc_max (0.796074 --> 0.798145). Saving model ...\n",
      "ap_max (0.351853 --> 0.355654). Saving model ...\n"
     ]
    },
    {
     "name": "stderr",
     "output_type": "stream",
     "text": [
      "loss: 0.21378, smth: 0.36721: 100%|██████████| 507/507 [02:36<00:00,  3.23it/s]\n",
      "loss: 0.49315, smth: 0.37788: 100%|██████████| 53/53 [00:11<00:00,  4.50it/s]\n"
     ]
    },
    {
     "name": "stdout",
     "output_type": "stream",
     "text": [
      "{'average_precision_train': 0.36767038973370175,\n",
      " 'average_precision_valid': 0.36084956763601256,\n",
      " 'epoch': 7,\n",
      " 'fold': 0,\n",
      " 'loss_train': 0.3651205098487922,\n",
      " 'loss_valid': 0.37335146935480945,\n",
      " 'roc_auc_train': 0.8080839999008637,\n",
      " 'roc_auc_valid': 0.8004462401717388}\n",
      "roc_auc_max (0.798145 --> 0.800446). Saving model ...\n",
      "ap_max (0.355654 --> 0.360850). Saving model ...\n"
     ]
    },
    {
     "name": "stderr",
     "output_type": "stream",
     "text": [
      "loss: 0.29026, smth: 0.37703: 100%|██████████| 507/507 [02:37<00:00,  3.22it/s]\n",
      "loss: 0.48793, smth: 0.37426: 100%|██████████| 53/53 [00:12<00:00,  4.24it/s]\n"
     ]
    },
    {
     "name": "stdout",
     "output_type": "stream",
     "text": [
      "{'average_precision_train': 0.36854903382143384,\n",
      " 'average_precision_valid': 0.3624999548625956,\n",
      " 'epoch': 8,\n",
      " 'fold': 0,\n",
      " 'loss_train': 0.3620544271415037,\n",
      " 'loss_valid': 0.3703320293493991,\n",
      " 'roc_auc_train': 0.8091669837119358,\n",
      " 'roc_auc_valid': 0.8052739846391378}\n",
      "roc_auc_max (0.800446 --> 0.805274). Saving model ...\n",
      "ap_max (0.360850 --> 0.362500). Saving model ...\n"
     ]
    },
    {
     "name": "stderr",
     "output_type": "stream",
     "text": [
      "loss: 0.74234, smth: 0.36456: 100%|██████████| 507/507 [02:46<00:00,  3.04it/s]\n",
      "loss: 0.47421, smth: 0.37054: 100%|██████████| 53/53 [00:12<00:00,  4.32it/s]\n"
     ]
    },
    {
     "name": "stdout",
     "output_type": "stream",
     "text": [
      "{'average_precision_train': 0.3771687482548083,\n",
      " 'average_precision_valid': 0.366630552632307,\n",
      " 'epoch': 9,\n",
      " 'fold': 0,\n",
      " 'loss_train': 0.35844243901250866,\n",
      " 'loss_valid': 0.3675518477300428,\n",
      " 'roc_auc_train': 0.8142600538892896,\n",
      " 'roc_auc_valid': 0.808158725947216}\n",
      "roc_auc_max (0.805274 --> 0.808159). Saving model ...\n",
      "ap_max (0.362500 --> 0.366631). Saving model ...\n"
     ]
    },
    {
     "name": "stderr",
     "output_type": "stream",
     "text": [
      "loss: 0.18244, smth: 0.40089: 100%|██████████| 507/507 [02:41<00:00,  3.13it/s]\n",
      "loss: 0.46489, smth: 0.37302: 100%|██████████| 53/53 [00:11<00:00,  4.43it/s]\n",
      "  0%|          | 0/507 [00:00<?, ?it/s]"
     ]
    },
    {
     "name": "stdout",
     "output_type": "stream",
     "text": [
      "{'average_precision_train': 0.3765184192933224,\n",
      " 'average_precision_valid': 0.3647799785237964,\n",
      " 'epoch': 10,\n",
      " 'fold': 0,\n",
      " 'loss_train': 0.35734359712819375,\n",
      " 'loss_valid': 0.3699844628572464,\n",
      " 'roc_auc_train': 0.8166018448728914,\n",
      " 'roc_auc_valid': 0.8064323545843781}\n"
     ]
    },
    {
     "name": "stderr",
     "output_type": "stream",
     "text": [
      "loss: 0.45039, smth: 0.32571: 100%|██████████| 507/507 [02:40<00:00,  3.16it/s]\n",
      "loss: 0.46751, smth: 0.37295: 100%|██████████| 53/53 [00:11<00:00,  4.43it/s]\n"
     ]
    },
    {
     "name": "stdout",
     "output_type": "stream",
     "text": [
      "Epoch    12: reducing learning rate of group 0 to 1.0000e-06.\n",
      "{'average_precision_train': 0.3830021492099253,\n",
      " 'average_precision_valid': 0.36896928844407567,\n",
      " 'epoch': 11,\n",
      " 'fold': 0,\n",
      " 'loss_train': 0.35540612779660574,\n",
      " 'loss_valid': 0.3681314784400868,\n",
      " 'roc_auc_train': 0.8199735353120201,\n",
      " 'roc_auc_valid': 0.8108083272464874}\n",
      "roc_auc_max (0.808159 --> 0.810808). Saving model ...\n",
      "ap_max (0.366631 --> 0.368969). Saving model ...\n"
     ]
    },
    {
     "name": "stderr",
     "output_type": "stream",
     "text": [
      "loss: 0.25602, smth: 0.30811: 100%|██████████| 507/507 [02:39<00:00,  3.19it/s]\n",
      "loss: 0.47748, smth: 0.37337: 100%|██████████| 53/53 [00:11<00:00,  4.43it/s]\n"
     ]
    },
    {
     "name": "stdout",
     "output_type": "stream",
     "text": [
      "{'average_precision_train': 0.3914436926592318,\n",
      " 'average_precision_valid': 0.3692725747066909,\n",
      " 'epoch': 12,\n",
      " 'fold': 0,\n",
      " 'loss_train': 0.34767212718725204,\n",
      " 'loss_valid': 0.3681738722436833,\n",
      " 'roc_auc_train': 0.8294607107931362,\n",
      " 'roc_auc_valid': 0.8107814544621776}\n",
      "ap_max (0.368969 --> 0.369273). Saving model ...\n"
     ]
    },
    {
     "name": "stderr",
     "output_type": "stream",
     "text": [
      "loss: 0.57997, smth: 0.33794: 100%|██████████| 507/507 [02:39<00:00,  3.18it/s]\n",
      "loss: 0.47225, smth: 0.37330: 100%|██████████| 53/53 [00:11<00:00,  4.42it/s]\n"
     ]
    },
    {
     "name": "stdout",
     "output_type": "stream",
     "text": [
      "Epoch    14: reducing learning rate of group 0 to 1.0000e-07.\n",
      "{'average_precision_train': 0.39737453303937564,\n",
      " 'average_precision_valid': 0.36968843670859136,\n",
      " 'epoch': 13,\n",
      " 'fold': 0,\n",
      " 'loss_train': 0.34375885397901196,\n",
      " 'loss_valid': 0.36869159875051033,\n",
      " 'roc_auc_train': 0.8341940205633334,\n",
      " 'roc_auc_valid': 0.8114519317289401}\n",
      "roc_auc_max (0.810808 --> 0.811452). Saving model ...\n",
      "ap_max (0.369273 --> 0.369688). Saving model ...\n"
     ]
    },
    {
     "name": "stderr",
     "output_type": "stream",
     "text": [
      "loss: 0.31482, smth: 0.33711: 100%|██████████| 507/507 [02:39<00:00,  3.19it/s]\n",
      "loss: 0.47406, smth: 0.37321: 100%|██████████| 53/53 [00:11<00:00,  4.42it/s]\n"
     ]
    },
    {
     "name": "stdout",
     "output_type": "stream",
     "text": [
      "{'average_precision_train': 0.3987097376313127,\n",
      " 'average_precision_valid': 0.3698062537587008,\n",
      " 'epoch': 14,\n",
      " 'fold': 0,\n",
      " 'loss_train': 0.3448031748363958,\n",
      " 'loss_valid': 0.3684303743659325,\n",
      " 'roc_auc_train': 0.8332839245770893,\n",
      " 'roc_auc_valid': 0.8116350009673743}\n",
      "roc_auc_max (0.811452 --> 0.811635). Saving model ...\n",
      "ap_max (0.369688 --> 0.369806). Saving model ...\n"
     ]
    },
    {
     "name": "stderr",
     "output_type": "stream",
     "text": [
      "loss: 0.41612, smth: 0.34911: 100%|██████████| 507/507 [02:40<00:00,  3.16it/s]\n",
      "loss: 0.47516, smth: 0.37322: 100%|██████████| 53/53 [00:11<00:00,  4.44it/s]\n"
     ]
    },
    {
     "name": "stdout",
     "output_type": "stream",
     "text": [
      "Epoch    16: reducing learning rate of group 0 to 1.0000e-08.\n",
      "{'average_precision_train': 0.39939924099758994,\n",
      " 'average_precision_valid': 0.36967261497642007,\n",
      " 'epoch': 15,\n",
      " 'fold': 0,\n",
      " 'loss_train': 0.3434475288382884,\n",
      " 'loss_valid': 0.3683922678794501,\n",
      " 'roc_auc_train': 0.8349476145834956,\n",
      " 'roc_auc_valid': 0.8116795600455742}\n",
      "roc_auc_max (0.811635 --> 0.811680). Saving model ...\n"
     ]
    },
    {
     "name": "stderr",
     "output_type": "stream",
     "text": [
      "loss: 0.32405, smth: 0.30885: 100%|██████████| 507/507 [02:39<00:00,  3.18it/s]\n",
      "loss: 0.47530, smth: 0.37323: 100%|██████████| 53/53 [00:12<00:00,  4.40it/s]\n"
     ]
    },
    {
     "name": "stdout",
     "output_type": "stream",
     "text": [
      "{'average_precision_train': 0.4050406081680136,\n",
      " 'average_precision_valid': 0.3697626398174936,\n",
      " 'epoch': 16,\n",
      " 'fold': 0,\n",
      " 'loss_train': 0.34058539970563007,\n",
      " 'loss_valid': 0.3683999163924523,\n",
      " 'roc_auc_train': 0.8373561132830196,\n",
      " 'roc_auc_valid': 0.8116887562909132}\n",
      "roc_auc_max (0.811680 --> 0.811689). Saving model ...\n"
     ]
    },
    {
     "name": "stderr",
     "output_type": "stream",
     "text": [
      "loss: 0.37013, smth: 0.34859: 100%|██████████| 507/507 [02:39<00:00,  3.18it/s]\n",
      "loss: 0.47537, smth: 0.37324: 100%|██████████| 53/53 [00:11<00:00,  4.44it/s]\n",
      "  0%|          | 0/507 [00:00<?, ?it/s]"
     ]
    },
    {
     "name": "stdout",
     "output_type": "stream",
     "text": [
      "{'average_precision_train': 0.405122550675669,\n",
      " 'average_precision_valid': 0.36975146561710615,\n",
      " 'epoch': 17,\n",
      " 'fold': 0,\n",
      " 'loss_train': 0.3422214817512905,\n",
      " 'loss_valid': 0.36840114278613395,\n",
      " 'roc_auc_train': 0.8348661017511794,\n",
      " 'roc_auc_valid': 0.8116732998028038}\n"
     ]
    },
    {
     "name": "stderr",
     "output_type": "stream",
     "text": [
      "loss: 0.25825, smth: 0.31739: 100%|██████████| 507/507 [02:39<00:00,  3.17it/s]\n",
      "loss: 0.47532, smth: 0.37322: 100%|██████████| 53/53 [00:12<00:00,  4.20it/s]\n",
      "  0%|          | 0/507 [00:00<?, ?it/s]"
     ]
    },
    {
     "name": "stdout",
     "output_type": "stream",
     "text": [
      "{'average_precision_train': 0.39594287016987145,\n",
      " 'average_precision_valid': 0.3697556419705324,\n",
      " 'epoch': 18,\n",
      " 'fold': 0,\n",
      " 'loss_train': 0.34595110154245967,\n",
      " 'loss_valid': 0.3683818410027702,\n",
      " 'roc_auc_train': 0.8314056397254432,\n",
      " 'roc_auc_valid': 0.8116837462023034}\n"
     ]
    },
    {
     "name": "stderr",
     "output_type": "stream",
     "text": [
      "loss: 0.36543, smth: 0.35738: 100%|██████████| 507/507 [02:43<00:00,  3.10it/s]\n",
      "loss: 0.47541, smth: 0.37322: 100%|██████████| 53/53 [00:12<00:00,  4.36it/s]\n"
     ]
    },
    {
     "name": "stdout",
     "output_type": "stream",
     "text": [
      "{'average_precision_train': 0.3989125151836877,\n",
      " 'average_precision_valid': 0.36965146605038685,\n",
      " 'epoch': 19,\n",
      " 'fold': 0,\n",
      " 'loss_train': 0.3429423513320776,\n",
      " 'loss_valid': 0.36837701724385313,\n",
      " 'roc_auc_train': 0.8340560163185842,\n",
      " 'roc_auc_valid': 0.8116805528700661}\n"
     ]
    },
    {
     "name": "stderr",
     "output_type": "stream",
     "text": [
      "\r",
      "  0%|          | 0/507 [00:00<?, ?it/s]"
     ]
    },
    {
     "name": "stdout",
     "output_type": "stream",
     "text": [
      "-----------------------------------------------------------------------------------------------------\n",
      "                                        FOLD:  1\n",
      "-----------------------------------------------------------------------------------------------------\n"
     ]
    },
    {
     "name": "stderr",
     "output_type": "stream",
     "text": [
      "loss: 0.38533, smth: 0.47830: 100%|██████████| 507/507 [02:48<00:00,  3.02it/s]\n",
      "loss: 0.41354, smth: 0.43473: 100%|██████████| 53/53 [00:11<00:00,  4.46it/s]\n"
     ]
    },
    {
     "name": "stdout",
     "output_type": "stream",
     "text": [
      "{'average_precision_train': 0.2213020149144451,\n",
      " 'average_precision_valid': 0.30174415904682433,\n",
      " 'epoch': 0,\n",
      " 'fold': 1,\n",
      " 'loss_train': 0.48825215840715863,\n",
      " 'loss_valid': 0.4338612342780491,\n",
      " 'roc_auc_train': 0.5956895373755411,\n",
      " 'roc_auc_valid': 0.7117773543349873}\n",
      "roc_auc_max (0.000000 --> 0.711777). Saving model ...\n",
      "ap_max (0.000000 --> 0.301744). Saving model ...\n"
     ]
    },
    {
     "name": "stderr",
     "output_type": "stream",
     "text": [
      "loss: 0.56610, smth: 0.43575: 100%|██████████| 507/507 [02:38<00:00,  3.20it/s]\n",
      "loss: 0.35924, smth: 0.39720: 100%|██████████| 53/53 [00:11<00:00,  4.47it/s]\n"
     ]
    },
    {
     "name": "stdout",
     "output_type": "stream",
     "text": [
      "{'average_precision_train': 0.28081170369097125,\n",
      " 'average_precision_valid': 0.3362486776911419,\n",
      " 'epoch': 1,\n",
      " 'fold': 1,\n",
      " 'loss_train': 0.4306687243591399,\n",
      " 'loss_valid': 0.3938403970228051,\n",
      " 'roc_auc_train': 0.6873265865686184,\n",
      " 'roc_auc_valid': 0.7660925642760053}\n",
      "roc_auc_max (0.711777 --> 0.766093). Saving model ...\n",
      "ap_max (0.301744 --> 0.336249). Saving model ...\n"
     ]
    },
    {
     "name": "stderr",
     "output_type": "stream",
     "text": [
      "loss: 0.21394, smth: 0.43572: 100%|██████████| 507/507 [02:52<00:00,  2.94it/s]\n",
      "loss: 0.35122, smth: 0.40067: 100%|██████████| 53/53 [00:12<00:00,  4.08it/s]\n",
      "  0%|          | 0/507 [00:00<?, ?it/s]"
     ]
    },
    {
     "name": "stdout",
     "output_type": "stream",
     "text": [
      "{'average_precision_train': 0.2937467698322897,\n",
      " 'average_precision_valid': 0.3253741970083107,\n",
      " 'epoch': 2,\n",
      " 'fold': 1,\n",
      " 'loss_train': 0.4195436375175237,\n",
      " 'loss_valid': 0.3976593169401277,\n",
      " 'roc_auc_train': 0.7162351878553425,\n",
      " 'roc_auc_valid': 0.7419109088591455}\n"
     ]
    },
    {
     "name": "stderr",
     "output_type": "stream",
     "text": [
      "loss: 0.55411, smth: 0.38585: 100%|██████████| 507/507 [02:39<00:00,  3.18it/s]\n",
      "loss: 0.31839, smth: 0.40044: 100%|██████████| 53/53 [00:11<00:00,  4.48it/s]\n"
     ]
    },
    {
     "name": "stdout",
     "output_type": "stream",
     "text": [
      "Epoch     4: reducing learning rate of group 0 to 1.0000e-05.\n",
      "{'average_precision_train': 0.30500997882962244,\n",
      " 'average_precision_valid': 0.3536695883724232,\n",
      " 'epoch': 3,\n",
      " 'fold': 1,\n",
      " 'loss_train': 0.4076277653023571,\n",
      " 'loss_valid': 0.39743844236967696,\n",
      " 'roc_auc_train': 0.7322475074175171,\n",
      " 'roc_auc_valid': 0.7882534880270368}\n",
      "roc_auc_max (0.766093 --> 0.788253). Saving model ...\n",
      "ap_max (0.336249 --> 0.353670). Saving model ...\n"
     ]
    },
    {
     "name": "stderr",
     "output_type": "stream",
     "text": [
      "loss: 0.39628, smth: 0.39906: 100%|██████████| 507/507 [02:36<00:00,  3.23it/s]\n",
      "loss: 0.30250, smth: 0.37625: 100%|██████████| 53/53 [00:11<00:00,  4.50it/s]\n"
     ]
    },
    {
     "name": "stdout",
     "output_type": "stream",
     "text": [
      "{'average_precision_train': 0.334785489065329,\n",
      " 'average_precision_valid': 0.35929973976181967,\n",
      " 'epoch': 4,\n",
      " 'fold': 1,\n",
      " 'loss_train': 0.38329209741462145,\n",
      " 'loss_valid': 0.3731489979995872,\n",
      " 'roc_auc_train': 0.7742901280348407,\n",
      " 'roc_auc_valid': 0.7961309917925995}\n",
      "roc_auc_max (0.788253 --> 0.796131). Saving model ...\n",
      "ap_max (0.353670 --> 0.359300). Saving model ...\n"
     ]
    },
    {
     "name": "stderr",
     "output_type": "stream",
     "text": [
      "loss: 0.65268, smth: 0.36813: 100%|██████████| 507/507 [02:37<00:00,  3.23it/s]\n",
      "loss: 0.29841, smth: 0.37586: 100%|██████████| 53/53 [00:11<00:00,  4.51it/s]\n"
     ]
    },
    {
     "name": "stdout",
     "output_type": "stream",
     "text": [
      "{'average_precision_train': 0.343193953918413,\n",
      " 'average_precision_valid': 0.3614893672649487,\n",
      " 'epoch': 5,\n",
      " 'fold': 1,\n",
      " 'loss_train': 0.3790627765878888,\n",
      " 'loss_valid': 0.3730542384228616,\n",
      " 'roc_auc_train': 0.7812060204492711,\n",
      " 'roc_auc_valid': 0.797374955917304}\n",
      "roc_auc_max (0.796131 --> 0.797375). Saving model ...\n",
      "ap_max (0.359300 --> 0.361489). Saving model ...\n"
     ]
    },
    {
     "name": "stderr",
     "output_type": "stream",
     "text": [
      "loss: 0.43622, smth: 0.39898: 100%|██████████| 507/507 [02:37<00:00,  3.23it/s]\n",
      "loss: 0.30119, smth: 0.37342: 100%|██████████| 53/53 [00:11<00:00,  4.51it/s]\n"
     ]
    },
    {
     "name": "stdout",
     "output_type": "stream",
     "text": [
      "{'average_precision_train': 0.34604162998202037,\n",
      " 'average_precision_valid': 0.3660870343904918,\n",
      " 'epoch': 6,\n",
      " 'fold': 1,\n",
      " 'loss_train': 0.3762482348278429,\n",
      " 'loss_valid': 0.3720968390973109,\n",
      " 'roc_auc_train': 0.7874500287485307,\n",
      " 'roc_auc_valid': 0.7983834897660852}\n",
      "roc_auc_max (0.797375 --> 0.798383). Saving model ...\n",
      "ap_max (0.361489 --> 0.366087). Saving model ...\n"
     ]
    },
    {
     "name": "stderr",
     "output_type": "stream",
     "text": [
      "loss: 0.32967, smth: 0.36679: 100%|██████████| 507/507 [02:36<00:00,  3.23it/s]\n",
      "loss: 0.26775, smth: 0.37662: 100%|██████████| 53/53 [00:11<00:00,  4.53it/s]\n"
     ]
    },
    {
     "name": "stdout",
     "output_type": "stream",
     "text": [
      "{'average_precision_train': 0.3519791660803267,\n",
      " 'average_precision_valid': 0.36579819321106055,\n",
      " 'epoch': 7,\n",
      " 'fold': 1,\n",
      " 'loss_train': 0.3718078094709084,\n",
      " 'loss_valid': 0.37511446341028754,\n",
      " 'roc_auc_train': 0.7952090382934346,\n",
      " 'roc_auc_valid': 0.8006929256322661}\n",
      "roc_auc_max (0.798383 --> 0.800693). Saving model ...\n"
     ]
    },
    {
     "name": "stderr",
     "output_type": "stream",
     "text": [
      "loss: 0.48639, smth: 0.39456: 100%|██████████| 507/507 [02:36<00:00,  3.23it/s]\n",
      "loss: 0.28793, smth: 0.36859: 100%|██████████| 53/53 [00:11<00:00,  4.54it/s]\n"
     ]
    },
    {
     "name": "stdout",
     "output_type": "stream",
     "text": [
      "{'average_precision_train': 0.35505837335235,\n",
      " 'average_precision_valid': 0.3681813400712308,\n",
      " 'epoch': 8,\n",
      " 'fold': 1,\n",
      " 'loss_train': 0.37101492116731066,\n",
      " 'loss_valid': 0.3669551436631185,\n",
      " 'roc_auc_train': 0.7979242023175525,\n",
      " 'roc_auc_valid': 0.802582721380335}\n",
      "roc_auc_max (0.800693 --> 0.802583). Saving model ...\n",
      "ap_max (0.366087 --> 0.368181). Saving model ...\n"
     ]
    },
    {
     "name": "stderr",
     "output_type": "stream",
     "text": [
      "loss: 0.33826, smth: 0.34909: 100%|██████████| 507/507 [02:36<00:00,  3.23it/s]\n",
      "loss: 0.28451, smth: 0.37589: 100%|██████████| 53/53 [00:11<00:00,  4.54it/s]\n"
     ]
    },
    {
     "name": "stdout",
     "output_type": "stream",
     "text": [
      "{'average_precision_train': 0.3595147929839165,\n",
      " 'average_precision_valid': 0.370498656587567,\n",
      " 'epoch': 9,\n",
      " 'fold': 1,\n",
      " 'loss_train': 0.36648299700821174,\n",
      " 'loss_valid': 0.37407651656078844,\n",
      " 'roc_auc_train': 0.803490945672589,\n",
      " 'roc_auc_valid': 0.8028008739488413}\n",
      "roc_auc_max (0.802583 --> 0.802801). Saving model ...\n",
      "ap_max (0.368181 --> 0.370499). Saving model ...\n"
     ]
    },
    {
     "name": "stderr",
     "output_type": "stream",
     "text": [
      "loss: 0.32719, smth: 0.38600: 100%|██████████| 507/507 [02:36<00:00,  3.23it/s]\n",
      "loss: 0.29039, smth: 0.37272: 100%|██████████| 53/53 [00:11<00:00,  4.54it/s]\n"
     ]
    },
    {
     "name": "stdout",
     "output_type": "stream",
     "text": [
      "Epoch    11: reducing learning rate of group 0 to 1.0000e-06.\n",
      "{'average_precision_train': 0.3676350268108152,\n",
      " 'average_precision_valid': 0.36953907939427016,\n",
      " 'epoch': 10,\n",
      " 'fold': 1,\n",
      " 'loss_train': 0.3643645592900893,\n",
      " 'loss_valid': 0.37083048078249087,\n",
      " 'roc_auc_train': 0.8069353836740096,\n",
      " 'roc_auc_valid': 0.8037209148532961}\n",
      "roc_auc_max (0.802801 --> 0.803721). Saving model ...\n"
     ]
    },
    {
     "name": "stderr",
     "output_type": "stream",
     "text": [
      "loss: 0.72425, smth: 0.38319: 100%|██████████| 507/507 [02:36<00:00,  3.23it/s]\n",
      "loss: 0.27779, smth: 0.36825: 100%|██████████| 53/53 [00:11<00:00,  4.53it/s]\n"
     ]
    },
    {
     "name": "stdout",
     "output_type": "stream",
     "text": [
      "{'average_precision_train': 0.37614492304278846,\n",
      " 'average_precision_valid': 0.3711780426425668,\n",
      " 'epoch': 11,\n",
      " 'fold': 1,\n",
      " 'loss_train': 0.3610268334988541,\n",
      " 'loss_valid': 0.3662616638642437,\n",
      " 'roc_auc_train': 0.8136145781157883,\n",
      " 'roc_auc_valid': 0.8053434484111834}\n",
      "roc_auc_max (0.803721 --> 0.805343). Saving model ...\n",
      "ap_max (0.370499 --> 0.371178). Saving model ...\n"
     ]
    },
    {
     "name": "stderr",
     "output_type": "stream",
     "text": [
      "loss: 0.20088, smth: 0.35057: 100%|██████████| 507/507 [02:36<00:00,  3.24it/s]\n",
      "loss: 0.27113, smth: 0.36771: 100%|██████████| 53/53 [00:11<00:00,  4.53it/s]\n"
     ]
    },
    {
     "name": "stdout",
     "output_type": "stream",
     "text": [
      "{'average_precision_train': 0.37485708078644003,\n",
      " 'average_precision_valid': 0.3716778368395439,\n",
      " 'epoch': 12,\n",
      " 'fold': 1,\n",
      " 'loss_train': 0.3583779350305215,\n",
      " 'loss_valid': 0.3656561847003001,\n",
      " 'roc_auc_train': 0.8152431598781388,\n",
      " 'roc_auc_valid': 0.8056386374842675}\n",
      "roc_auc_max (0.805343 --> 0.805639). Saving model ...\n",
      "ap_max (0.371178 --> 0.371678). Saving model ...\n"
     ]
    },
    {
     "name": "stderr",
     "output_type": "stream",
     "text": [
      "loss: 0.31921, smth: 0.34036: 100%|██████████| 507/507 [02:36<00:00,  3.24it/s]\n",
      "loss: 0.26562, smth: 0.36792: 100%|██████████| 53/53 [00:11<00:00,  4.51it/s]\n"
     ]
    },
    {
     "name": "stdout",
     "output_type": "stream",
     "text": [
      "{'average_precision_train': 0.3817255922454504,\n",
      " 'average_precision_valid': 0.3721178908804153,\n",
      " 'epoch': 13,\n",
      " 'fold': 1,\n",
      " 'loss_train': 0.35631947698442656,\n",
      " 'loss_valid': 0.3658596479667808,\n",
      " 'roc_auc_train': 0.8159504964270728,\n",
      " 'roc_auc_valid': 0.8059180303771998}\n",
      "roc_auc_max (0.805639 --> 0.805918). Saving model ...\n",
      "ap_max (0.371678 --> 0.372118). Saving model ...\n"
     ]
    },
    {
     "name": "stderr",
     "output_type": "stream",
     "text": [
      "loss: 0.20562, smth: 0.36260: 100%|██████████| 507/507 [02:36<00:00,  3.24it/s]\n",
      "loss: 0.26642, smth: 0.36714: 100%|██████████| 53/53 [00:11<00:00,  4.53it/s]\n"
     ]
    },
    {
     "name": "stdout",
     "output_type": "stream",
     "text": [
      "{'average_precision_train': 0.3736185095703497,\n",
      " 'average_precision_valid': 0.3720317177341801,\n",
      " 'epoch': 14,\n",
      " 'fold': 1,\n",
      " 'loss_train': 0.3602277909275108,\n",
      " 'loss_valid': 0.3654000278351442,\n",
      " 'roc_auc_train': 0.8113151979232327,\n",
      " 'roc_auc_valid': 0.8052770682347674}\n"
     ]
    },
    {
     "name": "stderr",
     "output_type": "stream",
     "text": [
      "loss: 0.22918, smth: 0.38640: 100%|██████████| 507/507 [02:36<00:00,  3.23it/s]\n",
      "loss: 0.26858, smth: 0.36767: 100%|██████████| 53/53 [00:11<00:00,  4.52it/s]\n",
      "  0%|          | 0/507 [00:00<?, ?it/s]"
     ]
    },
    {
     "name": "stdout",
     "output_type": "stream",
     "text": [
      "{'average_precision_train': 0.37789311523585284,\n",
      " 'average_precision_valid': 0.37110059603600526,\n",
      " 'epoch': 15,\n",
      " 'fold': 1,\n",
      " 'loss_train': 0.3568766488743252,\n",
      " 'loss_valid': 0.3664953942006489,\n",
      " 'roc_auc_train': 0.8161518482812571,\n",
      " 'roc_auc_valid': 0.8048147887278468}\n"
     ]
    },
    {
     "name": "stderr",
     "output_type": "stream",
     "text": [
      "loss: 0.36016, smth: 0.36210: 100%|██████████| 507/507 [02:37<00:00,  3.23it/s]\n",
      "loss: 0.26404, smth: 0.36764: 100%|██████████| 53/53 [00:11<00:00,  4.52it/s]\n",
      "  0%|          | 0/507 [00:00<?, ?it/s]"
     ]
    },
    {
     "name": "stdout",
     "output_type": "stream",
     "text": [
      "Epoch    17: reducing learning rate of group 0 to 1.0000e-07.\n",
      "{'average_precision_train': 0.37451179973255583,\n",
      " 'average_precision_valid': 0.371745311257784,\n",
      " 'epoch': 16,\n",
      " 'fold': 1,\n",
      " 'loss_train': 0.35877127162156963,\n",
      " 'loss_valid': 0.3664097673488113,\n",
      " 'roc_auc_train': 0.8135632952999354,\n",
      " 'roc_auc_valid': 0.8054873780163303}\n"
     ]
    },
    {
     "name": "stderr",
     "output_type": "stream",
     "text": [
      "loss: 0.33720, smth: 0.33092: 100%|██████████| 507/507 [02:36<00:00,  3.23it/s]\n",
      "loss: 0.26340, smth: 0.36768: 100%|██████████| 53/53 [00:11<00:00,  4.52it/s]\n",
      "  0%|          | 0/507 [00:00<?, ?it/s]"
     ]
    },
    {
     "name": "stdout",
     "output_type": "stream",
     "text": [
      "{'average_precision_train': 0.380380873556847,\n",
      " 'average_precision_valid': 0.371899794914083,\n",
      " 'epoch': 17,\n",
      " 'fold': 1,\n",
      " 'loss_train': 0.3557165139290473,\n",
      " 'loss_valid': 0.3664200395907996,\n",
      " 'roc_auc_train': 0.8174602787433543,\n",
      " 'roc_auc_valid': 0.8055755503665366}\n"
     ]
    },
    {
     "name": "stderr",
     "output_type": "stream",
     "text": [
      "loss: 0.30759, smth: 0.33345: 100%|██████████| 507/507 [02:36<00:00,  3.23it/s]\n",
      "loss: 0.26260, smth: 0.36770: 100%|██████████| 53/53 [00:11<00:00,  4.52it/s]\n"
     ]
    },
    {
     "name": "stdout",
     "output_type": "stream",
     "text": [
      "Epoch    19: reducing learning rate of group 0 to 1.0000e-08.\n",
      "{'average_precision_train': 0.3795775565644199,\n",
      " 'average_precision_valid': 0.3718875403947322,\n",
      " 'epoch': 18,\n",
      " 'fold': 1,\n",
      " 'loss_train': 0.3532954198280735,\n",
      " 'loss_valid': 0.36642394650657223,\n",
      " 'roc_auc_train': 0.8199460556720157,\n",
      " 'roc_auc_valid': 0.8056745108337928}\n",
      "Early Stopping...\n"
     ]
    },
    {
     "name": "stderr",
     "output_type": "stream",
     "text": [
      "\r",
      "  0%|          | 0/507 [00:00<?, ?it/s]"
     ]
    },
    {
     "name": "stdout",
     "output_type": "stream",
     "text": [
      "-----------------------------------------------------------------------------------------------------\n",
      "                                        FOLD:  2\n",
      "-----------------------------------------------------------------------------------------------------\n"
     ]
    },
    {
     "name": "stderr",
     "output_type": "stream",
     "text": [
      "loss: 0.49096, smth: 0.40671: 100%|██████████| 507/507 [02:36<00:00,  3.23it/s]\n",
      "loss: 0.40085, smth: 0.48465: 100%|██████████| 53/53 [00:11<00:00,  4.52it/s]\n"
     ]
    },
    {
     "name": "stdout",
     "output_type": "stream",
     "text": [
      "{'average_precision_train': 0.25935369843036055,\n",
      " 'average_precision_valid': 0.32159353529430573,\n",
      " 'epoch': 0,\n",
      " 'fold': 2,\n",
      " 'loss_train': 0.45748126642003334,\n",
      " 'loss_valid': 0.49912050647555656,\n",
      " 'roc_auc_train': 0.647612342009621,\n",
      " 'roc_auc_valid': 0.7425708862834501}\n",
      "roc_auc_max (0.000000 --> 0.742571). Saving model ...\n",
      "ap_max (0.000000 --> 0.321594). Saving model ...\n"
     ]
    },
    {
     "name": "stderr",
     "output_type": "stream",
     "text": [
      "loss: 0.38451, smth: 0.37440: 100%|██████████| 507/507 [02:37<00:00,  3.23it/s]\n",
      "loss: 0.37098, smth: 0.38784: 100%|██████████| 53/53 [00:11<00:00,  4.52it/s]\n"
     ]
    },
    {
     "name": "stdout",
     "output_type": "stream",
     "text": [
      "{'average_precision_train': 0.287853050382916,\n",
      " 'average_precision_valid': 0.3280814484399499,\n",
      " 'epoch': 1,\n",
      " 'fold': 2,\n",
      " 'loss_train': 0.4226686008406814,\n",
      " 'loss_valid': 0.3996279200292983,\n",
      " 'roc_auc_train': 0.7054348276810104,\n",
      " 'roc_auc_valid': 0.7612081884911371}\n",
      "roc_auc_max (0.742571 --> 0.761208). Saving model ...\n",
      "ap_max (0.321594 --> 0.328081). Saving model ...\n"
     ]
    },
    {
     "name": "stderr",
     "output_type": "stream",
     "text": [
      "loss: 0.53378, smth: 0.42242: 100%|██████████| 507/507 [02:36<00:00,  3.23it/s]\n",
      "loss: 0.35278, smth: 0.37577: 100%|██████████| 53/53 [00:11<00:00,  4.53it/s]\n"
     ]
    },
    {
     "name": "stdout",
     "output_type": "stream",
     "text": [
      "{'average_precision_train': 0.2982828877059544,\n",
      " 'average_precision_valid': 0.34272197626364576,\n",
      " 'epoch': 2,\n",
      " 'fold': 2,\n",
      " 'loss_train': 0.41357952747236815,\n",
      " 'loss_valid': 0.39400780144727454,\n",
      " 'roc_auc_train': 0.7259779365270064,\n",
      " 'roc_auc_valid': 0.7743766833805574}\n",
      "roc_auc_max (0.761208 --> 0.774377). Saving model ...\n",
      "ap_max (0.328081 --> 0.342722). Saving model ...\n"
     ]
    },
    {
     "name": "stderr",
     "output_type": "stream",
     "text": [
      "loss: 0.55278, smth: 0.37765: 100%|██████████| 507/507 [02:36<00:00,  3.24it/s]\n",
      "loss: 0.34599, smth: 0.38631: 100%|██████████| 53/53 [00:11<00:00,  4.53it/s]\n"
     ]
    },
    {
     "name": "stdout",
     "output_type": "stream",
     "text": [
      "{'average_precision_train': 0.30600761069340876,\n",
      " 'average_precision_valid': 0.33794166142231474,\n",
      " 'epoch': 3,\n",
      " 'fold': 2,\n",
      " 'loss_train': 0.40974736488488533,\n",
      " 'loss_valid': 0.403704323858585,\n",
      " 'roc_auc_train': 0.7371247215265494,\n",
      " 'roc_auc_valid': 0.7756394804662585}\n",
      "roc_auc_max (0.774377 --> 0.775639). Saving model ...\n"
     ]
    },
    {
     "name": "stderr",
     "output_type": "stream",
     "text": [
      "loss: 0.49255, smth: 0.44408: 100%|██████████| 507/507 [02:36<00:00,  3.24it/s]\n",
      "loss: 0.33101, smth: 0.37475: 100%|██████████| 53/53 [00:11<00:00,  4.52it/s]\n"
     ]
    },
    {
     "name": "stdout",
     "output_type": "stream",
     "text": [
      "{'average_precision_train': 0.31538536279158674,\n",
      " 'average_precision_valid': 0.3525673150392323,\n",
      " 'epoch': 4,\n",
      " 'fold': 2,\n",
      " 'loss_train': 0.40465967721605206,\n",
      " 'loss_valid': 0.3885302166893797,\n",
      " 'roc_auc_train': 0.7481118383867962,\n",
      " 'roc_auc_valid': 0.7899077870374606}\n",
      "roc_auc_max (0.775639 --> 0.789908). Saving model ...\n",
      "ap_max (0.342722 --> 0.352567). Saving model ...\n"
     ]
    },
    {
     "name": "stderr",
     "output_type": "stream",
     "text": [
      "loss: 0.28878, smth: 0.42854: 100%|██████████| 507/507 [02:36<00:00,  3.23it/s]\n",
      "loss: 0.31801, smth: 0.36194: 100%|██████████| 53/53 [00:11<00:00,  4.52it/s]\n"
     ]
    },
    {
     "name": "stdout",
     "output_type": "stream",
     "text": [
      "{'average_precision_train': 0.3126631897130117,\n",
      " 'average_precision_valid': 0.3577720635907046,\n",
      " 'epoch': 5,\n",
      " 'fold': 2,\n",
      " 'loss_train': 0.4051011625302614,\n",
      " 'loss_valid': 0.3822072440723203,\n",
      " 'roc_auc_train': 0.7479417081113362,\n",
      " 'roc_auc_valid': 0.7903579858245436}\n",
      "roc_auc_max (0.789908 --> 0.790358). Saving model ...\n",
      "ap_max (0.352567 --> 0.357772). Saving model ...\n"
     ]
    },
    {
     "name": "stderr",
     "output_type": "stream",
     "text": [
      "loss: 0.31719, smth: 0.40030: 100%|██████████| 507/507 [02:36<00:00,  3.24it/s]\n",
      "loss: 0.33790, smth: 0.36630: 100%|██████████| 53/53 [00:11<00:00,  4.53it/s]\n"
     ]
    },
    {
     "name": "stdout",
     "output_type": "stream",
     "text": [
      "{'average_precision_train': 0.3219428898436525,\n",
      " 'average_precision_valid': 0.3513383230182856,\n",
      " 'epoch': 6,\n",
      " 'fold': 2,\n",
      " 'loss_train': 0.3980222992613706,\n",
      " 'loss_valid': 0.37830364985286064,\n",
      " 'roc_auc_train': 0.754450280487162,\n",
      " 'roc_auc_valid': 0.7931046054120028}\n",
      "roc_auc_max (0.790358 --> 0.793105). Saving model ...\n"
     ]
    },
    {
     "name": "stderr",
     "output_type": "stream",
     "text": [
      "loss: 0.35202, smth: 0.35094: 100%|██████████| 507/507 [02:36<00:00,  3.24it/s]\n",
      "loss: 0.35209, smth: 0.36361: 100%|██████████| 53/53 [00:11<00:00,  4.53it/s]\n",
      "  0%|          | 0/507 [00:00<?, ?it/s]"
     ]
    },
    {
     "name": "stdout",
     "output_type": "stream",
     "text": [
      "{'average_precision_train': 0.31856174149416144,\n",
      " 'average_precision_valid': 0.35163982211813916,\n",
      " 'epoch': 7,\n",
      " 'fold': 2,\n",
      " 'loss_train': 0.39616935704586775,\n",
      " 'loss_valid': 0.37964517946513193,\n",
      " 'roc_auc_train': 0.7591218076810828,\n",
      " 'roc_auc_valid': 0.790807016616209}\n"
     ]
    },
    {
     "name": "stderr",
     "output_type": "stream",
     "text": [
      "loss: 0.16102, smth: 0.39111: 100%|██████████| 507/507 [02:36<00:00,  3.24it/s]\n",
      "loss: 0.29112, smth: 0.36437: 100%|██████████| 53/53 [00:11<00:00,  4.52it/s]\n",
      "  0%|          | 0/507 [00:00<?, ?it/s]"
     ]
    },
    {
     "name": "stdout",
     "output_type": "stream",
     "text": [
      "Epoch     9: reducing learning rate of group 0 to 1.0000e-05.\n",
      "{'average_precision_train': 0.32831191913404384,\n",
      " 'average_precision_valid': 0.3554726478606243,\n",
      " 'epoch': 8,\n",
      " 'fold': 2,\n",
      " 'loss_train': 0.39604509282394273,\n",
      " 'loss_valid': 0.38024911846754683,\n",
      " 'roc_auc_train': 0.7609349557332002,\n",
      " 'roc_auc_valid': 0.7863207213547345}\n"
     ]
    },
    {
     "name": "stderr",
     "output_type": "stream",
     "text": [
      "loss: 0.46892, smth: 0.36746: 100%|██████████| 507/507 [02:36<00:00,  3.24it/s]\n",
      "loss: 0.28169, smth: 0.35496: 100%|██████████| 53/53 [00:11<00:00,  4.52it/s]\n"
     ]
    },
    {
     "name": "stdout",
     "output_type": "stream",
     "text": [
      "{'average_precision_train': 0.3603200603624301,\n",
      " 'average_precision_valid': 0.36277702363309133,\n",
      " 'epoch': 9,\n",
      " 'fold': 2,\n",
      " 'loss_train': 0.36847859994311777,\n",
      " 'loss_valid': 0.37049616788918116,\n",
      " 'roc_auc_train': 0.8014410673335828,\n",
      " 'roc_auc_valid': 0.7957369934659944}\n",
      "roc_auc_max (0.793105 --> 0.795737). Saving model ...\n",
      "ap_max (0.357772 --> 0.362777). Saving model ...\n"
     ]
    },
    {
     "name": "stderr",
     "output_type": "stream",
     "text": [
      "loss: 0.49303, smth: 0.36340: 100%|██████████| 507/507 [02:36<00:00,  3.23it/s]\n",
      "loss: 0.29776, smth: 0.35493: 100%|██████████| 53/53 [00:11<00:00,  4.52it/s]\n"
     ]
    },
    {
     "name": "stdout",
     "output_type": "stream",
     "text": [
      "{'average_precision_train': 0.36888812219522676,\n",
      " 'average_precision_valid': 0.36641821433775723,\n",
      " 'epoch': 10,\n",
      " 'fold': 2,\n",
      " 'loss_train': 0.36460781273757215,\n",
      " 'loss_valid': 0.3697844982709525,\n",
      " 'roc_auc_train': 0.8109814819093413,\n",
      " 'roc_auc_valid': 0.7973315110378113}\n",
      "roc_auc_max (0.795737 --> 0.797332). Saving model ...\n",
      "ap_max (0.362777 --> 0.366418). Saving model ...\n"
     ]
    },
    {
     "name": "stderr",
     "output_type": "stream",
     "text": [
      "loss: 0.29537, smth: 0.39465: 100%|██████████| 507/507 [02:36<00:00,  3.24it/s]\n",
      "loss: 0.30315, smth: 0.35774: 100%|██████████| 53/53 [00:11<00:00,  4.53it/s]\n"
     ]
    },
    {
     "name": "stdout",
     "output_type": "stream",
     "text": [
      "{'average_precision_train': 0.3746432131447664,\n",
      " 'average_precision_valid': 0.36544291556695235,\n",
      " 'epoch': 11,\n",
      " 'fold': 2,\n",
      " 'loss_train': 0.360526425319428,\n",
      " 'loss_valid': 0.36951470712445816,\n",
      " 'roc_auc_train': 0.8157399139519732,\n",
      " 'roc_auc_valid': 0.7995148782504515}\n",
      "roc_auc_max (0.797332 --> 0.799515). Saving model ...\n"
     ]
    },
    {
     "name": "stderr",
     "output_type": "stream",
     "text": [
      "loss: 0.21934, smth: 0.34840: 100%|██████████| 507/507 [02:36<00:00,  3.24it/s]\n",
      "loss: 0.30620, smth: 0.35443: 100%|██████████| 53/53 [00:11<00:00,  4.52it/s]\n"
     ]
    },
    {
     "name": "stdout",
     "output_type": "stream",
     "text": [
      "{'average_precision_train': 0.37937458743181995,\n",
      " 'average_precision_valid': 0.36976261854722686,\n",
      " 'epoch': 12,\n",
      " 'fold': 2,\n",
      " 'loss_train': 0.3576191143083149,\n",
      " 'loss_valid': 0.3673976519197788,\n",
      " 'roc_auc_train': 0.8184422501323069,\n",
      " 'roc_auc_valid': 0.7987003498164664}\n",
      "ap_max (0.366418 --> 0.369763). Saving model ...\n"
     ]
    },
    {
     "name": "stderr",
     "output_type": "stream",
     "text": [
      "loss: 0.32360, smth: 0.37771: 100%|██████████| 507/507 [02:36<00:00,  3.24it/s]\n",
      "loss: 0.30050, smth: 0.35999: 100%|██████████| 53/53 [00:11<00:00,  4.52it/s]\n",
      "  0%|          | 0/507 [00:00<?, ?it/s]"
     ]
    },
    {
     "name": "stdout",
     "output_type": "stream",
     "text": [
      "{'average_precision_train': 0.38425063533572773,\n",
      " 'average_precision_valid': 0.3638452098738139,\n",
      " 'epoch': 13,\n",
      " 'fold': 2,\n",
      " 'loss_train': 0.3535240007163975,\n",
      " 'loss_valid': 0.37205526345181017,\n",
      " 'roc_auc_train': 0.8232065812232827,\n",
      " 'roc_auc_valid': 0.7970240746503945}\n"
     ]
    },
    {
     "name": "stderr",
     "output_type": "stream",
     "text": [
      "loss: 0.55442, smth: 0.34537: 100%|██████████| 507/507 [02:36<00:00,  3.23it/s]\n",
      "loss: 0.28861, smth: 0.37098: 100%|██████████| 53/53 [00:11<00:00,  4.53it/s]\n",
      "  0%|          | 0/507 [00:00<?, ?it/s]"
     ]
    },
    {
     "name": "stdout",
     "output_type": "stream",
     "text": [
      "Epoch    15: reducing learning rate of group 0 to 1.0000e-06.\n",
      "{'average_precision_train': 0.38852088724826145,\n",
      " 'average_precision_valid': 0.3631522953115773,\n",
      " 'epoch': 14,\n",
      " 'fold': 2,\n",
      " 'loss_train': 0.3516131271507143,\n",
      " 'loss_valid': 0.38638722727883534,\n",
      " 'roc_auc_train': 0.8246700514546795,\n",
      " 'roc_auc_valid': 0.7983268542436348}\n"
     ]
    },
    {
     "name": "stderr",
     "output_type": "stream",
     "text": [
      "loss: 0.38263, smth: 0.30613: 100%|██████████| 507/507 [02:36<00:00,  3.24it/s]\n",
      "loss: 0.28767, smth: 0.35584: 100%|██████████| 53/53 [00:11<00:00,  4.51it/s]\n"
     ]
    },
    {
     "name": "stdout",
     "output_type": "stream",
     "text": [
      "{'average_precision_train': 0.3886482245213934,\n",
      " 'average_precision_valid': 0.3672409210045738,\n",
      " 'epoch': 15,\n",
      " 'fold': 2,\n",
      " 'loss_train': 0.3497669334271721,\n",
      " 'loss_valid': 0.370872659503289,\n",
      " 'roc_auc_train': 0.8283091696043909,\n",
      " 'roc_auc_valid': 0.8002349035036022}\n",
      "roc_auc_max (0.799515 --> 0.800235). Saving model ...\n"
     ]
    },
    {
     "name": "stderr",
     "output_type": "stream",
     "text": [
      "loss: 0.20400, smth: 0.34859: 100%|██████████| 507/507 [02:37<00:00,  3.23it/s]\n",
      "loss: 0.28912, smth: 0.35550: 100%|██████████| 53/53 [00:11<00:00,  4.53it/s]\n"
     ]
    },
    {
     "name": "stdout",
     "output_type": "stream",
     "text": [
      "Epoch    17: reducing learning rate of group 0 to 1.0000e-07.\n",
      "{'average_precision_train': 0.3917723058333238,\n",
      " 'average_precision_valid': 0.367570711735387,\n",
      " 'epoch': 16,\n",
      " 'fold': 2,\n",
      " 'loss_train': 0.3489365573729989,\n",
      " 'loss_valid': 0.3699574959727953,\n",
      " 'roc_auc_train': 0.8286027960616887,\n",
      " 'roc_auc_valid': 0.8005045777448573}\n",
      "roc_auc_max (0.800235 --> 0.800505). Saving model ...\n"
     ]
    },
    {
     "name": "stderr",
     "output_type": "stream",
     "text": [
      "loss: 0.25180, smth: 0.31756: 100%|██████████| 507/507 [02:45<00:00,  3.06it/s]\n",
      "loss: 0.28907, smth: 0.35533: 100%|██████████| 53/53 [00:11<00:00,  4.50it/s]\n",
      "  0%|          | 0/507 [00:00<?, ?it/s]"
     ]
    },
    {
     "name": "stdout",
     "output_type": "stream",
     "text": [
      "{'average_precision_train': 0.39060854762511105,\n",
      " 'average_precision_valid': 0.36769696496709675,\n",
      " 'epoch': 17,\n",
      " 'fold': 2,\n",
      " 'loss_train': 0.34659437159226963,\n",
      " 'loss_valid': 0.3698512023349978,\n",
      " 'roc_auc_train': 0.8305138143259044,\n",
      " 'roc_auc_valid': 0.8004534382877477}\n"
     ]
    },
    {
     "name": "stderr",
     "output_type": "stream",
     "text": [
      "loss: 0.27375, smth: 0.33697: 100%|██████████| 507/507 [02:39<00:00,  3.18it/s]\n",
      "loss: 0.28886, smth: 0.35541: 100%|██████████| 53/53 [00:12<00:00,  4.40it/s]\n"
     ]
    },
    {
     "name": "stdout",
     "output_type": "stream",
     "text": [
      "Epoch    19: reducing learning rate of group 0 to 1.0000e-08.\n",
      "{'average_precision_train': 0.3933965880384694,\n",
      " 'average_precision_valid': 0.3677221309910788,\n",
      " 'epoch': 18,\n",
      " 'fold': 2,\n",
      " 'loss_train': 0.34652465448165554,\n",
      " 'loss_valid': 0.3698976751206056,\n",
      " 'roc_auc_train': 0.8324331371384439,\n",
      " 'roc_auc_valid': 0.8005183150681336}\n",
      "roc_auc_max (0.800505 --> 0.800518). Saving model ...\n"
     ]
    },
    {
     "name": "stderr",
     "output_type": "stream",
     "text": [
      "loss: 0.24880, smth: 0.33866: 100%|██████████| 507/507 [02:39<00:00,  3.18it/s]\n",
      "loss: 0.28887, smth: 0.35539: 100%|██████████| 53/53 [00:11<00:00,  4.42it/s]\n"
     ]
    },
    {
     "name": "stdout",
     "output_type": "stream",
     "text": [
      "{'average_precision_train': 0.3917399149950184,\n",
      " 'average_precision_valid': 0.3677462467191788,\n",
      " 'epoch': 19,\n",
      " 'fold': 2,\n",
      " 'loss_train': 0.3479301828516306,\n",
      " 'loss_valid': 0.3698841043800678,\n",
      " 'roc_auc_train': 0.8298664330892378,\n",
      " 'roc_auc_valid': 0.8005131869486914}\n"
     ]
    },
    {
     "name": "stderr",
     "output_type": "stream",
     "text": [
      "\r",
      "  0%|          | 0/507 [00:00<?, ?it/s]"
     ]
    },
    {
     "name": "stdout",
     "output_type": "stream",
     "text": [
      "-----------------------------------------------------------------------------------------------------\n",
      "                                        FOLD:  3\n",
      "-----------------------------------------------------------------------------------------------------\n"
     ]
    },
    {
     "name": "stderr",
     "output_type": "stream",
     "text": [
      "loss: 0.46864, smth: 0.42939: 100%|██████████| 507/507 [02:44<00:00,  3.08it/s]\n",
      "loss: 0.43102, smth: 0.39205: 100%|██████████| 53/53 [00:12<00:00,  4.35it/s]\n"
     ]
    },
    {
     "name": "stdout",
     "output_type": "stream",
     "text": [
      "{'average_precision_train': 0.23896783606223101,\n",
      " 'average_precision_valid': 0.33069704617110757,\n",
      " 'epoch': 0,\n",
      " 'fold': 3,\n",
      " 'loss_train': 0.4736536477032968,\n",
      " 'loss_valid': 0.3974775165881751,\n",
      " 'roc_auc_train': 0.6140968089408892,\n",
      " 'roc_auc_valid': 0.7586636256790682}\n",
      "roc_auc_max (0.000000 --> 0.758664). Saving model ...\n",
      "ap_max (0.000000 --> 0.330697). Saving model ...\n"
     ]
    },
    {
     "name": "stderr",
     "output_type": "stream",
     "text": [
      "loss: 0.41872, smth: 0.39839: 100%|██████████| 507/507 [02:41<00:00,  3.15it/s]\n",
      "loss: 0.47714, smth: 0.40365: 100%|██████████| 53/53 [00:12<00:00,  4.41it/s]\n",
      "  0%|          | 0/507 [00:00<?, ?it/s]"
     ]
    },
    {
     "name": "stdout",
     "output_type": "stream",
     "text": [
      "{'average_precision_train': 0.27432203153923623,\n",
      " 'average_precision_valid': 0.3277589965447059,\n",
      " 'epoch': 1,\n",
      " 'fold': 3,\n",
      " 'loss_train': 0.43508226258397337,\n",
      " 'loss_valid': 0.405082477151223,\n",
      " 'roc_auc_train': 0.6841641756581242,\n",
      " 'roc_auc_valid': 0.7544264805194376}\n"
     ]
    },
    {
     "name": "stderr",
     "output_type": "stream",
     "text": [
      "loss: 0.31864, smth: 0.43365: 100%|██████████| 507/507 [02:39<00:00,  3.18it/s]\n",
      "loss: 0.49135, smth: 0.41907: 100%|██████████| 53/53 [00:11<00:00,  4.43it/s]\n"
     ]
    },
    {
     "name": "stdout",
     "output_type": "stream",
     "text": [
      "Epoch     3: reducing learning rate of group 0 to 1.0000e-05.\n",
      "{'average_precision_train': 0.29571411507646844,\n",
      " 'average_precision_valid': 0.33582711119294323,\n",
      " 'epoch': 2,\n",
      " 'fold': 3,\n",
      " 'loss_train': 0.4177739465612867,\n",
      " 'loss_valid': 0.4198940025185639,\n",
      " 'roc_auc_train': 0.7221843069503573,\n",
      " 'roc_auc_valid': 0.7712030818715245}\n",
      "roc_auc_max (0.758664 --> 0.771203). Saving model ...\n",
      "ap_max (0.330697 --> 0.335827). Saving model ...\n"
     ]
    },
    {
     "name": "stderr",
     "output_type": "stream",
     "text": [
      "loss: 0.30801, smth: 0.35856: 100%|██████████| 507/507 [02:39<00:00,  3.19it/s]\n",
      "loss: 0.44638, smth: 0.36847: 100%|██████████| 53/53 [00:12<00:00,  4.41it/s]\n"
     ]
    },
    {
     "name": "stdout",
     "output_type": "stream",
     "text": [
      "{'average_precision_train': 0.34037206564010475,\n",
      " 'average_precision_valid': 0.35893437687463176,\n",
      " 'epoch': 3,\n",
      " 'fold': 3,\n",
      " 'loss_train': 0.3843827113744305,\n",
      " 'loss_valid': 0.37066484284850787,\n",
      " 'roc_auc_train': 0.7769916376738426,\n",
      " 'roc_auc_valid': 0.8023044088293585}\n",
      "roc_auc_max (0.771203 --> 0.802304). Saving model ...\n",
      "ap_max (0.335827 --> 0.358934). Saving model ...\n"
     ]
    },
    {
     "name": "stderr",
     "output_type": "stream",
     "text": [
      "loss: 0.48273, smth: 0.35917: 100%|██████████| 507/507 [02:38<00:00,  3.20it/s]\n",
      "loss: 0.41819, smth: 0.36185: 100%|██████████| 53/53 [00:11<00:00,  4.42it/s]\n"
     ]
    },
    {
     "name": "stdout",
     "output_type": "stream",
     "text": [
      "{'average_precision_train': 0.3485209133321096,\n",
      " 'average_precision_valid': 0.3638452134592027,\n",
      " 'epoch': 4,\n",
      " 'fold': 3,\n",
      " 'loss_train': 0.37752218309356383,\n",
      " 'loss_valid': 0.3648992838724604,\n",
      " 'roc_auc_train': 0.7855748515155188,\n",
      " 'roc_auc_valid': 0.809032296021526}\n",
      "roc_auc_max (0.802304 --> 0.809032). Saving model ...\n",
      "ap_max (0.358934 --> 0.363845). Saving model ...\n"
     ]
    },
    {
     "name": "stderr",
     "output_type": "stream",
     "text": [
      "loss: 0.55930, smth: 0.36712: 100%|██████████| 507/507 [02:44<00:00,  3.08it/s]\n",
      "loss: 0.45933, smth: 0.38031: 100%|██████████| 53/53 [00:12<00:00,  4.28it/s]\n",
      "  0%|          | 0/507 [00:00<?, ?it/s]"
     ]
    },
    {
     "name": "stdout",
     "output_type": "stream",
     "text": [
      "{'average_precision_train': 0.35602645949146033,\n",
      " 'average_precision_valid': 0.3601772775408874,\n",
      " 'epoch': 5,\n",
      " 'fold': 3,\n",
      " 'loss_train': 0.37307986539202564,\n",
      " 'loss_valid': 0.37970164530682116,\n",
      " 'roc_auc_train': 0.7957681223288662,\n",
      " 'roc_auc_valid': 0.8004374855408252}\n"
     ]
    },
    {
     "name": "stderr",
     "output_type": "stream",
     "text": [
      "loss: 0.44879, smth: 0.37231: 100%|██████████| 507/507 [02:41<00:00,  3.13it/s]\n",
      "loss: 0.40897, smth: 0.35906: 100%|██████████| 53/53 [00:12<00:00,  4.32it/s]\n"
     ]
    },
    {
     "name": "stdout",
     "output_type": "stream",
     "text": [
      "Epoch     7: reducing learning rate of group 0 to 1.0000e-06.\n",
      "{'average_precision_train': 0.36265085120184076,\n",
      " 'average_precision_valid': 0.3660365351214749,\n",
      " 'epoch': 6,\n",
      " 'fold': 3,\n",
      " 'loss_train': 0.3685254559978931,\n",
      " 'loss_valid': 0.3649297002351509,\n",
      " 'roc_auc_train': 0.8010484205464866,\n",
      " 'roc_auc_valid': 0.8112789936922302}\n",
      "roc_auc_max (0.809032 --> 0.811279). Saving model ...\n",
      "ap_max (0.363845 --> 0.366037). Saving model ...\n"
     ]
    },
    {
     "name": "stderr",
     "output_type": "stream",
     "text": [
      "loss: 0.28231, smth: 0.35248: 100%|██████████| 507/507 [02:39<00:00,  3.18it/s]\n",
      "loss: 0.40883, smth: 0.35832: 100%|██████████| 53/53 [00:11<00:00,  4.42it/s]\n"
     ]
    },
    {
     "name": "stdout",
     "output_type": "stream",
     "text": [
      "{'average_precision_train': 0.3673343175243142,\n",
      " 'average_precision_valid': 0.3658823416560988,\n",
      " 'epoch': 7,\n",
      " 'fold': 3,\n",
      " 'loss_train': 0.3661278880970953,\n",
      " 'loss_valid': 0.3625203913675164,\n",
      " 'roc_auc_train': 0.8037291473381458,\n",
      " 'roc_auc_valid': 0.8101584082702129}\n"
     ]
    },
    {
     "name": "stderr",
     "output_type": "stream",
     "text": [
      "loss: 0.25834, smth: 0.32882: 100%|██████████| 507/507 [02:39<00:00,  3.18it/s]\n",
      "loss: 0.40519, smth: 0.35752: 100%|██████████| 53/53 [00:12<00:00,  4.39it/s]\n"
     ]
    },
    {
     "name": "stdout",
     "output_type": "stream",
     "text": [
      "{'average_precision_train': 0.37234678027469736,\n",
      " 'average_precision_valid': 0.3662682666407937,\n",
      " 'epoch': 8,\n",
      " 'fold': 3,\n",
      " 'loss_train': 0.3622279313982591,\n",
      " 'loss_valid': 0.362178291071136,\n",
      " 'roc_auc_train': 0.8108928305269653,\n",
      " 'roc_auc_valid': 0.8106219359701121}\n",
      "ap_max (0.366037 --> 0.366268). Saving model ...\n"
     ]
    },
    {
     "name": "stderr",
     "output_type": "stream",
     "text": [
      "loss: 0.43110, smth: 0.36162: 100%|██████████| 507/507 [02:42<00:00,  3.12it/s]\n",
      "loss: 0.40240, smth: 0.35737: 100%|██████████| 53/53 [00:12<00:00,  4.15it/s]\n"
     ]
    },
    {
     "name": "stdout",
     "output_type": "stream",
     "text": [
      "{'average_precision_train': 0.3684713334060379,\n",
      " 'average_precision_valid': 0.36642071918955693,\n",
      " 'epoch': 9,\n",
      " 'fold': 3,\n",
      " 'loss_train': 0.364929216809174,\n",
      " 'loss_valid': 0.36182368307743434,\n",
      " 'roc_auc_train': 0.8035951194576141,\n",
      " 'roc_auc_valid': 0.8104589253123969}\n",
      "ap_max (0.366268 --> 0.366421). Saving model ...\n"
     ]
    },
    {
     "name": "stderr",
     "output_type": "stream",
     "text": [
      "loss: 0.46182, smth: 0.37089: 100%|██████████| 507/507 [03:16<00:00,  2.58it/s]\n",
      "loss: 0.40906, smth: 0.35959: 100%|██████████| 53/53 [00:13<00:00,  3.89it/s]\n",
      "  0%|          | 0/507 [00:00<?, ?it/s]"
     ]
    },
    {
     "name": "stdout",
     "output_type": "stream",
     "text": [
      "{'average_precision_train': 0.37767576336585806,\n",
      " 'average_precision_valid': 0.36575523773818647,\n",
      " 'epoch': 10,\n",
      " 'fold': 3,\n",
      " 'loss_train': 0.36141776891619964,\n",
      " 'loss_valid': 0.36316452639282876,\n",
      " 'roc_auc_train': 0.8122707602987005,\n",
      " 'roc_auc_valid': 0.8091088445830196}\n"
     ]
    },
    {
     "name": "stderr",
     "output_type": "stream",
     "text": [
      "loss: 0.18552, smth: 0.34484: 100%|██████████| 507/507 [02:39<00:00,  3.17it/s]\n",
      "loss: 0.40346, smth: 0.35742: 100%|██████████| 53/53 [00:11<00:00,  4.43it/s]\n"
     ]
    },
    {
     "name": "stdout",
     "output_type": "stream",
     "text": [
      "Epoch    12: reducing learning rate of group 0 to 1.0000e-07.\n",
      "{'average_precision_train': 0.3770459401520641,\n",
      " 'average_precision_valid': 0.3667299809377214,\n",
      " 'epoch': 11,\n",
      " 'fold': 3,\n",
      " 'loss_train': 0.3615508724364068,\n",
      " 'loss_valid': 0.361990676735932,\n",
      " 'roc_auc_train': 0.8110165340380718,\n",
      " 'roc_auc_valid': 0.8106816332944355}\n",
      "ap_max (0.366421 --> 0.366730). Saving model ...\n",
      "Early Stopping...\n"
     ]
    },
    {
     "name": "stderr",
     "output_type": "stream",
     "text": [
      "\r",
      "  0%|          | 0/507 [00:00<?, ?it/s]"
     ]
    },
    {
     "name": "stdout",
     "output_type": "stream",
     "text": [
      "-----------------------------------------------------------------------------------------------------\n",
      "                                        FOLD:  4\n",
      "-----------------------------------------------------------------------------------------------------\n"
     ]
    },
    {
     "name": "stderr",
     "output_type": "stream",
     "text": [
      "loss: 0.78984, smth: 0.40946: 100%|██████████| 507/507 [02:43<00:00,  3.09it/s]\n",
      "loss: 0.54686, smth: 0.43254: 100%|██████████| 53/53 [00:11<00:00,  4.42it/s]\n"
     ]
    },
    {
     "name": "stdout",
     "output_type": "stream",
     "text": [
      "{'average_precision_train': 0.24198643433462386,\n",
      " 'average_precision_valid': 0.29934216341416414,\n",
      " 'epoch': 0,\n",
      " 'fold': 4,\n",
      " 'loss_train': 0.47395908418139054,\n",
      " 'loss_valid': 0.4320454760542456,\n",
      " 'roc_auc_train': 0.6180868758586403,\n",
      " 'roc_auc_valid': 0.7169123320768293}\n",
      "roc_auc_max (0.000000 --> 0.716912). Saving model ...\n",
      "ap_max (0.000000 --> 0.299342). Saving model ...\n"
     ]
    },
    {
     "name": "stderr",
     "output_type": "stream",
     "text": [
      "loss: 0.54405, smth: 0.44325: 100%|██████████| 507/507 [02:39<00:00,  3.17it/s]\n",
      "loss: 0.53596, smth: 0.42554: 100%|██████████| 53/53 [00:11<00:00,  4.42it/s]\n"
     ]
    },
    {
     "name": "stdout",
     "output_type": "stream",
     "text": [
      "{'average_precision_train': 0.27925759259042837,\n",
      " 'average_precision_valid': 0.3170742280117626,\n",
      " 'epoch': 1,\n",
      " 'fold': 4,\n",
      " 'loss_train': 0.43185628712529966,\n",
      " 'loss_valid': 0.4255658882968831,\n",
      " 'roc_auc_train': 0.6869556099941238,\n",
      " 'roc_auc_valid': 0.7439557876915501}\n",
      "roc_auc_max (0.716912 --> 0.743956). Saving model ...\n",
      "ap_max (0.299342 --> 0.317074). Saving model ...\n"
     ]
    },
    {
     "name": "stderr",
     "output_type": "stream",
     "text": [
      "loss: 0.42124, smth: 0.45143: 100%|██████████| 507/507 [02:40<00:00,  3.16it/s]\n",
      "loss: 0.56468, smth: 0.45085: 100%|██████████| 53/53 [00:12<00:00,  4.37it/s]\n"
     ]
    },
    {
     "name": "stdout",
     "output_type": "stream",
     "text": [
      "{'average_precision_train': 0.2921045641106659,\n",
      " 'average_precision_valid': 0.32583804606416766,\n",
      " 'epoch': 2,\n",
      " 'fold': 4,\n",
      " 'loss_train': 0.42043215912239557,\n",
      " 'loss_valid': 0.45356070151868855,\n",
      " 'roc_auc_train': 0.7099646292726436,\n",
      " 'roc_auc_valid': 0.7576867340532262}\n",
      "roc_auc_max (0.743956 --> 0.757687). Saving model ...\n",
      "ap_max (0.317074 --> 0.325838). Saving model ...\n"
     ]
    },
    {
     "name": "stderr",
     "output_type": "stream",
     "text": [
      "loss: 0.40003, smth: 0.37644: 100%|██████████| 507/507 [02:39<00:00,  3.19it/s]\n",
      "loss: 0.61558, smth: 0.44751: 100%|██████████| 53/53 [00:11<00:00,  4.51it/s]\n"
     ]
    },
    {
     "name": "stdout",
     "output_type": "stream",
     "text": [
      "Epoch     4: reducing learning rate of group 0 to 1.0000e-05.\n",
      "{'average_precision_train': 0.30278637956258747,\n",
      " 'average_precision_valid': 0.32849273097789805,\n",
      " 'epoch': 3,\n",
      " 'fold': 4,\n",
      " 'loss_train': 0.41089483152127126,\n",
      " 'loss_valid': 0.44358145178488967,\n",
      " 'roc_auc_train': 0.7328583529917335,\n",
      " 'roc_auc_valid': 0.7524851451134995}\n",
      "ap_max (0.325838 --> 0.328493). Saving model ...\n"
     ]
    },
    {
     "name": "stderr",
     "output_type": "stream",
     "text": [
      "loss: 0.51447, smth: 0.40158: 100%|██████████| 507/507 [02:38<00:00,  3.21it/s]\n",
      "loss: 0.59471, smth: 0.38637: 100%|██████████| 53/53 [00:11<00:00,  4.50it/s]\n"
     ]
    },
    {
     "name": "stdout",
     "output_type": "stream",
     "text": [
      "{'average_precision_train': 0.33314052518178444,\n",
      " 'average_precision_valid': 0.3536419385127034,\n",
      " 'epoch': 4,\n",
      " 'fold': 4,\n",
      " 'loss_train': 0.3840539672759158,\n",
      " 'loss_valid': 0.3790390854174236,\n",
      " 'roc_auc_train': 0.7727003566629748,\n",
      " 'roc_auc_valid': 0.7883497414942237}\n",
      "roc_auc_max (0.757687 --> 0.788350). Saving model ...\n",
      "ap_max (0.328493 --> 0.353642). Saving model ...\n"
     ]
    },
    {
     "name": "stderr",
     "output_type": "stream",
     "text": [
      "loss: 0.46142, smth: 0.36798: 100%|██████████| 507/507 [02:37<00:00,  3.22it/s]\n",
      "loss: 0.58598, smth: 0.38379: 100%|██████████| 53/53 [00:11<00:00,  4.49it/s]\n"
     ]
    },
    {
     "name": "stdout",
     "output_type": "stream",
     "text": [
      "{'average_precision_train': 0.34352340303754064,\n",
      " 'average_precision_valid': 0.3590069552699404,\n",
      " 'epoch': 5,\n",
      " 'fold': 4,\n",
      " 'loss_train': 0.37725313357582696,\n",
      " 'loss_valid': 0.3762019397515171,\n",
      " 'roc_auc_train': 0.7841113378296531,\n",
      " 'roc_auc_valid': 0.7944214815999238}\n",
      "roc_auc_max (0.788350 --> 0.794421). Saving model ...\n",
      "ap_max (0.353642 --> 0.359007). Saving model ...\n"
     ]
    },
    {
     "name": "stderr",
     "output_type": "stream",
     "text": [
      "loss: 0.53879, smth: 0.41626: 100%|██████████| 507/507 [02:37<00:00,  3.22it/s]\n",
      "loss: 0.56974, smth: 0.38094: 100%|██████████| 53/53 [00:11<00:00,  4.51it/s]\n"
     ]
    },
    {
     "name": "stdout",
     "output_type": "stream",
     "text": [
      "{'average_precision_train': 0.34761879725237943,\n",
      " 'average_precision_valid': 0.35940487355741063,\n",
      " 'epoch': 6,\n",
      " 'fold': 4,\n",
      " 'loss_train': 0.3721918456212303,\n",
      " 'loss_valid': 0.3733438939418433,\n",
      " 'roc_auc_train': 0.7931665741703124,\n",
      " 'roc_auc_valid': 0.7971391156325678}\n",
      "roc_auc_max (0.794421 --> 0.797139). Saving model ...\n",
      "ap_max (0.359007 --> 0.359405). Saving model ...\n"
     ]
    },
    {
     "name": "stderr",
     "output_type": "stream",
     "text": [
      "loss: 0.34887, smth: 0.36551: 100%|██████████| 507/507 [02:37<00:00,  3.21it/s]\n",
      "loss: 0.57699, smth: 0.38124: 100%|██████████| 53/53 [00:11<00:00,  4.53it/s]\n"
     ]
    },
    {
     "name": "stdout",
     "output_type": "stream",
     "text": [
      "{'average_precision_train': 0.3514426994250926,\n",
      " 'average_precision_valid': 0.3648345935636545,\n",
      " 'epoch': 7,\n",
      " 'fold': 4,\n",
      " 'loss_train': 0.3710393161169406,\n",
      " 'loss_valid': 0.37374780481716374,\n",
      " 'roc_auc_train': 0.7988504938297714,\n",
      " 'roc_auc_valid': 0.7963572192008287}\n",
      "ap_max (0.359405 --> 0.364835). Saving model ...\n"
     ]
    },
    {
     "name": "stderr",
     "output_type": "stream",
     "text": [
      "loss: 0.35952, smth: 0.37315: 100%|██████████| 507/507 [02:36<00:00,  3.23it/s]\n",
      "loss: 0.56679, smth: 0.38193: 100%|██████████| 53/53 [00:11<00:00,  4.53it/s]\n"
     ]
    },
    {
     "name": "stdout",
     "output_type": "stream",
     "text": [
      "{'average_precision_train': 0.35173166424244706,\n",
      " 'average_precision_valid': 0.36900908713941477,\n",
      " 'epoch': 8,\n",
      " 'fold': 4,\n",
      " 'loss_train': 0.3682760123082637,\n",
      " 'loss_valid': 0.3728134426868187,\n",
      " 'roc_auc_train': 0.7986133882768321,\n",
      " 'roc_auc_valid': 0.8009570184802175}\n",
      "roc_auc_max (0.797139 --> 0.800957). Saving model ...\n",
      "ap_max (0.364835 --> 0.369009). Saving model ...\n"
     ]
    },
    {
     "name": "stderr",
     "output_type": "stream",
     "text": [
      "loss: 0.58538, smth: 0.37073: 100%|██████████| 507/507 [02:36<00:00,  3.24it/s]\n",
      "loss: 0.58567, smth: 0.38136: 100%|██████████| 53/53 [00:11<00:00,  4.54it/s]\n"
     ]
    },
    {
     "name": "stdout",
     "output_type": "stream",
     "text": [
      "{'average_precision_train': 0.3524881061277596,\n",
      " 'average_precision_valid': 0.37098066891409937,\n",
      " 'epoch': 9,\n",
      " 'fold': 4,\n",
      " 'loss_train': 0.37025687839152543,\n",
      " 'loss_valid': 0.37127713240542504,\n",
      " 'roc_auc_train': 0.796760144291458,\n",
      " 'roc_auc_valid': 0.80469399652517}\n",
      "roc_auc_max (0.800957 --> 0.804694). Saving model ...\n",
      "ap_max (0.369009 --> 0.370981). Saving model ...\n"
     ]
    },
    {
     "name": "stderr",
     "output_type": "stream",
     "text": [
      "loss: 0.19016, smth: 0.36899: 100%|██████████| 507/507 [02:36<00:00,  3.23it/s]\n",
      "loss: 0.57632, smth: 0.38644: 100%|██████████| 53/53 [00:11<00:00,  4.48it/s]\n",
      "  0%|          | 0/507 [00:00<?, ?it/s]"
     ]
    },
    {
     "name": "stdout",
     "output_type": "stream",
     "text": [
      "{'average_precision_train': 0.3569988715041,\n",
      " 'average_precision_valid': 0.36852812385910466,\n",
      " 'epoch': 10,\n",
      " 'fold': 4,\n",
      " 'loss_train': 0.365173851024117,\n",
      " 'loss_valid': 0.37664990576933016,\n",
      " 'roc_auc_train': 0.8027235781902322,\n",
      " 'roc_auc_valid': 0.8042625350432901}\n"
     ]
    },
    {
     "name": "stderr",
     "output_type": "stream",
     "text": [
      "loss: 0.35059, smth: 0.34208: 100%|██████████| 507/507 [02:36<00:00,  3.23it/s]\n",
      "loss: 0.57617, smth: 0.38058: 100%|██████████| 53/53 [00:11<00:00,  4.53it/s]\n"
     ]
    },
    {
     "name": "stdout",
     "output_type": "stream",
     "text": [
      "{'average_precision_train': 0.3585336723571833,\n",
      " 'average_precision_valid': 0.37435477060903727,\n",
      " 'epoch': 11,\n",
      " 'fold': 4,\n",
      " 'loss_train': 0.36555663553568035,\n",
      " 'loss_valid': 0.37056516785666627,\n",
      " 'roc_auc_train': 0.8031874802777231,\n",
      " 'roc_auc_valid': 0.8088047886550236}\n",
      "roc_auc_max (0.804694 --> 0.808805). Saving model ...\n",
      "ap_max (0.370981 --> 0.374355). Saving model ...\n"
     ]
    },
    {
     "name": "stderr",
     "output_type": "stream",
     "text": [
      "loss: 0.35498, smth: 0.36267: 100%|██████████| 507/507 [02:36<00:00,  3.23it/s]\n",
      "loss: 0.57821, smth: 0.38143: 100%|██████████| 53/53 [00:11<00:00,  4.52it/s]\n",
      "  0%|          | 0/507 [00:00<?, ?it/s]"
     ]
    },
    {
     "name": "stdout",
     "output_type": "stream",
     "text": [
      "{'average_precision_train': 0.36211186872284334,\n",
      " 'average_precision_valid': 0.3720506147082387,\n",
      " 'epoch': 12,\n",
      " 'fold': 4,\n",
      " 'loss_train': 0.36266521324772805,\n",
      " 'loss_valid': 0.37084921266672743,\n",
      " 'roc_auc_train': 0.8047210834328805,\n",
      " 'roc_auc_valid': 0.8071908142141495}\n"
     ]
    },
    {
     "name": "stderr",
     "output_type": "stream",
     "text": [
      "loss: 0.37582, smth: 0.38544: 100%|██████████| 507/507 [02:36<00:00,  3.23it/s]\n",
      "loss: 0.56556, smth: 0.37752: 100%|██████████| 53/53 [00:11<00:00,  4.52it/s]\n"
     ]
    },
    {
     "name": "stdout",
     "output_type": "stream",
     "text": [
      "{'average_precision_train': 0.36397876793690953,\n",
      " 'average_precision_valid': 0.3773674580633346,\n",
      " 'epoch': 13,\n",
      " 'fold': 4,\n",
      " 'loss_train': 0.361777499979417,\n",
      " 'loss_valid': 0.3659128836303387,\n",
      " 'roc_auc_train': 0.8079896300541205,\n",
      " 'roc_auc_valid': 0.8108056355922816}\n",
      "roc_auc_max (0.808805 --> 0.810806). Saving model ...\n",
      "ap_max (0.374355 --> 0.377367). Saving model ...\n"
     ]
    },
    {
     "name": "stderr",
     "output_type": "stream",
     "text": [
      "loss: 0.28019, smth: 0.34598: 100%|██████████| 507/507 [02:36<00:00,  3.24it/s]\n",
      "loss: 0.56455, smth: 0.37784: 100%|██████████| 53/53 [00:11<00:00,  4.51it/s]\n",
      "  0%|          | 0/507 [00:00<?, ?it/s]"
     ]
    },
    {
     "name": "stdout",
     "output_type": "stream",
     "text": [
      "{'average_precision_train': 0.37026610188163717,\n",
      " 'average_precision_valid': 0.37304031913758573,\n",
      " 'epoch': 14,\n",
      " 'fold': 4,\n",
      " 'loss_train': 0.3590517726082068,\n",
      " 'loss_valid': 0.366608516506429,\n",
      " 'roc_auc_train': 0.8129496708302637,\n",
      " 'roc_auc_valid': 0.8101580846837053}\n"
     ]
    },
    {
     "name": "stderr",
     "output_type": "stream",
     "text": [
      "loss: 0.47836, smth: 0.37428: 100%|██████████| 507/507 [02:36<00:00,  3.23it/s]\n",
      "loss: 0.57957, smth: 0.38174: 100%|██████████| 53/53 [00:11<00:00,  4.53it/s]\n",
      "  0%|          | 0/507 [00:00<?, ?it/s]"
     ]
    },
    {
     "name": "stdout",
     "output_type": "stream",
     "text": [
      "Epoch    16: reducing learning rate of group 0 to 1.0000e-06.\n",
      "{'average_precision_train': 0.3746287508647102,\n",
      " 'average_precision_valid': 0.3741675111957776,\n",
      " 'epoch': 15,\n",
      " 'fold': 4,\n",
      " 'loss_train': 0.35557828823020005,\n",
      " 'loss_valid': 0.3719672234553211,\n",
      " 'roc_auc_train': 0.8163356104685235,\n",
      " 'roc_auc_valid': 0.8071079951132298}\n"
     ]
    },
    {
     "name": "stderr",
     "output_type": "stream",
     "text": [
      "loss: 0.55371, smth: 0.32017: 100%|██████████| 507/507 [02:36<00:00,  3.23it/s]\n",
      "loss: 0.57536, smth: 0.37873: 100%|██████████| 53/53 [00:11<00:00,  4.53it/s]\n",
      "  0%|          | 0/507 [00:00<?, ?it/s]"
     ]
    },
    {
     "name": "stdout",
     "output_type": "stream",
     "text": [
      "{'average_precision_train': 0.387718304525628,\n",
      " 'average_precision_valid': 0.37644969491634334,\n",
      " 'epoch': 16,\n",
      " 'fold': 4,\n",
      " 'loss_train': 0.3478634001382239,\n",
      " 'loss_valid': 0.36804952739544633,\n",
      " 'roc_auc_train': 0.8274668391511687,\n",
      " 'roc_auc_valid': 0.8103730190957771}\n"
     ]
    },
    {
     "name": "stderr",
     "output_type": "stream",
     "text": [
      "loss: 0.33540, smth: 0.37067: 100%|██████████| 507/507 [02:36<00:00,  3.24it/s]\n",
      "loss: 0.56762, smth: 0.37699: 100%|██████████| 53/53 [00:11<00:00,  4.53it/s]\n"
     ]
    },
    {
     "name": "stdout",
     "output_type": "stream",
     "text": [
      "Epoch    18: reducing learning rate of group 0 to 1.0000e-07.\n",
      "{'average_precision_train': 0.3862647875501833,\n",
      " 'average_precision_valid': 0.3781785619438027,\n",
      " 'epoch': 17,\n",
      " 'fold': 4,\n",
      " 'loss_train': 0.3508547919506622,\n",
      " 'loss_valid': 0.3661263084636544,\n",
      " 'roc_auc_train': 0.8257697669581554,\n",
      " 'roc_auc_valid': 0.8117691709157013}\n",
      "roc_auc_max (0.810806 --> 0.811769). Saving model ...\n",
      "ap_max (0.377367 --> 0.378179). Saving model ...\n"
     ]
    },
    {
     "name": "stderr",
     "output_type": "stream",
     "text": [
      "loss: 0.37571, smth: 0.32651: 100%|██████████| 507/507 [02:36<00:00,  3.23it/s]\n",
      "loss: 0.56801, smth: 0.37711: 100%|██████████| 53/53 [00:11<00:00,  4.54it/s]\n"
     ]
    },
    {
     "name": "stdout",
     "output_type": "stream",
     "text": [
      "{'average_precision_train': 0.38658269895245706,\n",
      " 'average_precision_valid': 0.37824839243212827,\n",
      " 'epoch': 18,\n",
      " 'fold': 4,\n",
      " 'loss_train': 0.3488562889911484,\n",
      " 'loss_valid': 0.36623518000233846,\n",
      " 'roc_auc_train': 0.823942537122051,\n",
      " 'roc_auc_valid': 0.8117198557511925}\n",
      "ap_max (0.378179 --> 0.378248). Saving model ...\n"
     ]
    },
    {
     "name": "stderr",
     "output_type": "stream",
     "text": [
      "loss: 0.45424, smth: 0.36093: 100%|██████████| 507/507 [02:37<00:00,  3.22it/s]\n",
      "loss: 0.56793, smth: 0.37705: 100%|██████████| 53/53 [00:11<00:00,  4.54it/s]\n"
     ]
    },
    {
     "name": "stdout",
     "output_type": "stream",
     "text": [
      "Epoch    20: reducing learning rate of group 0 to 1.0000e-08.\n",
      "{'average_precision_train': 0.3835330991767607,\n",
      " 'average_precision_valid': 0.37836956887227396,\n",
      " 'epoch': 19,\n",
      " 'fold': 4,\n",
      " 'loss_train': 0.35039714625366103,\n",
      " 'loss_valid': 0.36616249494957476,\n",
      " 'roc_auc_train': 0.8243803567202295,\n",
      " 'roc_auc_valid': 0.8118128752215996}\n",
      "roc_auc_max (0.811769 --> 0.811813). Saving model ...\n",
      "ap_max (0.378248 --> 0.378370). Saving model ...\n"
     ]
    }
   ],
   "source": [
    "for fold in CFG.folds:\n",
    "    train_loader, valid_loader = prepare_train_valid_dataloader(\n",
    "        df=df_train, fold=fold, target_cols=CFG.target_columns,\n",
    "        train_transform=train_transform, valid_transform=valid_transform,\n",
    "        train_batch_size=CFG.train_batch_size, valid_batch_size=CFG.valid_batch_size,\n",
    "        num_workers=CFG.num_workers\n",
    "    )\n",
    "    \n",
    "#     model = CovidEffnetModel(model_name=CFG.kernel_type, pretrained=True).to(device)\n",
    "    model = CovidGeneralModel(model_name=CFG.kernel_type, pretrained=True).to(device)\n",
    "    optimizer = optim.Adam(model.parameters(), lr=CFG.init_lr, weight_decay=CFG.weight_decay)\n",
    "    scheduler = ReduceLROnPlateau(\n",
    "        optimizer, mode='min', patience=1, min_lr=1e-8, factor=0.1, verbose=True, eps=1e-8\n",
    "    )\n",
    "\n",
    "    num_epochs = CFG.n_epochs\n",
    "\n",
    "    print(\"-----------------------------------------------------------------------------------------------------\")\n",
    "    print(\"                                        FOLD: \", fold)\n",
    "    print(\"-----------------------------------------------------------------------------------------------------\")\n",
    "    \n",
    "    roc_auc_max = 0.0\n",
    "    loss_min = 99999\n",
    "    ap_max = 0.0\n",
    "    not_improving = 0\n",
    "    metrics_list = list()\n",
    "    \n",
    "    for epoch in range(num_epochs):\n",
    "        \n",
    "        loss_train, roc_auc_train, average_precision_train = train_one_epoch(\n",
    "            model, device, criterion, optimizer, train_loader, CFG.use_amp, CFG.target_columns)\n",
    "        \n",
    "        loss_valid, roc_auc_valid, average_precision_valid = valid_func(\n",
    "            model, device, criterion, valid_loader, CFG.target_columns)\n",
    "        \n",
    "        scheduler.step(loss_valid)\n",
    "        \n",
    "        metrics_dictionary = {}\n",
    "        metrics_dictionary['epoch'] = epoch\n",
    "        metrics_dictionary['loss_train'] = loss_train\n",
    "        metrics_dictionary['loss_valid'] = loss_valid\n",
    "        metrics_dictionary['roc_auc_train'] = roc_auc_train\n",
    "        metrics_dictionary['roc_auc_valid'] = roc_auc_valid\n",
    "        metrics_dictionary['average_precision_train'] = average_precision_train\n",
    "        metrics_dictionary['average_precision_valid'] = average_precision_valid\n",
    "        metrics_dictionary['fold'] = fold\n",
    "        pprint.pprint(metrics_dictionary)\n",
    "        metrics_list.append(metrics_dictionary)\n",
    "        \n",
    "        not_improving += 1\n",
    "        if roc_auc_valid > roc_auc_max:\n",
    "            print(f'roc_auc_max ({roc_auc_max:.6f} --> {roc_auc_valid:.6f}). Saving model ...')\n",
    "            torch.save(model.state_dict(), f'{CFG.model_dir}{CFG.kernel_type}_fold{fold}_best_AUC.pth')\n",
    "            roc_auc_max = roc_auc_valid\n",
    "            not_improving = 0\n",
    "\n",
    "        if loss_valid < loss_min:\n",
    "            loss_min = loss_valid\n",
    "            torch.save(model.state_dict(), f'{CFG.model_dir}{CFG.kernel_type}_fold{fold}_best_loss.pth')\n",
    "\n",
    "        if average_precision_valid > ap_max:\n",
    "            print(f'ap_max ({ap_max:.6f} --> {average_precision_valid:.6f}). Saving model ...')\n",
    "            torch.save(model.state_dict(), f'{CFG.model_dir}{CFG.kernel_type}_fold{fold}_best_AP.pth')\n",
    "            ap_max = average_precision_valid\n",
    "#             not_improving = 0\n",
    "            \n",
    "        if not_improving == CFG.early_stop:\n",
    "            print('Early Stopping...')\n",
    "            break\n",
    "\n",
    "    \n",
    "    metrics = pd.DataFrame(metrics_list)\n",
    "    metrics.to_csv(f'{CFG.model_dir}{CFG.kernel_type}_fold{fold}_final.csv', index=False)\n",
    "    torch.save(model.state_dict(), f'{CFG.model_dir}{CFG.kernel_type}_fold{fold}_final.pth')\n"
   ]
  }
 ],
 "metadata": {
  "kernelspec": {
   "display_name": "covid_env",
   "language": "python",
   "name": "covid_env"
  },
  "language_info": {
   "codemirror_mode": {
    "name": "ipython",
    "version": 3
   },
   "file_extension": ".py",
   "mimetype": "text/x-python",
   "name": "python",
   "nbconvert_exporter": "python",
   "pygments_lexer": "ipython3",
   "version": "3.8.8"
  }
 },
 "nbformat": 4,
 "nbformat_minor": 5
}
